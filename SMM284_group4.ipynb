{
  "cells": [
    {
      "cell_type": "markdown",
      "id": "50f6437b",
      "metadata": {
        "id": "50f6437b"
      },
      "source": [
        "# Introduction\n",
        "\n",
        "This coursework uses a gold medal dataset called Company Bankruptcy Prediction from Kaggle.com with the usability score equal to 10. The Taiwan Economic Journal gathered these data from 1999 to 2009.  Also, the Taiwan Stock Exchange is involved to define company bankruptcy.\n",
        "\n",
        "The dataset contains 6819 entries. Each entry has 96 attributes, which are conventional accounting ratios to demostrate a company's financial stability.\n",
        "\n",
        "In this coursework, we are going to explore the characteristics of bankruptcy company, and use applied machine learning to predict companies bankruptcy. We are going to analyse the dataset in the following steps: \n",
        "\n",
        "Firstly, we will clean the dataset and go through Basic analysis to have a basic knowledge of the dataset.  \n",
        "\n",
        "Secondly, we will use 7 differences machine learning classifiers to predict the company bankruptcy. And then try to find a good model. \n",
        "\n",
        "Finally, to improve the predictiotion, we will use 3 Deep learning models to predict the company bankruptcy. And then try to find a best model among our results. "
      ]
    },
    {
      "cell_type": "markdown",
      "source": [
        "In below, there is a table of content which maps the material from each class to the analysis provided in our report."
      ],
      "metadata": {
        "id": "lIIQDphxTwAx"
      },
      "id": "lIIQDphxTwAx"
    },
    {
      "cell_type": "code",
      "source": [
        "data = [['Class 1',' Data clean including 1) handling missing data 2) text to sparse process 3) oversampling the minority class 4) data standardization'],\n",
        "        ['Class 1', 'Basic Analysis including 1) Boxplot 2) Correlation Coefficient analysis'],\n",
        "        ['Class 2 & 3 ','Basic Classifier : 1) Basic Logistic Classifier 2) Decision Tree 3)Random Forest '],\n",
        "        ['Class 2 & 3 ','Adance Classifier : 1) Support Vector Machine 2) Gradient Boosting 3)XG Boosting 4) Ensemble Modelling'],\n",
        "        ['Class 4','Not included as there is not textual data in our dataset'],\n",
        "        ['Class 5','Deep learning : 1) Simple Deep Learning Network 2) Weighted/Cost sensitive Deep Learning Network 3) Hyper-parametrization']]\n",
        "        \n",
        "print(data[0],'\\n',\n",
        "data[1],'\\n',\n",
        "data[2],'\\n',\n",
        "data[3],'\\n',\n",
        "data[4],'\\n',\n",
        "data[5],'\\n',)"
      ],
      "metadata": {
        "colab": {
          "base_uri": "https://localhost:8080/"
        },
        "id": "4v6R3nIHNNGo",
        "outputId": "7db1bcbd-0193-4442-860a-2ea9718e2b20"
      },
      "id": "4v6R3nIHNNGo",
      "execution_count": null,
      "outputs": [
        {
          "output_type": "stream",
          "name": "stdout",
          "text": [
            "['Class 1', ' Data clean including 1) handling missing data 2) text to sparse process 3) oversampling the minority class 4) data standardization'] \n",
            " ['Class 1', 'Basic Analysis including 1) Boxplot 2) Correlation Coefficient analysis'] \n",
            " ['Class 2 & 3 ', 'Basic Classifier : 1) Basic Logistic Classifier 2) Decision Tree 3)Random Forest '] \n",
            " ['Class 2 & 3 ', 'Adance Classifier : 1) Support Vector Machine 2) Gradient Boosting 3)XG Boosting 4) Ensemble Modelling'] \n",
            " ['Class 4', 'Not included as there is not textual data in our dataset'] \n",
            " ['Class 5', 'Deep learning : 1) Simple Deep Learning Network 2) Weighted/Cost sensitive Deep Learning Network 3) Hyper-parametrization'] \n",
            "\n"
          ]
        }
      ]
    },
    {
      "cell_type": "markdown",
      "id": "a086cc65",
      "metadata": {
        "id": "a086cc65"
      },
      "source": [
        "# Part 1  Data clean and basic analysis\n",
        "\n",
        "In this section, we focus on basic analysis on dataset by boxplots and correlation coeffient to understand our dataset first. Also, we clean the dataset which includes:1) handling the missing data 2) convert the textual data into numerical data 3) handling the imbalance dataset 4) data standardization"
      ]
    },
    {
      "cell_type": "code",
      "source": [
        "# load Libraries\n",
        "# core quantitative analysis packages\n",
        "import numpy as np\n",
        "import pandas as pd\n",
        "\n",
        "# visualisation\n",
        "import matplotlib.pyplot as plt # default package\n",
        "%matplotlib inline\n",
        "\n",
        "# machine learning\n",
        "\n",
        "# models ordered in order of usage in the worksheet\n",
        "# Standardize features\n",
        "from sklearn.preprocessing import StandardScaler\n",
        "# machine learning packages \n",
        "from sklearn.model_selection import train_test_split\n",
        "# finding features packages \n",
        "from sklearn.feature_selection import SelectKBest, f_classif\n"
      ],
      "metadata": {
        "id": "CAclc9zYTlf_"
      },
      "id": "CAclc9zYTlf_",
      "execution_count": null,
      "outputs": []
    },
    {
      "cell_type": "code",
      "source": [
        "# import dataset \n",
        "df = pd.read_csv('/content/data.csv') "
      ],
      "metadata": {
        "id": "8Ijuj5CrTZVK"
      },
      "id": "8Ijuj5CrTZVK",
      "execution_count": null,
      "outputs": []
    },
    {
      "cell_type": "code",
      "execution_count": null,
      "id": "1b2ee310",
      "metadata": {
        "id": "1b2ee310",
        "outputId": "f16e6f07-1198-4759-cf04-bac28e2249e4",
        "colab": {
          "base_uri": "https://localhost:8080/",
          "height": 292
        }
      },
      "outputs": [
        {
          "output_type": "execute_result",
          "data": {
            "text/plain": [
              "   Bankrupt?   ROA(C) before interest and depreciation before interest  \\\n",
              "0          1                                           0.370594          \n",
              "1          1                                           0.464291          \n",
              "\n",
              "    ROA(A) before interest and % after tax  \\\n",
              "0                                 0.424389   \n",
              "1                                 0.538214   \n",
              "\n",
              "    ROA(B) before interest and depreciation after tax  \\\n",
              "0                                            0.40575    \n",
              "1                                            0.51673    \n",
              "\n",
              "    Operating Gross Margin   Realized Sales Gross Margin  \\\n",
              "0                 0.601457                      0.601457   \n",
              "1                 0.610235                      0.610235   \n",
              "\n",
              "    Operating Profit Rate   Pre-tax net Interest Rate  \\\n",
              "0                0.998969                    0.796887   \n",
              "1                0.998946                    0.797380   \n",
              "\n",
              "    After-tax net Interest Rate   Non-industry income and expenditure/revenue  \\\n",
              "0                      0.808809                                      0.302646   \n",
              "1                      0.809301                                      0.303556   \n",
              "\n",
              "   ...   Net Income to Total Assets   Total assets to GNP price  \\\n",
              "0  ...                     0.716845                    0.009219   \n",
              "1  ...                     0.795297                    0.008323   \n",
              "\n",
              "    No-credit Interval   Gross Profit to Sales  \\\n",
              "0             0.622879                0.601453   \n",
              "1             0.623652                0.610237   \n",
              "\n",
              "    Net Income to Stockholder's Equity   Liability to Equity  \\\n",
              "0                             0.827890              0.290202   \n",
              "1                             0.839969              0.283846   \n",
              "\n",
              "    Degree of Financial Leverage (DFL)  \\\n",
              "0                             0.026601   \n",
              "1                             0.264577   \n",
              "\n",
              "    Interest Coverage Ratio (Interest expense to EBIT)   Net Income Flag  \\\n",
              "0                                           0.564050                   1   \n",
              "1                                           0.570175                   1   \n",
              "\n",
              "    Equity to Liability  \n",
              "0              0.016469  \n",
              "1              0.020794  \n",
              "\n",
              "[2 rows x 96 columns]"
            ],
            "text/html": [
              "\n",
              "  <div id=\"df-c9d9fa5f-c01d-493f-99c6-8e55e63a617b\">\n",
              "    <div class=\"colab-df-container\">\n",
              "      <div>\n",
              "<style scoped>\n",
              "    .dataframe tbody tr th:only-of-type {\n",
              "        vertical-align: middle;\n",
              "    }\n",
              "\n",
              "    .dataframe tbody tr th {\n",
              "        vertical-align: top;\n",
              "    }\n",
              "\n",
              "    .dataframe thead th {\n",
              "        text-align: right;\n",
              "    }\n",
              "</style>\n",
              "<table border=\"1\" class=\"dataframe\">\n",
              "  <thead>\n",
              "    <tr style=\"text-align: right;\">\n",
              "      <th></th>\n",
              "      <th>Bankrupt?</th>\n",
              "      <th>ROA(C) before interest and depreciation before interest</th>\n",
              "      <th>ROA(A) before interest and % after tax</th>\n",
              "      <th>ROA(B) before interest and depreciation after tax</th>\n",
              "      <th>Operating Gross Margin</th>\n",
              "      <th>Realized Sales Gross Margin</th>\n",
              "      <th>Operating Profit Rate</th>\n",
              "      <th>Pre-tax net Interest Rate</th>\n",
              "      <th>After-tax net Interest Rate</th>\n",
              "      <th>Non-industry income and expenditure/revenue</th>\n",
              "      <th>...</th>\n",
              "      <th>Net Income to Total Assets</th>\n",
              "      <th>Total assets to GNP price</th>\n",
              "      <th>No-credit Interval</th>\n",
              "      <th>Gross Profit to Sales</th>\n",
              "      <th>Net Income to Stockholder's Equity</th>\n",
              "      <th>Liability to Equity</th>\n",
              "      <th>Degree of Financial Leverage (DFL)</th>\n",
              "      <th>Interest Coverage Ratio (Interest expense to EBIT)</th>\n",
              "      <th>Net Income Flag</th>\n",
              "      <th>Equity to Liability</th>\n",
              "    </tr>\n",
              "  </thead>\n",
              "  <tbody>\n",
              "    <tr>\n",
              "      <th>0</th>\n",
              "      <td>1</td>\n",
              "      <td>0.370594</td>\n",
              "      <td>0.424389</td>\n",
              "      <td>0.40575</td>\n",
              "      <td>0.601457</td>\n",
              "      <td>0.601457</td>\n",
              "      <td>0.998969</td>\n",
              "      <td>0.796887</td>\n",
              "      <td>0.808809</td>\n",
              "      <td>0.302646</td>\n",
              "      <td>...</td>\n",
              "      <td>0.716845</td>\n",
              "      <td>0.009219</td>\n",
              "      <td>0.622879</td>\n",
              "      <td>0.601453</td>\n",
              "      <td>0.827890</td>\n",
              "      <td>0.290202</td>\n",
              "      <td>0.026601</td>\n",
              "      <td>0.564050</td>\n",
              "      <td>1</td>\n",
              "      <td>0.016469</td>\n",
              "    </tr>\n",
              "    <tr>\n",
              "      <th>1</th>\n",
              "      <td>1</td>\n",
              "      <td>0.464291</td>\n",
              "      <td>0.538214</td>\n",
              "      <td>0.51673</td>\n",
              "      <td>0.610235</td>\n",
              "      <td>0.610235</td>\n",
              "      <td>0.998946</td>\n",
              "      <td>0.797380</td>\n",
              "      <td>0.809301</td>\n",
              "      <td>0.303556</td>\n",
              "      <td>...</td>\n",
              "      <td>0.795297</td>\n",
              "      <td>0.008323</td>\n",
              "      <td>0.623652</td>\n",
              "      <td>0.610237</td>\n",
              "      <td>0.839969</td>\n",
              "      <td>0.283846</td>\n",
              "      <td>0.264577</td>\n",
              "      <td>0.570175</td>\n",
              "      <td>1</td>\n",
              "      <td>0.020794</td>\n",
              "    </tr>\n",
              "  </tbody>\n",
              "</table>\n",
              "<p>2 rows × 96 columns</p>\n",
              "</div>\n",
              "      <button class=\"colab-df-convert\" onclick=\"convertToInteractive('df-c9d9fa5f-c01d-493f-99c6-8e55e63a617b')\"\n",
              "              title=\"Convert this dataframe to an interactive table.\"\n",
              "              style=\"display:none;\">\n",
              "        \n",
              "  <svg xmlns=\"http://www.w3.org/2000/svg\" height=\"24px\"viewBox=\"0 0 24 24\"\n",
              "       width=\"24px\">\n",
              "    <path d=\"M0 0h24v24H0V0z\" fill=\"none\"/>\n",
              "    <path d=\"M18.56 5.44l.94 2.06.94-2.06 2.06-.94-2.06-.94-.94-2.06-.94 2.06-2.06.94zm-11 1L8.5 8.5l.94-2.06 2.06-.94-2.06-.94L8.5 2.5l-.94 2.06-2.06.94zm10 10l.94 2.06.94-2.06 2.06-.94-2.06-.94-.94-2.06-.94 2.06-2.06.94z\"/><path d=\"M17.41 7.96l-1.37-1.37c-.4-.4-.92-.59-1.43-.59-.52 0-1.04.2-1.43.59L10.3 9.45l-7.72 7.72c-.78.78-.78 2.05 0 2.83L4 21.41c.39.39.9.59 1.41.59.51 0 1.02-.2 1.41-.59l7.78-7.78 2.81-2.81c.8-.78.8-2.07 0-2.86zM5.41 20L4 18.59l7.72-7.72 1.47 1.35L5.41 20z\"/>\n",
              "  </svg>\n",
              "      </button>\n",
              "      \n",
              "  <style>\n",
              "    .colab-df-container {\n",
              "      display:flex;\n",
              "      flex-wrap:wrap;\n",
              "      gap: 12px;\n",
              "    }\n",
              "\n",
              "    .colab-df-convert {\n",
              "      background-color: #E8F0FE;\n",
              "      border: none;\n",
              "      border-radius: 50%;\n",
              "      cursor: pointer;\n",
              "      display: none;\n",
              "      fill: #1967D2;\n",
              "      height: 32px;\n",
              "      padding: 0 0 0 0;\n",
              "      width: 32px;\n",
              "    }\n",
              "\n",
              "    .colab-df-convert:hover {\n",
              "      background-color: #E2EBFA;\n",
              "      box-shadow: 0px 1px 2px rgba(60, 64, 67, 0.3), 0px 1px 3px 1px rgba(60, 64, 67, 0.15);\n",
              "      fill: #174EA6;\n",
              "    }\n",
              "\n",
              "    [theme=dark] .colab-df-convert {\n",
              "      background-color: #3B4455;\n",
              "      fill: #D2E3FC;\n",
              "    }\n",
              "\n",
              "    [theme=dark] .colab-df-convert:hover {\n",
              "      background-color: #434B5C;\n",
              "      box-shadow: 0px 1px 3px 1px rgba(0, 0, 0, 0.15);\n",
              "      filter: drop-shadow(0px 1px 2px rgba(0, 0, 0, 0.3));\n",
              "      fill: #FFFFFF;\n",
              "    }\n",
              "  </style>\n",
              "\n",
              "      <script>\n",
              "        const buttonEl =\n",
              "          document.querySelector('#df-c9d9fa5f-c01d-493f-99c6-8e55e63a617b button.colab-df-convert');\n",
              "        buttonEl.style.display =\n",
              "          google.colab.kernel.accessAllowed ? 'block' : 'none';\n",
              "\n",
              "        async function convertToInteractive(key) {\n",
              "          const element = document.querySelector('#df-c9d9fa5f-c01d-493f-99c6-8e55e63a617b');\n",
              "          const dataTable =\n",
              "            await google.colab.kernel.invokeFunction('convertToInteractive',\n",
              "                                                     [key], {});\n",
              "          if (!dataTable) return;\n",
              "\n",
              "          const docLinkHtml = 'Like what you see? Visit the ' +\n",
              "            '<a target=\"_blank\" href=https://colab.research.google.com/notebooks/data_table.ipynb>data table notebook</a>'\n",
              "            + ' to learn more about interactive tables.';\n",
              "          element.innerHTML = '';\n",
              "          dataTable['output_type'] = 'display_data';\n",
              "          await google.colab.output.renderOutput(dataTable, element);\n",
              "          const docLink = document.createElement('div');\n",
              "          docLink.innerHTML = docLinkHtml;\n",
              "          element.appendChild(docLink);\n",
              "        }\n",
              "      </script>\n",
              "    </div>\n",
              "  </div>\n",
              "  "
            ]
          },
          "metadata": {},
          "execution_count": 24
        }
      ],
      "source": [
        "# briefly view the dataset\n",
        "df.head(2)"
      ]
    },
    {
      "cell_type": "markdown",
      "id": "c8b4e5a8",
      "metadata": {
        "id": "c8b4e5a8"
      },
      "source": [
        "## Boxplots"
      ]
    },
    {
      "cell_type": "code",
      "execution_count": null,
      "id": "bae49202",
      "metadata": {
        "id": "bae49202"
      },
      "outputs": [],
      "source": [
        "# seperate the dataset into bankruptcy companies(0) and no bankruptcy companies(1)\n",
        "grouped = df.groupby(df['Bankrupt?'])\n",
        "\n",
        "df_not_bankrupt = grouped.get_group(0)\n",
        "\n",
        "df_bankrupt = grouped.get_group(1)"
      ]
    },
    {
      "cell_type": "code",
      "execution_count": null,
      "id": "5798d670",
      "metadata": {
        "id": "5798d670",
        "outputId": "7673e74a-0557-4a35-a13a-d93fce46cac6",
        "colab": {
          "base_uri": "https://localhost:8080/",
          "height": 483
        }
      },
      "outputs": [
        {
          "output_type": "stream",
          "name": "stderr",
          "text": [
            "/usr/local/lib/python3.7/dist-packages/matplotlib/cbook/__init__.py:1376: VisibleDeprecationWarning: Creating an ndarray from ragged nested sequences (which is a list-or-tuple of lists-or-tuples-or ndarrays with different lengths or shapes) is deprecated. If you meant to do this, you must specify 'dtype=object' when creating the ndarray.\n",
            "  X = np.atleast_1d(X.T if isinstance(X, np.ndarray) else np.asarray(X))\n"
          ]
        },
        {
          "output_type": "display_data",
          "data": {
            "text/plain": [
              "<Figure size 720x504 with 1 Axes>"
            ],
            "image/png": "[encoded data removed]"
          },
          "metadata": {
            "needs_background": "light"
          }
        }
      ],
      "source": [
        "# boxplot to have an overview of the differences between the ratios of bankruptcy companies and the ratios of not bankruptcy companies\n",
        "data,data_names = [],[]\n",
        "\n",
        "for i in df.columns :\n",
        "    if i != 'Bankrupt?':\n",
        "        data.append(df_not_bankrupt[i]) \n",
        "        data.append(df_bankrupt[i]) \n",
        "        data_names.append(\"No bankruptcy company's\" + i) \n",
        "        data_names.append(\"bankruptcy company's \" + i) \n",
        "        \n",
        "# setup the figure of boxplot\n",
        "fig = plt.figure(figsize =(10, 7))\n",
        "ax = fig.add_subplot(111)\n",
        " \n",
        "# Creating axes instance\n",
        "bp = ax.boxplot(data[:20], patch_artist = True,notch ='True', vert = 0)\n",
        "\n",
        "# x-axis labels\n",
        "ax.set_yticklabels(data_names[:20])\n",
        "\n",
        "plt.show()"
      ]
    },
    {
      "cell_type": "markdown",
      "id": "c475ab85",
      "metadata": {
        "id": "c475ab85"
      },
      "source": [
        "This boxplot has suggestes that ROA(A), ROA(B), and ROA(C) may be helpful to disguinish the bankruptcy company. Because the companies are not bankrupt have higher mediam, right skewed and smaller spread of IQR than the companies are bankrupt, they have higher and stable return on their assets than the companies are bankrupt. So, a company can use the return on asset to pay its annual debts. \n",
        "\n",
        "This can be found in Operating Gross Margin too. Higher the Operating Gross Margin indicates the higher earning relatively to net expense. So, the companies are not bankrupt have shown higher profitabiltiy than the companies are bankrupt"
      ]
    },
    {
      "cell_type": "code",
      "execution_count": null,
      "id": "e439a9be",
      "metadata": {
        "id": "e439a9be",
        "outputId": "771fea92-463e-4e58-e92c-dd189edeb207",
        "colab": {
          "base_uri": "https://localhost:8080/",
          "height": 496
        }
      },
      "outputs": [
        {
          "output_type": "stream",
          "name": "stderr",
          "text": [
            "/usr/local/lib/python3.7/dist-packages/matplotlib/cbook/__init__.py:1376: VisibleDeprecationWarning: Creating an ndarray from ragged nested sequences (which is a list-or-tuple of lists-or-tuples-or ndarrays with different lengths or shapes) is deprecated. If you meant to do this, you must specify 'dtype=object' when creating the ndarray.\n",
            "  X = np.atleast_1d(X.T if isinstance(X, np.ndarray) else np.asarray(X))\n"
          ]
        },
        {
          "output_type": "display_data",
          "data": {
            "text/plain": [
              "<Figure size 720x504 with 1 Axes>"
            ],
            "image/png": "[encoded data removed]"
          },
          "metadata": {
            "needs_background": "light"
          }
        }
      ],
      "source": [
        "# setup the figure of boxplot\n",
        "fig = plt.figure(figsize =(10, 7))\n",
        "ax = fig.add_subplot(111)\n",
        " \n",
        "# Creating axes instance\n",
        "bp = ax.boxplot(data[20:40], patch_artist = True,notch ='True', vert = 0)\n",
        "\n",
        "# x-axis labels\n",
        "ax.set_yticklabels(data_names[20:40])\n",
        "\n",
        "plt.show()"
      ]
    },
    {
      "cell_type": "markdown",
      "id": "cab338a4",
      "metadata": {
        "id": "cab338a4"
      },
      "source": [
        "This boxplot has shown the companies are not bankrupt have spend more on developement and research than the companies are bankrupt, as they have higher mediam, right skewed and larger IQR than the companies are bankrupt. The company will survive longer if it spends extra money on future development. \n",
        "\n",
        "Operating expense rate indicate how much does company spend on operation. This may not be helpful, as no bankrupt companies spense more on operation than the companies are bankrupt. "
      ]
    },
    {
      "cell_type": "code",
      "execution_count": null,
      "id": "e07d55c9",
      "metadata": {
        "id": "e07d55c9",
        "outputId": "0495eb29-6b95-4702-eba1-a8fd453bce9f",
        "colab": {
          "base_uri": "https://localhost:8080/",
          "height": 496
        }
      },
      "outputs": [
        {
          "output_type": "stream",
          "name": "stderr",
          "text": [
            "/usr/local/lib/python3.7/dist-packages/matplotlib/cbook/__init__.py:1376: VisibleDeprecationWarning: Creating an ndarray from ragged nested sequences (which is a list-or-tuple of lists-or-tuples-or ndarrays with different lengths or shapes) is deprecated. If you meant to do this, you must specify 'dtype=object' when creating the ndarray.\n",
            "  X = np.atleast_1d(X.T if isinstance(X, np.ndarray) else np.asarray(X))\n"
          ]
        },
        {
          "output_type": "display_data",
          "data": {
            "text/plain": [
              "<Figure size 720x504 with 1 Axes>"
            ],
            "image/png": "[encoded data removed]"
          },
          "metadata": {
            "needs_background": "light"
          }
        }
      ],
      "source": [
        "# setup the figure of boxplot\n",
        "fig = plt.figure(figsize =(10, 7))\n",
        "ax = fig.add_subplot(111)\n",
        " \n",
        "# Creating axes instance\n",
        "bp = ax.boxplot(data[40:60], patch_artist = True,notch ='True', vert = 0)\n",
        "\n",
        "# x-axis labels\n",
        "ax.set_yticklabels(data_names[40:60])\n",
        "\n",
        "plt.show()"
      ]
    },
    {
      "cell_type": "markdown",
      "id": "fe25bb20",
      "metadata": {
        "id": "fe25bb20"
      },
      "source": [
        "This boxplot shown that has shown the companies are not bankrupt have higer asset growth than the companies are bankrupt, as they have higher mediam, right skewed and larger IQR than the companies are bankrupt. The higher the asset growth rate indicates higher future stock return, which can prevent the company goes bankruptcy by selling its shares to buy the debts. "
      ]
    },
    {
      "cell_type": "code",
      "execution_count": null,
      "id": "2976a3c9",
      "metadata": {
        "id": "2976a3c9",
        "outputId": "1f74178c-2541-48b4-f190-7e50d59fdbd8",
        "colab": {
          "base_uri": "https://localhost:8080/",
          "height": 496
        }
      },
      "outputs": [
        {
          "output_type": "stream",
          "name": "stderr",
          "text": [
            "/usr/local/lib/python3.7/dist-packages/matplotlib/cbook/__init__.py:1376: VisibleDeprecationWarning: Creating an ndarray from ragged nested sequences (which is a list-or-tuple of lists-or-tuples-or ndarrays with different lengths or shapes) is deprecated. If you meant to do this, you must specify 'dtype=object' when creating the ndarray.\n",
            "  X = np.atleast_1d(X.T if isinstance(X, np.ndarray) else np.asarray(X))\n"
          ]
        },
        {
          "output_type": "display_data",
          "data": {
            "text/plain": [
              "<Figure size 720x504 with 1 Axes>"
            ],
            "image/png": "[encoded data removed]"
          },
          "metadata": {
            "needs_background": "light"
          }
        }
      ],
      "source": [
        "# setup the figure of boxplot\n",
        "fig = plt.figure(figsize =(10, 7))\n",
        "ax = fig.add_subplot(111)\n",
        " \n",
        "# Creating axes instance\n",
        "bp = ax.boxplot(data[60:80], patch_artist = True,notch ='True', vert = 0)\n",
        "\n",
        "# x-axis labels\n",
        "ax.set_yticklabels(data_names[60:80])\n",
        "\n",
        "plt.show()"
      ]
    },
    {
      "cell_type": "code",
      "execution_count": null,
      "id": "d7bd3de4",
      "metadata": {
        "id": "d7bd3de4",
        "outputId": "2cfa3aee-dc3d-47cb-f03b-2b4d004c95b1",
        "colab": {
          "base_uri": "https://localhost:8080/",
          "height": 496
        }
      },
      "outputs": [
        {
          "output_type": "stream",
          "name": "stderr",
          "text": [
            "/usr/local/lib/python3.7/dist-packages/matplotlib/cbook/__init__.py:1376: VisibleDeprecationWarning: Creating an ndarray from ragged nested sequences (which is a list-or-tuple of lists-or-tuples-or ndarrays with different lengths or shapes) is deprecated. If you meant to do this, you must specify 'dtype=object' when creating the ndarray.\n",
            "  X = np.atleast_1d(X.T if isinstance(X, np.ndarray) else np.asarray(X))\n"
          ]
        },
        {
          "output_type": "display_data",
          "data": {
            "text/plain": [
              "<Figure size 720x504 with 1 Axes>"
            ],
            "image/png": "[encoded data removed]"
          },
          "metadata": {
            "needs_background": "light"
          }
        }
      ],
      "source": [
        "# setup the figure of boxplot\n",
        "fig = plt.figure(figsize =(10, 7))\n",
        "ax = fig.add_subplot(111)\n",
        " \n",
        "# Creating axes instance\n",
        "bp = ax.boxplot(data[100:120], patch_artist = True,notch ='True', vert = 0)\n",
        "\n",
        "# x-axis labels\n",
        "ax.set_yticklabels(data_names[100:120])\n",
        "\n",
        "plt.show()"
      ]
    },
    {
      "cell_type": "code",
      "execution_count": null,
      "id": "5897f512",
      "metadata": {
        "id": "5897f512",
        "outputId": "2b22da2d-46bf-4910-c675-e953229006f9",
        "colab": {
          "base_uri": "https://localhost:8080/",
          "height": 496
        }
      },
      "outputs": [
        {
          "output_type": "stream",
          "name": "stderr",
          "text": [
            "/usr/local/lib/python3.7/dist-packages/matplotlib/cbook/__init__.py:1376: VisibleDeprecationWarning: Creating an ndarray from ragged nested sequences (which is a list-or-tuple of lists-or-tuples-or ndarrays with different lengths or shapes) is deprecated. If you meant to do this, you must specify 'dtype=object' when creating the ndarray.\n",
            "  X = np.atleast_1d(X.T if isinstance(X, np.ndarray) else np.asarray(X))\n"
          ]
        },
        {
          "output_type": "display_data",
          "data": {
            "text/plain": [
              "<Figure size 720x504 with 1 Axes>"
            ],
            "image/png": "[encoded data removed]"
          },
          "metadata": {
            "needs_background": "light"
          }
        }
      ],
      "source": [
        "# setup the figure of boxplot\n",
        "fig = plt.figure(figsize =(10, 7))\n",
        "ax = fig.add_subplot(111)\n",
        " \n",
        "# Creating axes instance\n",
        "bp = ax.boxplot(data[120:140], patch_artist = True,notch ='True', vert = 0)\n",
        "\n",
        "# x-axis labels\n",
        "ax.set_yticklabels(data_names[120:140])\n",
        "\n",
        "plt.show()"
      ]
    },
    {
      "cell_type": "code",
      "execution_count": null,
      "id": "756c8dfc",
      "metadata": {
        "id": "756c8dfc",
        "outputId": "99f3c3a9-f1c4-4d7b-8eda-318667de226d",
        "colab": {
          "base_uri": "https://localhost:8080/",
          "height": 496
        }
      },
      "outputs": [
        {
          "output_type": "stream",
          "name": "stderr",
          "text": [
            "/usr/local/lib/python3.7/dist-packages/matplotlib/cbook/__init__.py:1376: VisibleDeprecationWarning: Creating an ndarray from ragged nested sequences (which is a list-or-tuple of lists-or-tuples-or ndarrays with different lengths or shapes) is deprecated. If you meant to do this, you must specify 'dtype=object' when creating the ndarray.\n",
            "  X = np.atleast_1d(X.T if isinstance(X, np.ndarray) else np.asarray(X))\n"
          ]
        },
        {
          "output_type": "display_data",
          "data": {
            "text/plain": [
              "<Figure size 720x504 with 1 Axes>"
            ],
            "image/png": "[encoded data removed]"
          },
          "metadata": {
            "needs_background": "light"
          }
        }
      ],
      "source": [
        "# setup the figure of boxplot\n",
        "fig = plt.figure(figsize =(10, 7))\n",
        "ax = fig.add_subplot(111)\n",
        " \n",
        "# Creating axes instance\n",
        "bp = ax.boxplot(data[140:160], patch_artist = True,notch ='True', vert = 0)\n",
        "\n",
        "# x-axis labels\n",
        "ax.set_yticklabels(data_names[140:160])\n",
        "\n",
        "plt.show()"
      ]
    },
    {
      "cell_type": "markdown",
      "id": "fc8ab570",
      "metadata": {
        "id": "fc8ab570"
      },
      "source": [
        "This boxplot shown that has shown the companies are not bankrupt have higer cash turnover rate than the companies are bankrupt, as they have higher mediam, right skewed and larger IQR than the companies are bankrupt. The higher the cash turnover rate indicates the company can more quickly replenish its cash using its sales revenue to pay the debts, which can prevent the company goes bankruptcy.  "
      ]
    },
    {
      "cell_type": "code",
      "execution_count": null,
      "id": "1e759a32",
      "metadata": {
        "id": "1e759a32",
        "outputId": "a76f2f5f-9321-4ca4-f22f-f38d3418bdbf",
        "colab": {
          "base_uri": "https://localhost:8080/",
          "height": 496
        }
      },
      "outputs": [
        {
          "output_type": "stream",
          "name": "stderr",
          "text": [
            "/usr/local/lib/python3.7/dist-packages/matplotlib/cbook/__init__.py:1376: VisibleDeprecationWarning: Creating an ndarray from ragged nested sequences (which is a list-or-tuple of lists-or-tuples-or ndarrays with different lengths or shapes) is deprecated. If you meant to do this, you must specify 'dtype=object' when creating the ndarray.\n",
            "  X = np.atleast_1d(X.T if isinstance(X, np.ndarray) else np.asarray(X))\n"
          ]
        },
        {
          "output_type": "display_data",
          "data": {
            "text/plain": [
              "<Figure size 720x504 with 1 Axes>"
            ],
            "image/png": "[encoded data removed]"
          },
          "metadata": {
            "needs_background": "light"
          }
        }
      ],
      "source": [
        "# setup the figure of boxplot\n",
        "fig = plt.figure(figsize =(10, 7))\n",
        "ax = fig.add_subplot(111)\n",
        " \n",
        "# Creating axes instance\n",
        "bp = ax.boxplot(data[160:180], patch_artist = True,notch ='True', vert = 0)\n",
        "\n",
        "# x-axis labels\n",
        "ax.set_yticklabels(data_names[160:180])\n",
        "\n",
        "plt.show()"
      ]
    },
    {
      "cell_type": "code",
      "execution_count": null,
      "id": "f3b1bd21",
      "metadata": {
        "id": "f3b1bd21",
        "outputId": "514b8c18-666f-4872-ec36-99d3a22e7f34",
        "colab": {
          "base_uri": "https://localhost:8080/",
          "height": 483
        }
      },
      "outputs": [
        {
          "output_type": "stream",
          "name": "stderr",
          "text": [
            "/usr/local/lib/python3.7/dist-packages/matplotlib/cbook/__init__.py:1376: VisibleDeprecationWarning: Creating an ndarray from ragged nested sequences (which is a list-or-tuple of lists-or-tuples-or ndarrays with different lengths or shapes) is deprecated. If you meant to do this, you must specify 'dtype=object' when creating the ndarray.\n",
            "  X = np.atleast_1d(X.T if isinstance(X, np.ndarray) else np.asarray(X))\n"
          ]
        },
        {
          "output_type": "display_data",
          "data": {
            "text/plain": [
              "<Figure size 720x504 with 1 Axes>"
            ],
            "image/png": "[encoded data removed]"
          },
          "metadata": {
            "needs_background": "light"
          }
        }
      ],
      "source": [
        "# setup the figure of boxplot\n",
        "fig = plt.figure(figsize =(10, 7))\n",
        "ax = fig.add_subplot(111)\n",
        " \n",
        "# Creating axes instance\n",
        "bp = ax.boxplot(data[180:190], patch_artist = True,notch ='True', vert = 0)\n",
        "\n",
        "# x-axis labels\n",
        "ax.set_yticklabels(data_names[180:190])\n",
        "\n",
        "plt.show()"
      ]
    },
    {
      "cell_type": "markdown",
      "id": "76529948",
      "metadata": {
        "id": "76529948"
      },
      "source": [
        "This boxplot shown that has shown the companies are not bankrupt have higer equity to liability than the companies are bankrupt, as they have higher mediam, right skewed and larger IQR than the companies are bankrupt. The higher the equity to liability indicates the company has smaller proportion of loans than equity, which can prevent the company goes bankruptcy."
      ]
    },
    {
      "cell_type": "markdown",
      "id": "306c5121",
      "metadata": {
        "id": "306c5121"
      },
      "source": [
        "## correlation coefficient check"
      ]
    },
    {
      "cell_type": "code",
      "execution_count": null,
      "id": "b305d45d",
      "metadata": {
        "id": "b305d45d",
        "outputId": "2107e612-c2e3-485e-f500-2d1f02e69580",
        "colab": {
          "base_uri": "https://localhost:8080/",
          "height": 363
        }
      },
      "outputs": [
        {
          "output_type": "execute_result",
          "data": {
            "text/plain": [
              "                                     accounting ratio  correlations  \\\n",
              "0                                           Bankrupt?      1.000000   \n",
              "86                         Net Income to Total Assets     -0.315457   \n",
              "2              ROA(A) before interest and % after tax     -0.282941   \n",
              "3    ROA(B) before interest and depreciation after...     -0.273051   \n",
              "1    ROA(C) before interest and depreciation befor...     -0.260807   \n",
              "38                                   Net worth/Assets     -0.250161   \n",
              "37                                       Debt ratio %      0.250161   \n",
              "19            Persistent EPS in the Last Four Seasons     -0.219560   \n",
              "68                  Retained Earnings to Total Assets     -0.217779   \n",
              "43              Net profit before tax/Paid-in capital     -0.207857   \n",
              "\n",
              "    absolute correlation  \n",
              "0               1.000000  \n",
              "86              0.315457  \n",
              "2               0.282941  \n",
              "3               0.273051  \n",
              "1               0.260807  \n",
              "38              0.250161  \n",
              "37              0.250161  \n",
              "19              0.219560  \n",
              "68              0.217779  \n",
              "43              0.207857  "
            ],
            "text/html": [
              "\n",
              "  <div id=\"df-af7e0e93-4b7f-4ac8-8220-59708e5645eb\">\n",
              "    <div class=\"colab-df-container\">\n",
              "      <div>\n",
              "<style scoped>\n",
              "    .dataframe tbody tr th:only-of-type {\n",
              "        vertical-align: middle;\n",
              "    }\n",
              "\n",
              "    .dataframe tbody tr th {\n",
              "        vertical-align: top;\n",
              "    }\n",
              "\n",
              "    .dataframe thead th {\n",
              "        text-align: right;\n",
              "    }\n",
              "</style>\n",
              "<table border=\"1\" class=\"dataframe\">\n",
              "  <thead>\n",
              "    <tr style=\"text-align: right;\">\n",
              "      <th></th>\n",
              "      <th>accounting ratio</th>\n",
              "      <th>correlations</th>\n",
              "      <th>absolute correlation</th>\n",
              "    </tr>\n",
              "  </thead>\n",
              "  <tbody>\n",
              "    <tr>\n",
              "      <th>0</th>\n",
              "      <td>Bankrupt?</td>\n",
              "      <td>1.000000</td>\n",
              "      <td>1.000000</td>\n",
              "    </tr>\n",
              "    <tr>\n",
              "      <th>86</th>\n",
              "      <td>Net Income to Total Assets</td>\n",
              "      <td>-0.315457</td>\n",
              "      <td>0.315457</td>\n",
              "    </tr>\n",
              "    <tr>\n",
              "      <th>2</th>\n",
              "      <td>ROA(A) before interest and % after tax</td>\n",
              "      <td>-0.282941</td>\n",
              "      <td>0.282941</td>\n",
              "    </tr>\n",
              "    <tr>\n",
              "      <th>3</th>\n",
              "      <td>ROA(B) before interest and depreciation after...</td>\n",
              "      <td>-0.273051</td>\n",
              "      <td>0.273051</td>\n",
              "    </tr>\n",
              "    <tr>\n",
              "      <th>1</th>\n",
              "      <td>ROA(C) before interest and depreciation befor...</td>\n",
              "      <td>-0.260807</td>\n",
              "      <td>0.260807</td>\n",
              "    </tr>\n",
              "    <tr>\n",
              "      <th>38</th>\n",
              "      <td>Net worth/Assets</td>\n",
              "      <td>-0.250161</td>\n",
              "      <td>0.250161</td>\n",
              "    </tr>\n",
              "    <tr>\n",
              "      <th>37</th>\n",
              "      <td>Debt ratio %</td>\n",
              "      <td>0.250161</td>\n",
              "      <td>0.250161</td>\n",
              "    </tr>\n",
              "    <tr>\n",
              "      <th>19</th>\n",
              "      <td>Persistent EPS in the Last Four Seasons</td>\n",
              "      <td>-0.219560</td>\n",
              "      <td>0.219560</td>\n",
              "    </tr>\n",
              "    <tr>\n",
              "      <th>68</th>\n",
              "      <td>Retained Earnings to Total Assets</td>\n",
              "      <td>-0.217779</td>\n",
              "      <td>0.217779</td>\n",
              "    </tr>\n",
              "    <tr>\n",
              "      <th>43</th>\n",
              "      <td>Net profit before tax/Paid-in capital</td>\n",
              "      <td>-0.207857</td>\n",
              "      <td>0.207857</td>\n",
              "    </tr>\n",
              "  </tbody>\n",
              "</table>\n",
              "</div>\n",
              "      <button class=\"colab-df-convert\" onclick=\"convertToInteractive('df-af7e0e93-4b7f-4ac8-8220-59708e5645eb')\"\n",
              "              title=\"Convert this dataframe to an interactive table.\"\n",
              "              style=\"display:none;\">\n",
              "        \n",
              "  <svg xmlns=\"http://www.w3.org/2000/svg\" height=\"24px\"viewBox=\"0 0 24 24\"\n",
              "       width=\"24px\">\n",
              "    <path d=\"M0 0h24v24H0V0z\" fill=\"none\"/>\n",
              "    <path d=\"M18.56 5.44l.94 2.06.94-2.06 2.06-.94-2.06-.94-.94-2.06-.94 2.06-2.06.94zm-11 1L8.5 8.5l.94-2.06 2.06-.94-2.06-.94L8.5 2.5l-.94 2.06-2.06.94zm10 10l.94 2.06.94-2.06 2.06-.94-2.06-.94-.94-2.06-.94 2.06-2.06.94z\"/><path d=\"M17.41 7.96l-1.37-1.37c-.4-.4-.92-.59-1.43-.59-.52 0-1.04.2-1.43.59L10.3 9.45l-7.72 7.72c-.78.78-.78 2.05 0 2.83L4 21.41c.39.39.9.59 1.41.59.51 0 1.02-.2 1.41-.59l7.78-7.78 2.81-2.81c.8-.78.8-2.07 0-2.86zM5.41 20L4 18.59l7.72-7.72 1.47 1.35L5.41 20z\"/>\n",
              "  </svg>\n",
              "      </button>\n",
              "      \n",
              "  <style>\n",
              "    .colab-df-container {\n",
              "      display:flex;\n",
              "      flex-wrap:wrap;\n",
              "      gap: 12px;\n",
              "    }\n",
              "\n",
              "    .colab-df-convert {\n",
              "      background-color: #E8F0FE;\n",
              "      border: none;\n",
              "      border-radius: 50%;\n",
              "      cursor: pointer;\n",
              "      display: none;\n",
              "      fill: #1967D2;\n",
              "      height: 32px;\n",
              "      padding: 0 0 0 0;\n",
              "      width: 32px;\n",
              "    }\n",
              "\n",
              "    .colab-df-convert:hover {\n",
              "      background-color: #E2EBFA;\n",
              "      box-shadow: 0px 1px 2px rgba(60, 64, 67, 0.3), 0px 1px 3px 1px rgba(60, 64, 67, 0.15);\n",
              "      fill: #174EA6;\n",
              "    }\n",
              "\n",
              "    [theme=dark] .colab-df-convert {\n",
              "      background-color: #3B4455;\n",
              "      fill: #D2E3FC;\n",
              "    }\n",
              "\n",
              "    [theme=dark] .colab-df-convert:hover {\n",
              "      background-color: #434B5C;\n",
              "      box-shadow: 0px 1px 3px 1px rgba(0, 0, 0, 0.15);\n",
              "      filter: drop-shadow(0px 1px 2px rgba(0, 0, 0, 0.3));\n",
              "      fill: #FFFFFF;\n",
              "    }\n",
              "  </style>\n",
              "\n",
              "      <script>\n",
              "        const buttonEl =\n",
              "          document.querySelector('#df-af7e0e93-4b7f-4ac8-8220-59708e5645eb button.colab-df-convert');\n",
              "        buttonEl.style.display =\n",
              "          google.colab.kernel.accessAllowed ? 'block' : 'none';\n",
              "\n",
              "        async function convertToInteractive(key) {\n",
              "          const element = document.querySelector('#df-af7e0e93-4b7f-4ac8-8220-59708e5645eb');\n",
              "          const dataTable =\n",
              "            await google.colab.kernel.invokeFunction('convertToInteractive',\n",
              "                                                     [key], {});\n",
              "          if (!dataTable) return;\n",
              "\n",
              "          const docLinkHtml = 'Like what you see? Visit the ' +\n",
              "            '<a target=\"_blank\" href=https://colab.research.google.com/notebooks/data_table.ipynb>data table notebook</a>'\n",
              "            + ' to learn more about interactive tables.';\n",
              "          element.innerHTML = '';\n",
              "          dataTable['output_type'] = 'display_data';\n",
              "          await google.colab.output.renderOutput(dataTable, element);\n",
              "          const docLink = document.createElement('div');\n",
              "          docLink.innerHTML = docLinkHtml;\n",
              "          element.appendChild(docLink);\n",
              "        }\n",
              "      </script>\n",
              "    </div>\n",
              "  </div>\n",
              "  "
            ]
          },
          "metadata": {},
          "execution_count": 15
        }
      ],
      "source": [
        "corr_matrix = df.corr()\n",
        "corr_matrix['Bankrupt?'].sort_values(ascending=False).head(10)\n",
        "\n",
        "corr_dict = {\n",
        "  \"accounting ratio\": corr_matrix.columns,\n",
        "  \"correlations\": corr_matrix['Bankrupt?'].values,\n",
        "  \"absolute correlation\" : map(abs,corr_matrix['Bankrupt?'].values),\n",
        "}   \n",
        "\n",
        "df_corr = pd.DataFrame(data=corr_dict)\n",
        "df_corr.sort_values(by='absolute correlation', ascending=False).head(10)"
      ]
    },
    {
      "cell_type": "markdown",
      "id": "3f6d00df",
      "metadata": {
        "id": "3f6d00df"
      },
      "source": [
        "The table above has shown the top 10 accounting ratios which are significantly correlated to 'bankrupt? '\n",
        "\n",
        "Debt ratio has positive correlations coefficient value, which means that it has positive relatinship to Bankrupt as Bankruptcy is denoted as 1.Converstly, other raitos have negative correlation coefficent relatinship to the bankrupt. \n",
        "\n",
        "Higher the debt ratio, indicate companies are bankrupt have to pay higher level of debt payments than the companies are not bankrupt. \n",
        "\n",
        "ROA(A), ROA(B), and ROA(C) has been further proven that help to examine whether a company is not bankrupt. \n",
        "\n",
        "Net income to total assets, Net profit before tax/Paid-in capitalis, and Per Share Net profit before tax are the profitability ratio.  the higher the ratio, indicates the company has greater ability in generating its revenue over a year. \n",
        "\n",
        "Net worth/ assets is used to shown margin of assets and liabilitiy as net worth is total assets minus total liabilities. higher the Net worth / assets indicate the company is solvent as it has relatively lower liabilties than its asset.\n",
        "\n",
        "higher Persistent EPS in the Last Four Seasons is the profibility ratio. a higher EPS would suggest that a company is more valuable. If investors are comfortable paying a higher price for shares, then that could reflect strong profits or expectations of high profits. \n",
        "\n",
        "Retained Earnings to Total Assets indicates total retained earnings that the company generates compare to the total assets of the company at the end of the specific accounting period. So, it illustrate how much does company use retained earning to reinvest rather than pay dividend. This may help the company grow and survive longer. However, for the mature companies may have smaller retained earning as they use their profit to pay their shareholders, such as natural resource industries. \n"
      ]
    },
    {
      "cell_type": "markdown",
      "id": "d7abd8a1",
      "metadata": {
        "id": "d7abd8a1"
      },
      "source": [
        "## Data clean"
      ]
    },
    {
      "cell_type": "code",
      "execution_count": null,
      "id": "86241268",
      "metadata": {
        "scrolled": true,
        "id": "86241268",
        "outputId": "e03e2572-6c43-4f44-907d-eb3732f66073",
        "colab": {
          "base_uri": "https://localhost:8080/"
        }
      },
      "outputs": [
        {
          "output_type": "stream",
          "name": "stdout",
          "text": [
            "<class 'pandas.core.frame.DataFrame'>\n",
            "RangeIndex: 6819 entries, 0 to 6818\n",
            "Data columns (total 96 columns):\n",
            " #   Column                                                    Non-Null Count  Dtype  \n",
            "---  ------                                                    --------------  -----  \n",
            " 0   Bankrupt?                                                 6819 non-null   int64  \n",
            " 1    ROA(C) before interest and depreciation before interest  6819 non-null   float64\n",
            " 2    ROA(A) before interest and % after tax                   6819 non-null   float64\n",
            " 3    ROA(B) before interest and depreciation after tax        6819 non-null   float64\n",
            " 4    Operating Gross Margin                                   6819 non-null   float64\n",
            " 5    Realized Sales Gross Margin                              6819 non-null   float64\n",
            " 6    Operating Profit Rate                                    6819 non-null   float64\n",
            " 7    Pre-tax net Interest Rate                                6819 non-null   float64\n",
            " 8    After-tax net Interest Rate                              6819 non-null   float64\n",
            " 9    Non-industry income and expenditure/revenue              6819 non-null   float64\n",
            " 10   Continuous interest rate (after tax)                     6819 non-null   float64\n",
            " 11   Operating Expense Rate                                   6819 non-null   float64\n",
            " 12   Research and development expense rate                    6819 non-null   float64\n",
            " 13   Cash flow rate                                           6819 non-null   float64\n",
            " 14   Interest-bearing debt interest rate                      6819 non-null   float64\n",
            " 15   Tax rate (A)                                             6819 non-null   float64\n",
            " 16   Net Value Per Share (B)                                  6819 non-null   float64\n",
            " 17   Net Value Per Share (A)                                  6819 non-null   float64\n",
            " 18   Net Value Per Share (C)                                  6819 non-null   float64\n",
            " 19   Persistent EPS in the Last Four Seasons                  6819 non-null   float64\n",
            " 20   Cash Flow Per Share                                      6819 non-null   float64\n",
            " 21   Revenue Per Share (Yuan ¥)                               6819 non-null   float64\n",
            " 22   Operating Profit Per Share (Yuan ¥)                      6819 non-null   float64\n",
            " 23   Per Share Net profit before tax (Yuan ¥)                 6819 non-null   float64\n",
            " 24   Realized Sales Gross Profit Growth Rate                  6819 non-null   float64\n",
            " 25   Operating Profit Growth Rate                             6819 non-null   float64\n",
            " 26   After-tax Net Profit Growth Rate                         6819 non-null   float64\n",
            " 27   Regular Net Profit Growth Rate                           6819 non-null   float64\n",
            " 28   Continuous Net Profit Growth Rate                        6819 non-null   float64\n",
            " 29   Total Asset Growth Rate                                  6819 non-null   float64\n",
            " 30   Net Value Growth Rate                                    6819 non-null   float64\n",
            " 31   Total Asset Return Growth Rate Ratio                     6819 non-null   float64\n",
            " 32   Cash Reinvestment %                                      6819 non-null   float64\n",
            " 33   Current Ratio                                            6819 non-null   float64\n",
            " 34   Quick Ratio                                              6819 non-null   float64\n",
            " 35   Interest Expense Ratio                                   6819 non-null   float64\n",
            " 36   Total debt/Total net worth                               6819 non-null   float64\n",
            " 37   Debt ratio %                                             6819 non-null   float64\n",
            " 38   Net worth/Assets                                         6819 non-null   float64\n",
            " 39   Long-term fund suitability ratio (A)                     6819 non-null   float64\n",
            " 40   Borrowing dependency                                     6819 non-null   float64\n",
            " 41   Contingent liabilities/Net worth                         6819 non-null   float64\n",
            " 42   Operating profit/Paid-in capital                         6819 non-null   float64\n",
            " 43   Net profit before tax/Paid-in capital                    6819 non-null   float64\n",
            " 44   Inventory and accounts receivable/Net value              6819 non-null   float64\n",
            " 45   Total Asset Turnover                                     6819 non-null   float64\n",
            " 46   Accounts Receivable Turnover                             6819 non-null   float64\n",
            " 47   Average Collection Days                                  6819 non-null   float64\n",
            " 48   Inventory Turnover Rate (times)                          6819 non-null   float64\n",
            " 49   Fixed Assets Turnover Frequency                          6819 non-null   float64\n",
            " 50   Net Worth Turnover Rate (times)                          6819 non-null   float64\n",
            " 51   Revenue per person                                       6819 non-null   float64\n",
            " 52   Operating profit per person                              6819 non-null   float64\n",
            " 53   Allocation rate per person                               6819 non-null   float64\n",
            " 54   Working Capital to Total Assets                          6819 non-null   float64\n",
            " 55   Quick Assets/Total Assets                                6819 non-null   float64\n",
            " 56   Current Assets/Total Assets                              6819 non-null   float64\n",
            " 57   Cash/Total Assets                                        6819 non-null   float64\n",
            " 58   Quick Assets/Current Liability                           6819 non-null   float64\n",
            " 59   Cash/Current Liability                                   6819 non-null   float64\n",
            " 60   Current Liability to Assets                              6819 non-null   float64\n",
            " 61   Operating Funds to Liability                             6819 non-null   float64\n",
            " 62   Inventory/Working Capital                                6819 non-null   float64\n",
            " 63   Inventory/Current Liability                              6819 non-null   float64\n",
            " 64   Current Liabilities/Liability                            6819 non-null   float64\n",
            " 65   Working Capital/Equity                                   6819 non-null   float64\n",
            " 66   Current Liabilities/Equity                               6819 non-null   float64\n",
            " 67   Long-term Liability to Current Assets                    6819 non-null   float64\n",
            " 68   Retained Earnings to Total Assets                        6819 non-null   float64\n",
            " 69   Total income/Total expense                               6819 non-null   float64\n",
            " 70   Total expense/Assets                                     6819 non-null   float64\n",
            " 71   Current Asset Turnover Rate                              6819 non-null   float64\n",
            " 72   Quick Asset Turnover Rate                                6819 non-null   float64\n",
            " 73   Working capitcal Turnover Rate                           6819 non-null   float64\n",
            " 74   Cash Turnover Rate                                       6819 non-null   float64\n",
            " 75   Cash Flow to Sales                                       6819 non-null   float64\n",
            " 76   Fixed Assets to Assets                                   6819 non-null   float64\n",
            " 77   Current Liability to Liability                           6819 non-null   float64\n",
            " 78   Current Liability to Equity                              6819 non-null   float64\n",
            " 79   Equity to Long-term Liability                            6819 non-null   float64\n",
            " 80   Cash Flow to Total Assets                                6819 non-null   float64\n",
            " 81   Cash Flow to Liability                                   6819 non-null   float64\n",
            " 82   CFO to Assets                                            6819 non-null   float64\n",
            " 83   Cash Flow to Equity                                      6819 non-null   float64\n",
            " 84   Current Liability to Current Assets                      6819 non-null   float64\n",
            " 85   Liability-Assets Flag                                    6819 non-null   int64  \n",
            " 86   Net Income to Total Assets                               6819 non-null   float64\n",
            " 87   Total assets to GNP price                                6819 non-null   float64\n",
            " 88   No-credit Interval                                       6819 non-null   float64\n",
            " 89   Gross Profit to Sales                                    6819 non-null   float64\n",
            " 90   Net Income to Stockholder's Equity                       6819 non-null   float64\n",
            " 91   Liability to Equity                                      6819 non-null   float64\n",
            " 92   Degree of Financial Leverage (DFL)                       6819 non-null   float64\n",
            " 93   Interest Coverage Ratio (Interest expense to EBIT)       6819 non-null   float64\n",
            " 94   Net Income Flag                                          6819 non-null   int64  \n",
            " 95   Equity to Liability                                      6819 non-null   float64\n",
            "dtypes: float64(93), int64(3)\n",
            "memory usage: 5.0 MB\n"
          ]
        }
      ],
      "source": [
        "# briefly check dataset values \n",
        "df.info()"
      ]
    },
    {
      "cell_type": "markdown",
      "id": "36ae283f",
      "metadata": {
        "id": "36ae283f"
      },
      "source": [
        "This section of code has shown that there have no missing data as each attribute has 6819 entries and do not need word-to-sparse process as data are numerical. "
      ]
    },
    {
      "cell_type": "markdown",
      "id": "e2cc9dfe",
      "metadata": {
        "id": "e2cc9dfe"
      },
      "source": [
        "## Oversample the minority data (bankruptcy companies)"
      ]
    },
    {
      "cell_type": "code",
      "execution_count": null,
      "id": "bb6f0cf5",
      "metadata": {
        "id": "bb6f0cf5",
        "outputId": "1362ab99-4208-47bc-b7b7-5594a8be9fd2",
        "colab": {
          "base_uri": "https://localhost:8080/"
        }
      },
      "outputs": [
        {
          "output_type": "execute_result",
          "data": {
            "text/plain": [
              "0    6599\n",
              "1     220\n",
              "Name: Bankrupt?, dtype: int64"
            ]
          },
          "metadata": {},
          "execution_count": 17
        }
      ],
      "source": [
        "df['Bankrupt?'].value_counts()"
      ]
    },
    {
      "cell_type": "markdown",
      "id": "bc8eefd7",
      "metadata": {
        "id": "bc8eefd7"
      },
      "source": [
        "This has shown that the dataset is highly imbalanced. As a result, there will be bias throughout the model's training process, with classes with more samples being favoured over classes with minori class. So, we need to oversample the bankruptcy companies' data to overcome this issue in our case. In the following, we have used Borderline-SMOTE to oversample our dataset. The the advantage of using this method is enable us to select the samples of data that belongs to the minority class. Also, this method can produce new synthetic samples and inherit the characteristerist of bankruptcy companies, because it extracts the feature of the minority class to produce the new samples.    "
      ]
    },
    {
      "cell_type": "code",
      "source": [
        "# using Synthetic Minority Over-Sampling Technique or SMOTE to balance out our dataset\n",
        "from imblearn.over_sampling import BorderlineSMOTE"
      ],
      "metadata": {
        "id": "kfxFnxgneciA"
      },
      "id": "kfxFnxgneciA",
      "execution_count": null,
      "outputs": []
    },
    {
      "cell_type": "code",
      "source": [
        "# install imblearn\n",
        "#import sys\n",
        "#!{sys.executable} -m pip install imblearn"
      ],
      "metadata": {
        "id": "QBKRZrQoenHd"
      },
      "id": "QBKRZrQoenHd",
      "execution_count": null,
      "outputs": []
    },
    {
      "cell_type": "code",
      "execution_count": null,
      "id": "add1fec0",
      "metadata": {
        "id": "add1fec0"
      },
      "outputs": [],
      "source": [
        "# define dataset\n",
        "X = df.drop(columns = ['Bankrupt?']).to_numpy() # continuous data\n",
        "y = df['Bankrupt?'].to_numpy() # binary data\n",
        "\n",
        "#SMOTE With Selective Synthetic Sample Generation\n",
        "# borderline-SMOTE for imbalanced dataset\n",
        "oversample = BorderlineSMOTE()\n",
        "# transform the dataset\n",
        "X, y = oversample.fit_resample(X, y)\n"
      ]
    },
    {
      "cell_type": "code",
      "execution_count": null,
      "id": "72e2fcf2",
      "metadata": {
        "id": "72e2fcf2"
      },
      "outputs": [],
      "source": [
        "# convert from array to panda.dataframe \n",
        "df_oversampled = pd.DataFrame(X, columns = [name for name in df.columns if name != 'Bankrupt?']  )\n",
        "df_oversampled.insert(0, 'Bankrupt?', y)\n"
      ]
    },
    {
      "cell_type": "code",
      "execution_count": null,
      "id": "7c3a9298",
      "metadata": {
        "id": "7c3a9298",
        "outputId": "b825dec1-3b37-457c-f4ed-9a2fd3306459",
        "colab": {
          "base_uri": "https://localhost:8080/"
        }
      },
      "outputs": [
        {
          "output_type": "execute_result",
          "data": {
            "text/plain": [
              "1    6599\n",
              "0    6599\n",
              "Name: Bankrupt?, dtype: int64"
            ]
          },
          "metadata": {},
          "execution_count": 22
        }
      ],
      "source": [
        "df_oversampled['Bankrupt?'].value_counts()"
      ]
    },
    {
      "cell_type": "markdown",
      "id": "605578c6",
      "metadata": {
        "id": "605578c6"
      },
      "source": [
        "On above, it shown that we have generated a balanced dataset."
      ]
    },
    {
      "cell_type": "code",
      "execution_count": null,
      "id": "7da612ce",
      "metadata": {
        "id": "7da612ce"
      },
      "outputs": [],
      "source": [
        "grouped_2 = df_oversampled.groupby(df_oversampled['Bankrupt?'])\n",
        "df_not_bankrupt_2 = grouped_2.get_group(0)\n",
        "df_bankrupt_2 = grouped_2.get_group(1)"
      ]
    },
    {
      "cell_type": "code",
      "execution_count": null,
      "id": "f7d6fff6",
      "metadata": {
        "id": "f7d6fff6",
        "outputId": "9175b515-d656-4747-a988-26d38e5f31ff",
        "colab": {
          "base_uri": "https://localhost:8080/",
          "height": 480
        }
      },
      "outputs": [
        {
          "output_type": "execute_result",
          "data": {
            "text/plain": [
              "       Bankrupt?   ROA(C) before interest and depreciation before interest  \\\n",
              "count     6599.0                                        6599.000000          \n",
              "mean         1.0                                           0.419856          \n",
              "std          0.0                                           0.061657          \n",
              "min          1.0                                           0.024277          \n",
              "25%          1.0                                           0.390606          \n",
              "50%          1.0                                           0.435985          \n",
              "75%          1.0                                           0.463529          \n",
              "max          1.0                                           0.576951          \n",
              "\n",
              "        ROA(A) before interest and % after tax  \\\n",
              "count                              6599.000000   \n",
              "mean                                  0.461287   \n",
              "std                                   0.081747   \n",
              "min                                   0.000000   \n",
              "25%                                   0.429011   \n",
              "50%                                   0.484452   \n",
              "75%                                   0.516856   \n",
              "max                                   0.582861   \n",
              "\n",
              "        ROA(B) before interest and depreciation after tax  \\\n",
              "count                                        6599.000000    \n",
              "mean                                            0.462507    \n",
              "std                                             0.071162    \n",
              "min                                             0.033514    \n",
              "25%                                             0.433893    \n",
              "50%                                             0.482358    \n",
              "75%                                             0.510825    \n",
              "max                                             0.619091    \n",
              "\n",
              "        Operating Gross Margin   Realized Sales Gross Margin  \\\n",
              "count              6599.000000                   6599.000000   \n",
              "mean                  0.597579                      0.597611   \n",
              "std                   0.012007                      0.012012   \n",
              "min                   0.532906                      0.532906   \n",
              "25%                   0.594298                      0.594326   \n",
              "50%                   0.598650                      0.598768   \n",
              "75%                   0.602886                      0.602922   \n",
              "max                   0.665151                      0.665151   \n",
              "\n",
              "        Operating Profit Rate   Pre-tax net Interest Rate  \\\n",
              "count             6599.000000                 6599.000000   \n",
              "mean                 0.998681                    0.796770   \n",
              "std                  0.000799                    0.001234   \n",
              "min                  0.991888                    0.757216   \n",
              "25%                  0.998749                    0.796756   \n",
              "50%                  0.998876                    0.797100   \n",
              "75%                  0.998946                    0.797268   \n",
              "max                  0.999254                    0.797761   \n",
              "\n",
              "        After-tax net Interest Rate  \\\n",
              "count                   6599.000000   \n",
              "mean                       0.808719   \n",
              "std                        0.001273   \n",
              "min                        0.761550   \n",
              "25%                        0.808693   \n",
              "50%                        0.809040   \n",
              "75%                        0.809196   \n",
              "max                        0.809691   \n",
              "\n",
              "        Non-industry income and expenditure/revenue  ...  \\\n",
              "count                                   6599.000000  ...   \n",
              "mean                                       0.303044  ...   \n",
              "std                                        0.001143  ...   \n",
              "min                                        0.235090  ...   \n",
              "25%                                        0.302946  ...   \n",
              "50%                                        0.303273  ...   \n",
              "75%                                        0.303415  ...   \n",
              "max                                        0.305396  ...   \n",
              "\n",
              "        Net Income to Total Assets   Total assets to GNP price  \\\n",
              "count                  6599.000000                6.599000e+03   \n",
              "mean                      0.740566                6.187816e+07   \n",
              "std                       0.064388                6.472331e+08   \n",
              "min                       0.411809                1.323021e-04   \n",
              "25%                       0.722382                2.036073e-03   \n",
              "50%                       0.760748                4.983081e-03   \n",
              "75%                       0.781476                1.156184e-02   \n",
              "max                       0.819091                9.170000e+09   \n",
              "\n",
              "        No-credit Interval   Gross Profit to Sales  \\\n",
              "count          6599.000000             6599.000000   \n",
              "mean              0.623728                0.597577   \n",
              "std               0.006854                0.012007   \n",
              "min               0.587512                0.532907   \n",
              "25%               0.622428                0.594294   \n",
              "50%               0.623375                0.598649   \n",
              "75%               0.623777                0.602884   \n",
              "max               0.679654                0.665149   \n",
              "\n",
              "        Net Income to Stockholder's Equity   Liability to Equity  \\\n",
              "count                          6599.000000           6599.000000   \n",
              "mean                              0.828480              0.290128   \n",
              "std                               0.049610              0.037653   \n",
              "min                               0.000000              0.000000   \n",
              "25%                               0.831426              0.283014   \n",
              "50%                               0.836059              0.286043   \n",
              "75%                               0.838684              0.290155   \n",
              "max                               1.000000              1.000000   \n",
              "\n",
              "        Degree of Financial Leverage (DFL)  \\\n",
              "count                          6599.000000   \n",
              "mean                              0.027742   \n",
              "std                               0.007592   \n",
              "min                               0.020760   \n",
              "25%                               0.026511   \n",
              "50%                               0.026673   \n",
              "75%                               0.026832   \n",
              "max                               0.264577   \n",
              "\n",
              "        Interest Coverage Ratio (Interest expense to EBIT)   Net Income Flag  \\\n",
              "count                                        6599.000000              6599.0   \n",
              "mean                                            0.565153                 1.0   \n",
              "std                                             0.005244                 0.0   \n",
              "min                                             0.547146                 1.0   \n",
              "25%                                             0.563669                 1.0   \n",
              "50%                                             0.564664                 1.0   \n",
              "75%                                             0.565939                 1.0   \n",
              "max                                             0.624147                 1.0   \n",
              "\n",
              "        Equity to Liability  \n",
              "count           6599.000000  \n",
              "mean               0.021755  \n",
              "std                0.024842  \n",
              "min                0.003946  \n",
              "25%                0.016795  \n",
              "50%                0.018976  \n",
              "75%                0.021993  \n",
              "max                0.798122  \n",
              "\n",
              "[8 rows x 96 columns]"
            ],
            "text/html": [
              "\n",
              "  <div id=\"df-9a0dc349-6164-44c3-a73a-95eae7134e46\">\n",
              "    <div class=\"colab-df-container\">\n",
              "      <div>\n",
              "<style scoped>\n",
              "    .dataframe tbody tr th:only-of-type {\n",
              "        vertical-align: middle;\n",
              "    }\n",
              "\n",
              "    .dataframe tbody tr th {\n",
              "        vertical-align: top;\n",
              "    }\n",
              "\n",
              "    .dataframe thead th {\n",
              "        text-align: right;\n",
              "    }\n",
              "</style>\n",
              "<table border=\"1\" class=\"dataframe\">\n",
              "  <thead>\n",
              "    <tr style=\"text-align: right;\">\n",
              "      <th></th>\n",
              "      <th>Bankrupt?</th>\n",
              "      <th>ROA(C) before interest and depreciation before interest</th>\n",
              "      <th>ROA(A) before interest and % after tax</th>\n",
              "      <th>ROA(B) before interest and depreciation after tax</th>\n",
              "      <th>Operating Gross Margin</th>\n",
              "      <th>Realized Sales Gross Margin</th>\n",
              "      <th>Operating Profit Rate</th>\n",
              "      <th>Pre-tax net Interest Rate</th>\n",
              "      <th>After-tax net Interest Rate</th>\n",
              "      <th>Non-industry income and expenditure/revenue</th>\n",
              "      <th>...</th>\n",
              "      <th>Net Income to Total Assets</th>\n",
              "      <th>Total assets to GNP price</th>\n",
              "      <th>No-credit Interval</th>\n",
              "      <th>Gross Profit to Sales</th>\n",
              "      <th>Net Income to Stockholder's Equity</th>\n",
              "      <th>Liability to Equity</th>\n",
              "      <th>Degree of Financial Leverage (DFL)</th>\n",
              "      <th>Interest Coverage Ratio (Interest expense to EBIT)</th>\n",
              "      <th>Net Income Flag</th>\n",
              "      <th>Equity to Liability</th>\n",
              "    </tr>\n",
              "  </thead>\n",
              "  <tbody>\n",
              "    <tr>\n",
              "      <th>count</th>\n",
              "      <td>6599.0</td>\n",
              "      <td>6599.000000</td>\n",
              "      <td>6599.000000</td>\n",
              "      <td>6599.000000</td>\n",
              "      <td>6599.000000</td>\n",
              "      <td>6599.000000</td>\n",
              "      <td>6599.000000</td>\n",
              "      <td>6599.000000</td>\n",
              "      <td>6599.000000</td>\n",
              "      <td>6599.000000</td>\n",
              "      <td>...</td>\n",
              "      <td>6599.000000</td>\n",
              "      <td>6.599000e+03</td>\n",
              "      <td>6599.000000</td>\n",
              "      <td>6599.000000</td>\n",
              "      <td>6599.000000</td>\n",
              "      <td>6599.000000</td>\n",
              "      <td>6599.000000</td>\n",
              "      <td>6599.000000</td>\n",
              "      <td>6599.0</td>\n",
              "      <td>6599.000000</td>\n",
              "    </tr>\n",
              "    <tr>\n",
              "      <th>mean</th>\n",
              "      <td>1.0</td>\n",
              "      <td>0.419856</td>\n",
              "      <td>0.461287</td>\n",
              "      <td>0.462507</td>\n",
              "      <td>0.597579</td>\n",
              "      <td>0.597611</td>\n",
              "      <td>0.998681</td>\n",
              "      <td>0.796770</td>\n",
              "      <td>0.808719</td>\n",
              "      <td>0.303044</td>\n",
              "      <td>...</td>\n",
              "      <td>0.740566</td>\n",
              "      <td>6.187816e+07</td>\n",
              "      <td>0.623728</td>\n",
              "      <td>0.597577</td>\n",
              "      <td>0.828480</td>\n",
              "      <td>0.290128</td>\n",
              "      <td>0.027742</td>\n",
              "      <td>0.565153</td>\n",
              "      <td>1.0</td>\n",
              "      <td>0.021755</td>\n",
              "    </tr>\n",
              "    <tr>\n",
              "      <th>std</th>\n",
              "      <td>0.0</td>\n",
              "      <td>0.061657</td>\n",
              "      <td>0.081747</td>\n",
              "      <td>0.071162</td>\n",
              "      <td>0.012007</td>\n",
              "      <td>0.012012</td>\n",
              "      <td>0.000799</td>\n",
              "      <td>0.001234</td>\n",
              "      <td>0.001273</td>\n",
              "      <td>0.001143</td>\n",
              "      <td>...</td>\n",
              "      <td>0.064388</td>\n",
              "      <td>6.472331e+08</td>\n",
              "      <td>0.006854</td>\n",
              "      <td>0.012007</td>\n",
              "      <td>0.049610</td>\n",
              "      <td>0.037653</td>\n",
              "      <td>0.007592</td>\n",
              "      <td>0.005244</td>\n",
              "      <td>0.0</td>\n",
              "      <td>0.024842</td>\n",
              "    </tr>\n",
              "    <tr>\n",
              "      <th>min</th>\n",
              "      <td>1.0</td>\n",
              "      <td>0.024277</td>\n",
              "      <td>0.000000</td>\n",
              "      <td>0.033514</td>\n",
              "      <td>0.532906</td>\n",
              "      <td>0.532906</td>\n",
              "      <td>0.991888</td>\n",
              "      <td>0.757216</td>\n",
              "      <td>0.761550</td>\n",
              "      <td>0.235090</td>\n",
              "      <td>...</td>\n",
              "      <td>0.411809</td>\n",
              "      <td>1.323021e-04</td>\n",
              "      <td>0.587512</td>\n",
              "      <td>0.532907</td>\n",
              "      <td>0.000000</td>\n",
              "      <td>0.000000</td>\n",
              "      <td>0.020760</td>\n",
              "      <td>0.547146</td>\n",
              "      <td>1.0</td>\n",
              "      <td>0.003946</td>\n",
              "    </tr>\n",
              "    <tr>\n",
              "      <th>25%</th>\n",
              "      <td>1.0</td>\n",
              "      <td>0.390606</td>\n",
              "      <td>0.429011</td>\n",
              "      <td>0.433893</td>\n",
              "      <td>0.594298</td>\n",
              "      <td>0.594326</td>\n",
              "      <td>0.998749</td>\n",
              "      <td>0.796756</td>\n",
              "      <td>0.808693</td>\n",
              "      <td>0.302946</td>\n",
              "      <td>...</td>\n",
              "      <td>0.722382</td>\n",
              "      <td>2.036073e-03</td>\n",
              "      <td>0.622428</td>\n",
              "      <td>0.594294</td>\n",
              "      <td>0.831426</td>\n",
              "      <td>0.283014</td>\n",
              "      <td>0.026511</td>\n",
              "      <td>0.563669</td>\n",
              "      <td>1.0</td>\n",
              "      <td>0.016795</td>\n",
              "    </tr>\n",
              "    <tr>\n",
              "      <th>50%</th>\n",
              "      <td>1.0</td>\n",
              "      <td>0.435985</td>\n",
              "      <td>0.484452</td>\n",
              "      <td>0.482358</td>\n",
              "      <td>0.598650</td>\n",
              "      <td>0.598768</td>\n",
              "      <td>0.998876</td>\n",
              "      <td>0.797100</td>\n",
              "      <td>0.809040</td>\n",
              "      <td>0.303273</td>\n",
              "      <td>...</td>\n",
              "      <td>0.760748</td>\n",
              "      <td>4.983081e-03</td>\n",
              "      <td>0.623375</td>\n",
              "      <td>0.598649</td>\n",
              "      <td>0.836059</td>\n",
              "      <td>0.286043</td>\n",
              "      <td>0.026673</td>\n",
              "      <td>0.564664</td>\n",
              "      <td>1.0</td>\n",
              "      <td>0.018976</td>\n",
              "    </tr>\n",
              "    <tr>\n",
              "      <th>75%</th>\n",
              "      <td>1.0</td>\n",
              "      <td>0.463529</td>\n",
              "      <td>0.516856</td>\n",
              "      <td>0.510825</td>\n",
              "      <td>0.602886</td>\n",
              "      <td>0.602922</td>\n",
              "      <td>0.998946</td>\n",
              "      <td>0.797268</td>\n",
              "      <td>0.809196</td>\n",
              "      <td>0.303415</td>\n",
              "      <td>...</td>\n",
              "      <td>0.781476</td>\n",
              "      <td>1.156184e-02</td>\n",
              "      <td>0.623777</td>\n",
              "      <td>0.602884</td>\n",
              "      <td>0.838684</td>\n",
              "      <td>0.290155</td>\n",
              "      <td>0.026832</td>\n",
              "      <td>0.565939</td>\n",
              "      <td>1.0</td>\n",
              "      <td>0.021993</td>\n",
              "    </tr>\n",
              "    <tr>\n",
              "      <th>max</th>\n",
              "      <td>1.0</td>\n",
              "      <td>0.576951</td>\n",
              "      <td>0.582861</td>\n",
              "      <td>0.619091</td>\n",
              "      <td>0.665151</td>\n",
              "      <td>0.665151</td>\n",
              "      <td>0.999254</td>\n",
              "      <td>0.797761</td>\n",
              "      <td>0.809691</td>\n",
              "      <td>0.305396</td>\n",
              "      <td>...</td>\n",
              "      <td>0.819091</td>\n",
              "      <td>9.170000e+09</td>\n",
              "      <td>0.679654</td>\n",
              "      <td>0.665149</td>\n",
              "      <td>1.000000</td>\n",
              "      <td>1.000000</td>\n",
              "      <td>0.264577</td>\n",
              "      <td>0.624147</td>\n",
              "      <td>1.0</td>\n",
              "      <td>0.798122</td>\n",
              "    </tr>\n",
              "  </tbody>\n",
              "</table>\n",
              "<p>8 rows × 96 columns</p>\n",
              "</div>\n",
              "      <button class=\"colab-df-convert\" onclick=\"convertToInteractive('df-9a0dc349-6164-44c3-a73a-95eae7134e46')\"\n",
              "              title=\"Convert this dataframe to an interactive table.\"\n",
              "              style=\"display:none;\">\n",
              "        \n",
              "  <svg xmlns=\"http://www.w3.org/2000/svg\" height=\"24px\"viewBox=\"0 0 24 24\"\n",
              "       width=\"24px\">\n",
              "    <path d=\"M0 0h24v24H0V0z\" fill=\"none\"/>\n",
              "    <path d=\"M18.56 5.44l.94 2.06.94-2.06 2.06-.94-2.06-.94-.94-2.06-.94 2.06-2.06.94zm-11 1L8.5 8.5l.94-2.06 2.06-.94-2.06-.94L8.5 2.5l-.94 2.06-2.06.94zm10 10l.94 2.06.94-2.06 2.06-.94-2.06-.94-.94-2.06-.94 2.06-2.06.94z\"/><path d=\"M17.41 7.96l-1.37-1.37c-.4-.4-.92-.59-1.43-.59-.52 0-1.04.2-1.43.59L10.3 9.45l-7.72 7.72c-.78.78-.78 2.05 0 2.83L4 21.41c.39.39.9.59 1.41.59.51 0 1.02-.2 1.41-.59l7.78-7.78 2.81-2.81c.8-.78.8-2.07 0-2.86zM5.41 20L4 18.59l7.72-7.72 1.47 1.35L5.41 20z\"/>\n",
              "  </svg>\n",
              "      </button>\n",
              "      \n",
              "  <style>\n",
              "    .colab-df-container {\n",
              "      display:flex;\n",
              "      flex-wrap:wrap;\n",
              "      gap: 12px;\n",
              "    }\n",
              "\n",
              "    .colab-df-convert {\n",
              "      background-color: #E8F0FE;\n",
              "      border: none;\n",
              "      border-radius: 50%;\n",
              "      cursor: pointer;\n",
              "      display: none;\n",
              "      fill: #1967D2;\n",
              "      height: 32px;\n",
              "      padding: 0 0 0 0;\n",
              "      width: 32px;\n",
              "    }\n",
              "\n",
              "    .colab-df-convert:hover {\n",
              "      background-color: #E2EBFA;\n",
              "      box-shadow: 0px 1px 2px rgba(60, 64, 67, 0.3), 0px 1px 3px 1px rgba(60, 64, 67, 0.15);\n",
              "      fill: #174EA6;\n",
              "    }\n",
              "\n",
              "    [theme=dark] .colab-df-convert {\n",
              "      background-color: #3B4455;\n",
              "      fill: #D2E3FC;\n",
              "    }\n",
              "\n",
              "    [theme=dark] .colab-df-convert:hover {\n",
              "      background-color: #434B5C;\n",
              "      box-shadow: 0px 1px 3px 1px rgba(0, 0, 0, 0.15);\n",
              "      filter: drop-shadow(0px 1px 2px rgba(0, 0, 0, 0.3));\n",
              "      fill: #FFFFFF;\n",
              "    }\n",
              "  </style>\n",
              "\n",
              "      <script>\n",
              "        const buttonEl =\n",
              "          document.querySelector('#df-9a0dc349-6164-44c3-a73a-95eae7134e46 button.colab-df-convert');\n",
              "        buttonEl.style.display =\n",
              "          google.colab.kernel.accessAllowed ? 'block' : 'none';\n",
              "\n",
              "        async function convertToInteractive(key) {\n",
              "          const element = document.querySelector('#df-9a0dc349-6164-44c3-a73a-95eae7134e46');\n",
              "          const dataTable =\n",
              "            await google.colab.kernel.invokeFunction('convertToInteractive',\n",
              "                                                     [key], {});\n",
              "          if (!dataTable) return;\n",
              "\n",
              "          const docLinkHtml = 'Like what you see? Visit the ' +\n",
              "            '<a target=\"_blank\" href=https://colab.research.google.com/notebooks/data_table.ipynb>data table notebook</a>'\n",
              "            + ' to learn more about interactive tables.';\n",
              "          element.innerHTML = '';\n",
              "          dataTable['output_type'] = 'display_data';\n",
              "          await google.colab.output.renderOutput(dataTable, element);\n",
              "          const docLink = document.createElement('div');\n",
              "          docLink.innerHTML = docLinkHtml;\n",
              "          element.appendChild(docLink);\n",
              "        }\n",
              "      </script>\n",
              "    </div>\n",
              "  </div>\n",
              "  "
            ]
          },
          "metadata": {},
          "execution_count": 25
        }
      ],
      "source": [
        "df_bankrupt_2.describe()"
      ]
    },
    {
      "cell_type": "code",
      "execution_count": null,
      "id": "0b50b6d6",
      "metadata": {
        "id": "0b50b6d6",
        "outputId": "9549b905-6e9a-44f3-99cb-af9d435f8e7b",
        "colab": {
          "base_uri": "https://localhost:8080/",
          "height": 480
        }
      },
      "outputs": [
        {
          "output_type": "execute_result",
          "data": {
            "text/plain": [
              "       Bankrupt?   ROA(C) before interest and depreciation before interest  \\\n",
              "count      220.0                                         220.000000          \n",
              "mean         1.0                                           0.418503          \n",
              "std          0.0                                           0.081068          \n",
              "min          1.0                                           0.024277          \n",
              "25%          1.0                                           0.391703          \n",
              "50%          1.0                                           0.441330          \n",
              "75%          1.0                                           0.469276          \n",
              "max          1.0                                           0.576951          \n",
              "\n",
              "        ROA(A) before interest and % after tax  \\\n",
              "count                               220.000000   \n",
              "mean                                  0.456947   \n",
              "std                                   0.107674   \n",
              "min                                   0.000000   \n",
              "25%                                   0.431531   \n",
              "50%                                   0.490215   \n",
              "75%                                   0.526630   \n",
              "max                                   0.582861   \n",
              "\n",
              "        ROA(B) before interest and depreciation after tax  \\\n",
              "count                                         220.000000    \n",
              "mean                                            0.461483    \n",
              "std                                             0.091825    \n",
              "min                                             0.033514    \n",
              "25%                                             0.432665    \n",
              "50%                                             0.488597    \n",
              "75%                                             0.519153    \n",
              "max                                             0.619091    \n",
              "\n",
              "        Operating Gross Margin   Realized Sales Gross Margin  \\\n",
              "count               220.000000                    220.000000   \n",
              "mean                  0.598670                      0.598717   \n",
              "std                   0.014595                      0.014583   \n",
              "min                   0.532906                      0.532906   \n",
              "25%                   0.593924                      0.593915   \n",
              "50%                   0.598802                      0.598899   \n",
              "75%                   0.603500                      0.603493   \n",
              "max                   0.665151                      0.665151   \n",
              "\n",
              "        Operating Profit Rate   Pre-tax net Interest Rate  \\\n",
              "count              220.000000                  220.000000   \n",
              "mean                 0.998739                    0.796590   \n",
              "std                  0.000709                    0.003177   \n",
              "min                  0.991888                    0.757216   \n",
              "25%                  0.998748                    0.796831   \n",
              "50%                  0.998899                    0.797156   \n",
              "75%                  0.998976                    0.797338   \n",
              "max                  0.999254                    0.797761   \n",
              "\n",
              "        After-tax net Interest Rate  \\\n",
              "count                    220.000000   \n",
              "mean                       0.808424   \n",
              "std                        0.004174   \n",
              "min                        0.761550   \n",
              "25%                        0.808741   \n",
              "50%                        0.809092   \n",
              "75%                        0.809269   \n",
              "max                        0.809691   \n",
              "\n",
              "        Non-industry income and expenditure/revenue  ...  \\\n",
              "count                                    220.000000  ...   \n",
              "mean                                       0.302609  ...   \n",
              "std                                        0.005099  ...   \n",
              "min                                        0.235090  ...   \n",
              "25%                                        0.303015  ...   \n",
              "50%                                        0.303347  ...   \n",
              "75%                                        0.303444  ...   \n",
              "max                                        0.305396  ...   \n",
              "\n",
              "        Net Income to Total Assets   Total assets to GNP price  \\\n",
              "count                   220.000000                2.200000e+02   \n",
              "mean                      0.738083                9.100000e+07   \n",
              "std                       0.081092                8.436461e+08   \n",
              "min                       0.411809                1.323021e-04   \n",
              "25%                       0.719248                1.216905e-03   \n",
              "50%                       0.766297                3.853295e-03   \n",
              "75%                       0.789621                9.618748e-03   \n",
              "max                       0.819091                9.170000e+09   \n",
              "\n",
              "        No-credit Interval   Gross Profit to Sales  \\\n",
              "count           220.000000              220.000000   \n",
              "mean              0.623541                0.598669   \n",
              "std               0.006480                0.014595   \n",
              "min               0.587512                0.532907   \n",
              "25%               0.622732                0.593921   \n",
              "50%               0.623555                0.598798   \n",
              "75%               0.623854                0.603500   \n",
              "max               0.679654                0.665149   \n",
              "\n",
              "        Net Income to Stockholder's Equity   Liability to Equity  \\\n",
              "count                           220.000000            220.000000   \n",
              "mean                              0.826008              0.293578   \n",
              "std                               0.075758              0.068479   \n",
              "min                               0.000000              0.000000   \n",
              "25%                               0.831277              0.282084   \n",
              "50%                               0.836707              0.285852   \n",
              "75%                               0.839661              0.290377   \n",
              "max                               1.000000              1.000000   \n",
              "\n",
              "        Degree of Financial Leverage (DFL)  \\\n",
              "count                           220.000000   \n",
              "mean                              0.028443   \n",
              "std                               0.016434   \n",
              "min                               0.020760   \n",
              "25%                               0.026519   \n",
              "50%                               0.026689   \n",
              "75%                               0.026779   \n",
              "max                               0.264577   \n",
              "\n",
              "        Interest Coverage Ratio (Interest expense to EBIT)   Net Income Flag  \\\n",
              "count                                         220.000000               220.0   \n",
              "mean                                            0.564959                 1.0   \n",
              "std                                             0.005907                 0.0   \n",
              "min                                             0.547146                 1.0   \n",
              "25%                                             0.563697                 1.0   \n",
              "50%                                             0.564712                 1.0   \n",
              "75%                                             0.565271                 1.0   \n",
              "max                                             0.624147                 1.0   \n",
              "\n",
              "        Equity to Liability  \n",
              "count            220.000000  \n",
              "mean               0.024832  \n",
              "std                0.054424  \n",
              "min                0.003946  \n",
              "25%                0.015828  \n",
              "50%                0.018662  \n",
              "75%                0.022721  \n",
              "max                0.798122  \n",
              "\n",
              "[8 rows x 96 columns]"
            ],
            "text/html": [
              "\n",
              "  <div id=\"df-eda158a1-3382-41a2-84b7-4f93c570e089\">\n",
              "    <div class=\"colab-df-container\">\n",
              "      <div>\n",
              "<style scoped>\n",
              "    .dataframe tbody tr th:only-of-type {\n",
              "        vertical-align: middle;\n",
              "    }\n",
              "\n",
              "    .dataframe tbody tr th {\n",
              "        vertical-align: top;\n",
              "    }\n",
              "\n",
              "    .dataframe thead th {\n",
              "        text-align: right;\n",
              "    }\n",
              "</style>\n",
              "<table border=\"1\" class=\"dataframe\">\n",
              "  <thead>\n",
              "    <tr style=\"text-align: right;\">\n",
              "      <th></th>\n",
              "      <th>Bankrupt?</th>\n",
              "      <th>ROA(C) before interest and depreciation before interest</th>\n",
              "      <th>ROA(A) before interest and % after tax</th>\n",
              "      <th>ROA(B) before interest and depreciation after tax</th>\n",
              "      <th>Operating Gross Margin</th>\n",
              "      <th>Realized Sales Gross Margin</th>\n",
              "      <th>Operating Profit Rate</th>\n",
              "      <th>Pre-tax net Interest Rate</th>\n",
              "      <th>After-tax net Interest Rate</th>\n",
              "      <th>Non-industry income and expenditure/revenue</th>\n",
              "      <th>...</th>\n",
              "      <th>Net Income to Total Assets</th>\n",
              "      <th>Total assets to GNP price</th>\n",
              "      <th>No-credit Interval</th>\n",
              "      <th>Gross Profit to Sales</th>\n",
              "      <th>Net Income to Stockholder's Equity</th>\n",
              "      <th>Liability to Equity</th>\n",
              "      <th>Degree of Financial Leverage (DFL)</th>\n",
              "      <th>Interest Coverage Ratio (Interest expense to EBIT)</th>\n",
              "      <th>Net Income Flag</th>\n",
              "      <th>Equity to Liability</th>\n",
              "    </tr>\n",
              "  </thead>\n",
              "  <tbody>\n",
              "    <tr>\n",
              "      <th>count</th>\n",
              "      <td>220.0</td>\n",
              "      <td>220.000000</td>\n",
              "      <td>220.000000</td>\n",
              "      <td>220.000000</td>\n",
              "      <td>220.000000</td>\n",
              "      <td>220.000000</td>\n",
              "      <td>220.000000</td>\n",
              "      <td>220.000000</td>\n",
              "      <td>220.000000</td>\n",
              "      <td>220.000000</td>\n",
              "      <td>...</td>\n",
              "      <td>220.000000</td>\n",
              "      <td>2.200000e+02</td>\n",
              "      <td>220.000000</td>\n",
              "      <td>220.000000</td>\n",
              "      <td>220.000000</td>\n",
              "      <td>220.000000</td>\n",
              "      <td>220.000000</td>\n",
              "      <td>220.000000</td>\n",
              "      <td>220.0</td>\n",
              "      <td>220.000000</td>\n",
              "    </tr>\n",
              "    <tr>\n",
              "      <th>mean</th>\n",
              "      <td>1.0</td>\n",
              "      <td>0.418503</td>\n",
              "      <td>0.456947</td>\n",
              "      <td>0.461483</td>\n",
              "      <td>0.598670</td>\n",
              "      <td>0.598717</td>\n",
              "      <td>0.998739</td>\n",
              "      <td>0.796590</td>\n",
              "      <td>0.808424</td>\n",
              "      <td>0.302609</td>\n",
              "      <td>...</td>\n",
              "      <td>0.738083</td>\n",
              "      <td>9.100000e+07</td>\n",
              "      <td>0.623541</td>\n",
              "      <td>0.598669</td>\n",
              "      <td>0.826008</td>\n",
              "      <td>0.293578</td>\n",
              "      <td>0.028443</td>\n",
              "      <td>0.564959</td>\n",
              "      <td>1.0</td>\n",
              "      <td>0.024832</td>\n",
              "    </tr>\n",
              "    <tr>\n",
              "      <th>std</th>\n",
              "      <td>0.0</td>\n",
              "      <td>0.081068</td>\n",
              "      <td>0.107674</td>\n",
              "      <td>0.091825</td>\n",
              "      <td>0.014595</td>\n",
              "      <td>0.014583</td>\n",
              "      <td>0.000709</td>\n",
              "      <td>0.003177</td>\n",
              "      <td>0.004174</td>\n",
              "      <td>0.005099</td>\n",
              "      <td>...</td>\n",
              "      <td>0.081092</td>\n",
              "      <td>8.436461e+08</td>\n",
              "      <td>0.006480</td>\n",
              "      <td>0.014595</td>\n",
              "      <td>0.075758</td>\n",
              "      <td>0.068479</td>\n",
              "      <td>0.016434</td>\n",
              "      <td>0.005907</td>\n",
              "      <td>0.0</td>\n",
              "      <td>0.054424</td>\n",
              "    </tr>\n",
              "    <tr>\n",
              "      <th>min</th>\n",
              "      <td>1.0</td>\n",
              "      <td>0.024277</td>\n",
              "      <td>0.000000</td>\n",
              "      <td>0.033514</td>\n",
              "      <td>0.532906</td>\n",
              "      <td>0.532906</td>\n",
              "      <td>0.991888</td>\n",
              "      <td>0.757216</td>\n",
              "      <td>0.761550</td>\n",
              "      <td>0.235090</td>\n",
              "      <td>...</td>\n",
              "      <td>0.411809</td>\n",
              "      <td>1.323021e-04</td>\n",
              "      <td>0.587512</td>\n",
              "      <td>0.532907</td>\n",
              "      <td>0.000000</td>\n",
              "      <td>0.000000</td>\n",
              "      <td>0.020760</td>\n",
              "      <td>0.547146</td>\n",
              "      <td>1.0</td>\n",
              "      <td>0.003946</td>\n",
              "    </tr>\n",
              "    <tr>\n",
              "      <th>25%</th>\n",
              "      <td>1.0</td>\n",
              "      <td>0.391703</td>\n",
              "      <td>0.431531</td>\n",
              "      <td>0.432665</td>\n",
              "      <td>0.593924</td>\n",
              "      <td>0.593915</td>\n",
              "      <td>0.998748</td>\n",
              "      <td>0.796831</td>\n",
              "      <td>0.808741</td>\n",
              "      <td>0.303015</td>\n",
              "      <td>...</td>\n",
              "      <td>0.719248</td>\n",
              "      <td>1.216905e-03</td>\n",
              "      <td>0.622732</td>\n",
              "      <td>0.593921</td>\n",
              "      <td>0.831277</td>\n",
              "      <td>0.282084</td>\n",
              "      <td>0.026519</td>\n",
              "      <td>0.563697</td>\n",
              "      <td>1.0</td>\n",
              "      <td>0.015828</td>\n",
              "    </tr>\n",
              "    <tr>\n",
              "      <th>50%</th>\n",
              "      <td>1.0</td>\n",
              "      <td>0.441330</td>\n",
              "      <td>0.490215</td>\n",
              "      <td>0.488597</td>\n",
              "      <td>0.598802</td>\n",
              "      <td>0.598899</td>\n",
              "      <td>0.998899</td>\n",
              "      <td>0.797156</td>\n",
              "      <td>0.809092</td>\n",
              "      <td>0.303347</td>\n",
              "      <td>...</td>\n",
              "      <td>0.766297</td>\n",
              "      <td>3.853295e-03</td>\n",
              "      <td>0.623555</td>\n",
              "      <td>0.598798</td>\n",
              "      <td>0.836707</td>\n",
              "      <td>0.285852</td>\n",
              "      <td>0.026689</td>\n",
              "      <td>0.564712</td>\n",
              "      <td>1.0</td>\n",
              "      <td>0.018662</td>\n",
              "    </tr>\n",
              "    <tr>\n",
              "      <th>75%</th>\n",
              "      <td>1.0</td>\n",
              "      <td>0.469276</td>\n",
              "      <td>0.526630</td>\n",
              "      <td>0.519153</td>\n",
              "      <td>0.603500</td>\n",
              "      <td>0.603493</td>\n",
              "      <td>0.998976</td>\n",
              "      <td>0.797338</td>\n",
              "      <td>0.809269</td>\n",
              "      <td>0.303444</td>\n",
              "      <td>...</td>\n",
              "      <td>0.789621</td>\n",
              "      <td>9.618748e-03</td>\n",
              "      <td>0.623854</td>\n",
              "      <td>0.603500</td>\n",
              "      <td>0.839661</td>\n",
              "      <td>0.290377</td>\n",
              "      <td>0.026779</td>\n",
              "      <td>0.565271</td>\n",
              "      <td>1.0</td>\n",
              "      <td>0.022721</td>\n",
              "    </tr>\n",
              "    <tr>\n",
              "      <th>max</th>\n",
              "      <td>1.0</td>\n",
              "      <td>0.576951</td>\n",
              "      <td>0.582861</td>\n",
              "      <td>0.619091</td>\n",
              "      <td>0.665151</td>\n",
              "      <td>0.665151</td>\n",
              "      <td>0.999254</td>\n",
              "      <td>0.797761</td>\n",
              "      <td>0.809691</td>\n",
              "      <td>0.305396</td>\n",
              "      <td>...</td>\n",
              "      <td>0.819091</td>\n",
              "      <td>9.170000e+09</td>\n",
              "      <td>0.679654</td>\n",
              "      <td>0.665149</td>\n",
              "      <td>1.000000</td>\n",
              "      <td>1.000000</td>\n",
              "      <td>0.264577</td>\n",
              "      <td>0.624147</td>\n",
              "      <td>1.0</td>\n",
              "      <td>0.798122</td>\n",
              "    </tr>\n",
              "  </tbody>\n",
              "</table>\n",
              "<p>8 rows × 96 columns</p>\n",
              "</div>\n",
              "      <button class=\"colab-df-convert\" onclick=\"convertToInteractive('df-eda158a1-3382-41a2-84b7-4f93c570e089')\"\n",
              "              title=\"Convert this dataframe to an interactive table.\"\n",
              "              style=\"display:none;\">\n",
              "        \n",
              "  <svg xmlns=\"http://www.w3.org/2000/svg\" height=\"24px\"viewBox=\"0 0 24 24\"\n",
              "       width=\"24px\">\n",
              "    <path d=\"M0 0h24v24H0V0z\" fill=\"none\"/>\n",
              "    <path d=\"M18.56 5.44l.94 2.06.94-2.06 2.06-.94-2.06-.94-.94-2.06-.94 2.06-2.06.94zm-11 1L8.5 8.5l.94-2.06 2.06-.94-2.06-.94L8.5 2.5l-.94 2.06-2.06.94zm10 10l.94 2.06.94-2.06 2.06-.94-2.06-.94-.94-2.06-.94 2.06-2.06.94z\"/><path d=\"M17.41 7.96l-1.37-1.37c-.4-.4-.92-.59-1.43-.59-.52 0-1.04.2-1.43.59L10.3 9.45l-7.72 7.72c-.78.78-.78 2.05 0 2.83L4 21.41c.39.39.9.59 1.41.59.51 0 1.02-.2 1.41-.59l7.78-7.78 2.81-2.81c.8-.78.8-2.07 0-2.86zM5.41 20L4 18.59l7.72-7.72 1.47 1.35L5.41 20z\"/>\n",
              "  </svg>\n",
              "      </button>\n",
              "      \n",
              "  <style>\n",
              "    .colab-df-container {\n",
              "      display:flex;\n",
              "      flex-wrap:wrap;\n",
              "      gap: 12px;\n",
              "    }\n",
              "\n",
              "    .colab-df-convert {\n",
              "      background-color: #E8F0FE;\n",
              "      border: none;\n",
              "      border-radius: 50%;\n",
              "      cursor: pointer;\n",
              "      display: none;\n",
              "      fill: #1967D2;\n",
              "      height: 32px;\n",
              "      padding: 0 0 0 0;\n",
              "      width: 32px;\n",
              "    }\n",
              "\n",
              "    .colab-df-convert:hover {\n",
              "      background-color: #E2EBFA;\n",
              "      box-shadow: 0px 1px 2px rgba(60, 64, 67, 0.3), 0px 1px 3px 1px rgba(60, 64, 67, 0.15);\n",
              "      fill: #174EA6;\n",
              "    }\n",
              "\n",
              "    [theme=dark] .colab-df-convert {\n",
              "      background-color: #3B4455;\n",
              "      fill: #D2E3FC;\n",
              "    }\n",
              "\n",
              "    [theme=dark] .colab-df-convert:hover {\n",
              "      background-color: #434B5C;\n",
              "      box-shadow: 0px 1px 3px 1px rgba(0, 0, 0, 0.15);\n",
              "      filter: drop-shadow(0px 1px 2px rgba(0, 0, 0, 0.3));\n",
              "      fill: #FFFFFF;\n",
              "    }\n",
              "  </style>\n",
              "\n",
              "      <script>\n",
              "        const buttonEl =\n",
              "          document.querySelector('#df-eda158a1-3382-41a2-84b7-4f93c570e089 button.colab-df-convert');\n",
              "        buttonEl.style.display =\n",
              "          google.colab.kernel.accessAllowed ? 'block' : 'none';\n",
              "\n",
              "        async function convertToInteractive(key) {\n",
              "          const element = document.querySelector('#df-eda158a1-3382-41a2-84b7-4f93c570e089');\n",
              "          const dataTable =\n",
              "            await google.colab.kernel.invokeFunction('convertToInteractive',\n",
              "                                                     [key], {});\n",
              "          if (!dataTable) return;\n",
              "\n",
              "          const docLinkHtml = 'Like what you see? Visit the ' +\n",
              "            '<a target=\"_blank\" href=https://colab.research.google.com/notebooks/data_table.ipynb>data table notebook</a>'\n",
              "            + ' to learn more about interactive tables.';\n",
              "          element.innerHTML = '';\n",
              "          dataTable['output_type'] = 'display_data';\n",
              "          await google.colab.output.renderOutput(dataTable, element);\n",
              "          const docLink = document.createElement('div');\n",
              "          docLink.innerHTML = docLinkHtml;\n",
              "          element.appendChild(docLink);\n",
              "        }\n",
              "      </script>\n",
              "    </div>\n",
              "  </div>\n",
              "  "
            ]
          },
          "metadata": {},
          "execution_count": 26
        }
      ],
      "source": [
        "df_bankrupt.describe()"
      ]
    },
    {
      "cell_type": "markdown",
      "id": "ef843120",
      "metadata": {
        "id": "ef843120"
      },
      "source": [
        "In comparison, we can see after oversampling the banrkupts companies data has increase to 6599, meanwhile the characteristics of the banrkupts companies data does not change significantly. "
      ]
    },
    {
      "cell_type": "markdown",
      "id": "65fddea1",
      "metadata": {
        "id": "65fddea1"
      },
      "source": [
        "## data standardization \n",
        "\n",
        "We see the mean not equal 0 and std smaller than 1 from the table on above. So, we need to standardize our dataset, data standardization is making sure the consistency when we comparing the each attributes in regression models. "
      ]
    },
    {
      "cell_type": "code",
      "execution_count": null,
      "id": "ddf24b5b",
      "metadata": {
        "id": "ddf24b5b",
        "outputId": "2e4a2ce8-14ff-4409-b656-86d69185f8ed",
        "colab": {
          "base_uri": "https://localhost:8080/",
          "height": 550
        }
      },
      "outputs": [
        {
          "output_type": "display_data",
          "data": {
            "text/plain": [
              "          Bankrupt?   ROA(C) before interest and depreciation before interest  \\\n",
              "count  13198.000000                                       1.319800e+04          \n",
              "mean       0.000000                                      -2.067347e-16          \n",
              "std        1.000038                                       1.000038e+00          \n",
              "min       -1.000000                                      -6.250420e+00          \n",
              "25%       -1.000000                                      -4.808295e-01          \n",
              "50%        0.000000                                       6.700062e-02          \n",
              "75%        1.000000                                       5.475528e-01          \n",
              "max        1.000000                                       7.221400e+00          \n",
              "\n",
              "        ROA(A) before interest and % after tax  \\\n",
              "count                             1.319800e+04   \n",
              "mean                             -1.033673e-15   \n",
              "std                               1.000038e+00   \n",
              "min                              -5.819008e+00   \n",
              "25%                              -4.312993e-01   \n",
              "50%                               1.746400e-01   \n",
              "75%                               5.734998e-01   \n",
              "max                               5.553993e+00   \n",
              "\n",
              "        ROA(B) before interest and depreciation after tax  \\\n",
              "count                                       1.319800e+04    \n",
              "mean                                       -2.411904e-16    \n",
              "std                                         1.000038e+00    \n",
              "min                                        -6.359039e+00    \n",
              "25%                                        -4.409344e-01    \n",
              "50%                                         1.118323e-01    \n",
              "75%                                         5.615086e-01    \n",
              "max                                         6.119860e+00    \n",
              "\n",
              "        Operating Gross Margin   Realized Sales Gross Margin  \\\n",
              "count             1.319800e+04                  1.319800e+04   \n",
              "mean             -5.719659e-15                  2.067347e-16   \n",
              "std               1.000038e+00                  1.000038e+00   \n",
              "min              -3.862165e+01                 -3.866216e+01   \n",
              "25%              -3.829384e-01                 -3.819499e-01   \n",
              "50%              -6.738051e-02                 -6.810546e-02   \n",
              "75%               3.783524e-01                  3.787187e-01   \n",
              "max               2.543624e+01                  2.546230e+01   \n",
              "\n",
              "        Operating Profit Rate   Pre-tax net Interest Rate  \\\n",
              "count            1.319800e+04                1.319800e+04   \n",
              "mean             4.740092e-15               -2.336532e-16   \n",
              "std              1.000038e+00                1.000038e+00   \n",
              "min             -1.066145e+02               -8.584697e+01   \n",
              "25%              1.369511e-02                5.239315e-03   \n",
              "50%              2.585808e-02                3.682880e-02   \n",
              "75%              3.349127e-02                5.261340e-02   \n",
              "max              1.368077e-01                2.186704e+01   \n",
              "\n",
              "        After-tax net Interest Rate  \\\n",
              "count                  1.319800e+04   \n",
              "mean                   1.699101e-15   \n",
              "std                    1.000038e+00   \n",
              "min                   -8.251225e+01   \n",
              "25%                    7.049067e-03   \n",
              "50%                    3.550629e-02   \n",
              "75%                    4.831086e-02   \n",
              "max                    1.949169e+01   \n",
              "\n",
              "        Non-industry income and expenditure/revenue  ...  \\\n",
              "count                                  1.319800e+04  ...   \n",
              "mean                                  -6.042682e-15  ...   \n",
              "std                                    1.000038e+00  ...   \n",
              "min                                   -3.771967e+01  ...   \n",
              "25%                                   -1.534143e-02  ...   \n",
              "50%                                    1.195583e-02  ...   \n",
              "75%                                    2.331788e-02  ...   \n",
              "max                                    8.662393e+01  ...   \n",
              "\n",
              "        Net Income to Total Assets   Total assets to GNP price  \\\n",
              "count                 1.319800e+04                1.319800e+04   \n",
              "mean                 -1.481598e-15                4.306972e-18   \n",
              "std                   1.000038e+00                1.000038e+00   \n",
              "min                  -1.237023e+01               -7.497301e-02   \n",
              "25%                  -3.226589e-01               -7.497301e-02   \n",
              "50%                   2.252187e-01               -7.497301e-02   \n",
              "75%                   5.795488e-01               -7.497301e-02   \n",
              "max                   3.584673e+00                1.877992e+01   \n",
              "\n",
              "        No-credit Interval   Gross Profit to Sales  \\\n",
              "count         1.319800e+04            1.319800e+04   \n",
              "mean          3.184468e-15            2.411904e-16   \n",
              "std           1.000038e+00            1.000038e+00   \n",
              "min          -6.212982e+01           -3.862157e+01   \n",
              "25%          -7.466560e-02           -3.830592e-01   \n",
              "50%          -1.234593e-02           -6.741867e-02   \n",
              "75%           2.254960e-02            3.784013e-01   \n",
              "max           3.746472e+01            2.543637e+01   \n",
              "\n",
              "        Net Income to Stockholder's Equity   Liability to Equity  \\\n",
              "count                         1.319800e+04          1.319800e+04   \n",
              "mean                         -6.805016e-16          9.303060e-16   \n",
              "std                           1.000038e+00          1.000038e+00   \n",
              "min                          -2.333912e+01         -1.032524e+01   \n",
              "25%                           2.624907e-02         -2.445719e-01   \n",
              "50%                           1.380967e-01         -1.059974e-01   \n",
              "75%                           1.889195e-01          6.492527e-02   \n",
              "max                           4.622599e+00          2.590032e+01   \n",
              "\n",
              "        Degree of Financial Leverage (DFL)  \\\n",
              "count                         1.319800e+04   \n",
              "mean                          2.638020e-17   \n",
              "std                           1.000038e+00   \n",
              "min                          -2.247105e+00   \n",
              "25%                          -8.099938e-02   \n",
              "50%                          -6.795238e-02   \n",
              "75%                          -5.900532e-02   \n",
              "max                           7.909138e+01   \n",
              "\n",
              "        Interest Coverage Ratio (Interest expense to EBIT)   Net Income Flag  \\\n",
              "count                                       1.319800e+04             13198.0   \n",
              "mean                                       -3.943033e-15                 0.0   \n",
              "std                                         1.000038e+00                 0.0   \n",
              "min                                        -5.559315e+01                 0.0   \n",
              "25%                                        -8.280476e-02                 0.0   \n",
              "50%                                        -9.902670e-03                 0.0   \n",
              "75%                                         5.003650e-02                 0.0   \n",
              "max                                         4.275616e+01                 0.0   \n",
              "\n",
              "        Equity to Liability  \n",
              "count          13198.000000  \n",
              "mean               0.000000  \n",
              "std                1.000038  \n",
              "min               -0.845203  \n",
              "25%               -0.401094  \n",
              "50%               -0.283685  \n",
              "75%                0.025982  \n",
              "max               23.271880  \n",
              "\n",
              "[8 rows x 96 columns]"
            ],
            "text/html": [
              "\n",
              "  <div id=\"df-cb157696-3cee-4b99-aee7-1da415883901\">\n",
              "    <div class=\"colab-df-container\">\n",
              "      <div>\n",
              "<style scoped>\n",
              "    .dataframe tbody tr th:only-of-type {\n",
              "        vertical-align: middle;\n",
              "    }\n",
              "\n",
              "    .dataframe tbody tr th {\n",
              "        vertical-align: top;\n",
              "    }\n",
              "\n",
              "    .dataframe thead th {\n",
              "        text-align: right;\n",
              "    }\n",
              "</style>\n",
              "<table border=\"1\" class=\"dataframe\">\n",
              "  <thead>\n",
              "    <tr style=\"text-align: right;\">\n",
              "      <th></th>\n",
              "      <th>Bankrupt?</th>\n",
              "      <th>ROA(C) before interest and depreciation before interest</th>\n",
              "      <th>ROA(A) before interest and % after tax</th>\n",
              "      <th>ROA(B) before interest and depreciation after tax</th>\n",
              "      <th>Operating Gross Margin</th>\n",
              "      <th>Realized Sales Gross Margin</th>\n",
              "      <th>Operating Profit Rate</th>\n",
              "      <th>Pre-tax net Interest Rate</th>\n",
              "      <th>After-tax net Interest Rate</th>\n",
              "      <th>Non-industry income and expenditure/revenue</th>\n",
              "      <th>...</th>\n",
              "      <th>Net Income to Total Assets</th>\n",
              "      <th>Total assets to GNP price</th>\n",
              "      <th>No-credit Interval</th>\n",
              "      <th>Gross Profit to Sales</th>\n",
              "      <th>Net Income to Stockholder's Equity</th>\n",
              "      <th>Liability to Equity</th>\n",
              "      <th>Degree of Financial Leverage (DFL)</th>\n",
              "      <th>Interest Coverage Ratio (Interest expense to EBIT)</th>\n",
              "      <th>Net Income Flag</th>\n",
              "      <th>Equity to Liability</th>\n",
              "    </tr>\n",
              "  </thead>\n",
              "  <tbody>\n",
              "    <tr>\n",
              "      <th>count</th>\n",
              "      <td>13198.000000</td>\n",
              "      <td>1.319800e+04</td>\n",
              "      <td>1.319800e+04</td>\n",
              "      <td>1.319800e+04</td>\n",
              "      <td>1.319800e+04</td>\n",
              "      <td>1.319800e+04</td>\n",
              "      <td>1.319800e+04</td>\n",
              "      <td>1.319800e+04</td>\n",
              "      <td>1.319800e+04</td>\n",
              "      <td>1.319800e+04</td>\n",
              "      <td>...</td>\n",
              "      <td>1.319800e+04</td>\n",
              "      <td>1.319800e+04</td>\n",
              "      <td>1.319800e+04</td>\n",
              "      <td>1.319800e+04</td>\n",
              "      <td>1.319800e+04</td>\n",
              "      <td>1.319800e+04</td>\n",
              "      <td>1.319800e+04</td>\n",
              "      <td>1.319800e+04</td>\n",
              "      <td>13198.0</td>\n",
              "      <td>13198.000000</td>\n",
              "    </tr>\n",
              "    <tr>\n",
              "      <th>mean</th>\n",
              "      <td>0.000000</td>\n",
              "      <td>-2.067347e-16</td>\n",
              "      <td>-1.033673e-15</td>\n",
              "      <td>-2.411904e-16</td>\n",
              "      <td>-5.719659e-15</td>\n",
              "      <td>2.067347e-16</td>\n",
              "      <td>4.740092e-15</td>\n",
              "      <td>-2.336532e-16</td>\n",
              "      <td>1.699101e-15</td>\n",
              "      <td>-6.042682e-15</td>\n",
              "      <td>...</td>\n",
              "      <td>-1.481598e-15</td>\n",
              "      <td>4.306972e-18</td>\n",
              "      <td>3.184468e-15</td>\n",
              "      <td>2.411904e-16</td>\n",
              "      <td>-6.805016e-16</td>\n",
              "      <td>9.303060e-16</td>\n",
              "      <td>2.638020e-17</td>\n",
              "      <td>-3.943033e-15</td>\n",
              "      <td>0.0</td>\n",
              "      <td>0.000000</td>\n",
              "    </tr>\n",
              "    <tr>\n",
              "      <th>std</th>\n",
              "      <td>1.000038</td>\n",
              "      <td>1.000038e+00</td>\n",
              "      <td>1.000038e+00</td>\n",
              "      <td>1.000038e+00</td>\n",
              "      <td>1.000038e+00</td>\n",
              "      <td>1.000038e+00</td>\n",
              "      <td>1.000038e+00</td>\n",
              "      <td>1.000038e+00</td>\n",
              "      <td>1.000038e+00</td>\n",
              "      <td>1.000038e+00</td>\n",
              "      <td>...</td>\n",
              "      <td>1.000038e+00</td>\n",
              "      <td>1.000038e+00</td>\n",
              "      <td>1.000038e+00</td>\n",
              "      <td>1.000038e+00</td>\n",
              "      <td>1.000038e+00</td>\n",
              "      <td>1.000038e+00</td>\n",
              "      <td>1.000038e+00</td>\n",
              "      <td>1.000038e+00</td>\n",
              "      <td>0.0</td>\n",
              "      <td>1.000038</td>\n",
              "    </tr>\n",
              "    <tr>\n",
              "      <th>min</th>\n",
              "      <td>-1.000000</td>\n",
              "      <td>-6.250420e+00</td>\n",
              "      <td>-5.819008e+00</td>\n",
              "      <td>-6.359039e+00</td>\n",
              "      <td>-3.862165e+01</td>\n",
              "      <td>-3.866216e+01</td>\n",
              "      <td>-1.066145e+02</td>\n",
              "      <td>-8.584697e+01</td>\n",
              "      <td>-8.251225e+01</td>\n",
              "      <td>-3.771967e+01</td>\n",
              "      <td>...</td>\n",
              "      <td>-1.237023e+01</td>\n",
              "      <td>-7.497301e-02</td>\n",
              "      <td>-6.212982e+01</td>\n",
              "      <td>-3.862157e+01</td>\n",
              "      <td>-2.333912e+01</td>\n",
              "      <td>-1.032524e+01</td>\n",
              "      <td>-2.247105e+00</td>\n",
              "      <td>-5.559315e+01</td>\n",
              "      <td>0.0</td>\n",
              "      <td>-0.845203</td>\n",
              "    </tr>\n",
              "    <tr>\n",
              "      <th>25%</th>\n",
              "      <td>-1.000000</td>\n",
              "      <td>-4.808295e-01</td>\n",
              "      <td>-4.312993e-01</td>\n",
              "      <td>-4.409344e-01</td>\n",
              "      <td>-3.829384e-01</td>\n",
              "      <td>-3.819499e-01</td>\n",
              "      <td>1.369511e-02</td>\n",
              "      <td>5.239315e-03</td>\n",
              "      <td>7.049067e-03</td>\n",
              "      <td>-1.534143e-02</td>\n",
              "      <td>...</td>\n",
              "      <td>-3.226589e-01</td>\n",
              "      <td>-7.497301e-02</td>\n",
              "      <td>-7.466560e-02</td>\n",
              "      <td>-3.830592e-01</td>\n",
              "      <td>2.624907e-02</td>\n",
              "      <td>-2.445719e-01</td>\n",
              "      <td>-8.099938e-02</td>\n",
              "      <td>-8.280476e-02</td>\n",
              "      <td>0.0</td>\n",
              "      <td>-0.401094</td>\n",
              "    </tr>\n",
              "    <tr>\n",
              "      <th>50%</th>\n",
              "      <td>0.000000</td>\n",
              "      <td>6.700062e-02</td>\n",
              "      <td>1.746400e-01</td>\n",
              "      <td>1.118323e-01</td>\n",
              "      <td>-6.738051e-02</td>\n",
              "      <td>-6.810546e-02</td>\n",
              "      <td>2.585808e-02</td>\n",
              "      <td>3.682880e-02</td>\n",
              "      <td>3.550629e-02</td>\n",
              "      <td>1.195583e-02</td>\n",
              "      <td>...</td>\n",
              "      <td>2.252187e-01</td>\n",
              "      <td>-7.497301e-02</td>\n",
              "      <td>-1.234593e-02</td>\n",
              "      <td>-6.741867e-02</td>\n",
              "      <td>1.380967e-01</td>\n",
              "      <td>-1.059974e-01</td>\n",
              "      <td>-6.795238e-02</td>\n",
              "      <td>-9.902670e-03</td>\n",
              "      <td>0.0</td>\n",
              "      <td>-0.283685</td>\n",
              "    </tr>\n",
              "    <tr>\n",
              "      <th>75%</th>\n",
              "      <td>1.000000</td>\n",
              "      <td>5.475528e-01</td>\n",
              "      <td>5.734998e-01</td>\n",
              "      <td>5.615086e-01</td>\n",
              "      <td>3.783524e-01</td>\n",
              "      <td>3.787187e-01</td>\n",
              "      <td>3.349127e-02</td>\n",
              "      <td>5.261340e-02</td>\n",
              "      <td>4.831086e-02</td>\n",
              "      <td>2.331788e-02</td>\n",
              "      <td>...</td>\n",
              "      <td>5.795488e-01</td>\n",
              "      <td>-7.497301e-02</td>\n",
              "      <td>2.254960e-02</td>\n",
              "      <td>3.784013e-01</td>\n",
              "      <td>1.889195e-01</td>\n",
              "      <td>6.492527e-02</td>\n",
              "      <td>-5.900532e-02</td>\n",
              "      <td>5.003650e-02</td>\n",
              "      <td>0.0</td>\n",
              "      <td>0.025982</td>\n",
              "    </tr>\n",
              "    <tr>\n",
              "      <th>max</th>\n",
              "      <td>1.000000</td>\n",
              "      <td>7.221400e+00</td>\n",
              "      <td>5.553993e+00</td>\n",
              "      <td>6.119860e+00</td>\n",
              "      <td>2.543624e+01</td>\n",
              "      <td>2.546230e+01</td>\n",
              "      <td>1.368077e-01</td>\n",
              "      <td>2.186704e+01</td>\n",
              "      <td>1.949169e+01</td>\n",
              "      <td>8.662393e+01</td>\n",
              "      <td>...</td>\n",
              "      <td>3.584673e+00</td>\n",
              "      <td>1.877992e+01</td>\n",
              "      <td>3.746472e+01</td>\n",
              "      <td>2.543637e+01</td>\n",
              "      <td>4.622599e+00</td>\n",
              "      <td>2.590032e+01</td>\n",
              "      <td>7.909138e+01</td>\n",
              "      <td>4.275616e+01</td>\n",
              "      <td>0.0</td>\n",
              "      <td>23.271880</td>\n",
              "    </tr>\n",
              "  </tbody>\n",
              "</table>\n",
              "<p>8 rows × 96 columns</p>\n",
              "</div>\n",
              "      <button class=\"colab-df-convert\" onclick=\"convertToInteractive('df-cb157696-3cee-4b99-aee7-1da415883901')\"\n",
              "              title=\"Convert this dataframe to an interactive table.\"\n",
              "              style=\"display:none;\">\n",
              "        \n",
              "  <svg xmlns=\"http://www.w3.org/2000/svg\" height=\"24px\"viewBox=\"0 0 24 24\"\n",
              "       width=\"24px\">\n",
              "    <path d=\"M0 0h24v24H0V0z\" fill=\"none\"/>\n",
              "    <path d=\"M18.56 5.44l.94 2.06.94-2.06 2.06-.94-2.06-.94-.94-2.06-.94 2.06-2.06.94zm-11 1L8.5 8.5l.94-2.06 2.06-.94-2.06-.94L8.5 2.5l-.94 2.06-2.06.94zm10 10l.94 2.06.94-2.06 2.06-.94-2.06-.94-.94-2.06-.94 2.06-2.06.94z\"/><path d=\"M17.41 7.96l-1.37-1.37c-.4-.4-.92-.59-1.43-.59-.52 0-1.04.2-1.43.59L10.3 9.45l-7.72 7.72c-.78.78-.78 2.05 0 2.83L4 21.41c.39.39.9.59 1.41.59.51 0 1.02-.2 1.41-.59l7.78-7.78 2.81-2.81c.8-.78.8-2.07 0-2.86zM5.41 20L4 18.59l7.72-7.72 1.47 1.35L5.41 20z\"/>\n",
              "  </svg>\n",
              "      </button>\n",
              "      \n",
              "  <style>\n",
              "    .colab-df-container {\n",
              "      display:flex;\n",
              "      flex-wrap:wrap;\n",
              "      gap: 12px;\n",
              "    }\n",
              "\n",
              "    .colab-df-convert {\n",
              "      background-color: #E8F0FE;\n",
              "      border: none;\n",
              "      border-radius: 50%;\n",
              "      cursor: pointer;\n",
              "      display: none;\n",
              "      fill: #1967D2;\n",
              "      height: 32px;\n",
              "      padding: 0 0 0 0;\n",
              "      width: 32px;\n",
              "    }\n",
              "\n",
              "    .colab-df-convert:hover {\n",
              "      background-color: #E2EBFA;\n",
              "      box-shadow: 0px 1px 2px rgba(60, 64, 67, 0.3), 0px 1px 3px 1px rgba(60, 64, 67, 0.15);\n",
              "      fill: #174EA6;\n",
              "    }\n",
              "\n",
              "    [theme=dark] .colab-df-convert {\n",
              "      background-color: #3B4455;\n",
              "      fill: #D2E3FC;\n",
              "    }\n",
              "\n",
              "    [theme=dark] .colab-df-convert:hover {\n",
              "      background-color: #434B5C;\n",
              "      box-shadow: 0px 1px 3px 1px rgba(0, 0, 0, 0.15);\n",
              "      filter: drop-shadow(0px 1px 2px rgba(0, 0, 0, 0.3));\n",
              "      fill: #FFFFFF;\n",
              "    }\n",
              "  </style>\n",
              "\n",
              "      <script>\n",
              "        const buttonEl =\n",
              "          document.querySelector('#df-cb157696-3cee-4b99-aee7-1da415883901 button.colab-df-convert');\n",
              "        buttonEl.style.display =\n",
              "          google.colab.kernel.accessAllowed ? 'block' : 'none';\n",
              "\n",
              "        async function convertToInteractive(key) {\n",
              "          const element = document.querySelector('#df-cb157696-3cee-4b99-aee7-1da415883901');\n",
              "          const dataTable =\n",
              "            await google.colab.kernel.invokeFunction('convertToInteractive',\n",
              "                                                     [key], {});\n",
              "          if (!dataTable) return;\n",
              "\n",
              "          const docLinkHtml = 'Like what you see? Visit the ' +\n",
              "            '<a target=\"_blank\" href=https://colab.research.google.com/notebooks/data_table.ipynb>data table notebook</a>'\n",
              "            + ' to learn more about interactive tables.';\n",
              "          element.innerHTML = '';\n",
              "          dataTable['output_type'] = 'display_data';\n",
              "          await google.colab.output.renderOutput(dataTable, element);\n",
              "          const docLink = document.createElement('div');\n",
              "          docLink.innerHTML = docLinkHtml;\n",
              "          element.appendChild(docLink);\n",
              "        }\n",
              "      </script>\n",
              "    </div>\n",
              "  </div>\n",
              "  "
            ]
          },
          "metadata": {}
        }
      ],
      "source": [
        "# we can use the sklearn standardscale fot this \n",
        "scale = StandardScaler()\n",
        "\n",
        "df_scale = scale.fit_transform(df_oversampled) # all the numerical data are standardised\n",
        "\n",
        "df_sc = pd.DataFrame(df_scale, columns=df_oversampled.columns, index=df_oversampled.index)# transforms matrix back to a dataframe\n",
        "\n",
        "df_sc.describe().round(2) # check it works .describe()\n",
        "\n",
        "display(df_sc.describe())\n",
        "\n",
        "# useful BEFORE MEASURING VARIABLE IMPORTANCE IN REGRESSION MODELS"
      ]
    },
    {
      "cell_type": "markdown",
      "id": "2bfb88cb",
      "metadata": {
        "id": "2bfb88cb"
      },
      "source": [
        "## Finding the feature by machine learning"
      ]
    },
    {
      "cell_type": "markdown",
      "source": [
        "split the dataset into Training set, validation test, and Test set"
      ],
      "metadata": {
        "id": "74DfvogjWjFc"
      },
      "id": "74DfvogjWjFc"
    },
    {
      "cell_type": "code",
      "execution_count": null,
      "id": "f8ebbfd0",
      "metadata": {
        "id": "f8ebbfd0"
      },
      "outputs": [],
      "source": [
        "y = df_sc['Bankrupt?']\n",
        "X = df_sc.drop(columns=['Bankrupt?'])\n",
        "X_train, X_test, y_train, y_test = train_test_split(X, y, random_state=42, test_size=0.2) # split data into 80% training set and 20% test set\n",
        "X_test, X_valid, y_test, y_valid = train_test_split(X_test, y_test, random_state=84, test_size=0.5) # further split the test set into 10% validation set and 10% test set"
      ]
    },
    {
      "cell_type": "markdown",
      "source": [
        "We have split the dataset into 80% training set which allow the model have sufficient source to learn, and then improve its prediction performance. \n",
        "\n",
        "Furthermore, we have split the test set into 10% validation set and 10% test set. The validation set will use to fit-tune the model, and the test set will be used to see whether we have overfitting the model. "
      ],
      "metadata": {
        "id": "eQXiTe57Wr-R"
      },
      "id": "eQXiTe57Wr-R"
    },
    {
      "cell_type": "code",
      "source": [
        "feature_selection=SelectKBest(f_classif,k=10).fit(X_train,y_train)      # k number of specified features\n",
        "selected_features=X_train.columns[feature_selection.get_support()]\n",
        "selected_features"
      ],
      "metadata": {
        "colab": {
          "base_uri": "https://localhost:8080/"
        },
        "id": "XPETQTLaWNZf",
        "outputId": "90daea25-3f3d-402a-f9e2-99867adfd1a4"
      },
      "id": "XPETQTLaWNZf",
      "execution_count": null,
      "outputs": [
        {
          "output_type": "stream",
          "name": "stderr",
          "text": [
            "/usr/local/lib/python3.7/dist-packages/sklearn/feature_selection/_univariate_selection.py:112: UserWarning: Features [93] are constant.\n",
            "  warnings.warn(\"Features %s are constant.\" % constant_features_idx, UserWarning)\n",
            "/usr/local/lib/python3.7/dist-packages/sklearn/feature_selection/_univariate_selection.py:113: RuntimeWarning: invalid value encountered in true_divide\n",
            "  f = msb / msw\n"
          ]
        },
        {
          "output_type": "execute_result",
          "data": {
            "text/plain": [
              "Index([' ROA(C) before interest and depreciation before interest',\n",
              "       ' ROA(A) before interest and % after tax',\n",
              "       ' ROA(B) before interest and depreciation after tax',\n",
              "       ' Persistent EPS in the Last Four Seasons',\n",
              "       ' Per Share Net profit before tax (Yuan ¥)', ' Debt ratio %',\n",
              "       ' Net worth/Assets', ' Net profit before tax/Paid-in capital',\n",
              "       ' Working Capital to Total Assets', ' Net Income to Total Assets'],\n",
              "      dtype='object')"
            ]
          },
          "metadata": {},
          "execution_count": 29
        }
      ]
    },
    {
      "cell_type": "markdown",
      "id": "683b562e",
      "metadata": {
        "id": "683b562e"
      },
      "source": [
        "The SelectKBest technique chooses features based on the top k scores(further exlanation in part 3).\n",
        "\n",
        "We can see the results are the same as our correlation coeffient analysis. \n",
        "Therefore,we think it is reasonable to use the these 10 features for our later research. "
      ]
    },
    {
      "cell_type": "markdown",
      "source": [
        "##Save the 10 selected features dataset "
      ],
      "metadata": {
        "id": "CmcJKxWEY22d"
      },
      "id": "CmcJKxWEY22d"
    },
    {
      "cell_type": "code",
      "source": [
        "# save the data set with 10 selected features for regression\n",
        "#df = df_sc.copy()\n",
        "#df_sc_10features= df.drop(columns=[column for column in df_sc.columns if column not in selected_features and column != 'Bankrupt?'])\n",
        "#df_sc_10features.to_csv('data_oversampled_standardized_10features.csv',index = False)"
      ],
      "metadata": {
        "id": "ELct4OnkUb2e"
      },
      "id": "ELct4OnkUb2e",
      "execution_count": null,
      "outputs": []
    },
    {
      "cell_type": "markdown",
      "id": "ac0c6e78",
      "metadata": {
        "id": "ac0c6e78"
      },
      "source": [
        "# Part 2 Basic Logistic Classifier and More Advanced Classifier models\n",
        "We now use the oversampled and standardized data with the ten selected features to do classifier machine learning.\n",
        "\n",
        "Firstly, we leverage several models to learn and train. Secondly, we use our models to predict by the validation data, and we adjust models' parameters to let the each model be best-fit. Then, we focus on the accuracy for prediction and blend all models with accuracy higher than 90% by using ensemble learning. In this report, voting model is used. Finally, we verify our aggregate model with test data and inspect our final accuracy."
      ]
    },
    {
      "cell_type": "code",
      "execution_count": null,
      "id": "483c00aa",
      "metadata": {
        "id": "483c00aa"
      },
      "outputs": [],
      "source": [
        "#machine learning\n",
        "from sklearn.linear_model import LogisticRegression\n",
        "from sklearn.metrics import accuracy_score\n",
        "from sklearn.model_selection import GridSearchCV\n",
        "from sklearn.svm import SVC\n",
        "from sklearn.tree import DecisionTreeClassifier, plot_tree\n",
        "from sklearn.ensemble import RandomForestClassifier, GradientBoostingClassifier\n",
        "from sklearn.neural_network import MLPClassifier\n",
        "from sklearn.metrics import classification_report\n",
        "from sklearn.metrics import confusion_matrix\n",
        "from xgboost import XGBRegressor\n",
        "from sklearn.ensemble import VotingClassifier\n",
        "from sklearn.model_selection import cross_val_score\n",
        "from sklearn.model_selection import RepeatedStratifiedKFold\n",
        "from xgboost import XGBClassifier\n",
        "from numpy import mean,std\n",
        "from matplotlib import pyplot"
      ]
    },
    {
      "cell_type": "code",
      "execution_count": null,
      "id": "c8fdd2cd",
      "metadata": {
        "id": "c8fdd2cd"
      },
      "outputs": [],
      "source": [
        "df = pd.read_csv('/content/data_oversampled_standardized_10features.csv')\n",
        "y = df['Bankrupt?']\n",
        "X = df.drop(columns=['Bankrupt?'])\n",
        "X_train, X_test, y_train, y_test = train_test_split(X, y, random_state=42, test_size=0.2) # split data into 80% training set and 20% test set\n",
        "X_test, X_valid, y_test, y_valid = train_test_split(X_test, y_test, random_state=84, test_size=0.5) # further split the test set into 10% validation set and 10% test set"
      ]
    },
    {
      "cell_type": "code",
      "execution_count": null,
      "id": "2f0417af",
      "metadata": {
        "id": "2f0417af"
      },
      "outputs": [],
      "source": [
        "y_train=np.where(y_train<=0,0,1) # change the  y_train from -1 and 1 into  0 and 1 \n",
        "y_valid=np.where(y_valid<=0,0,1) # change the  y_valid from -1 and 1 into  0 and 1 \n",
        "y_test=np.where(y_test<=0,0,1) # change the  y_test from -1 and 1 into  0 and 1 "
      ]
    },
    {
      "cell_type": "markdown",
      "id": "c06ff0b0",
      "metadata": {
        "id": "c06ff0b0"
      },
      "source": [
        "## Basic Logistic Classifier"
      ]
    },
    {
      "cell_type": "code",
      "execution_count": null,
      "id": "ae338976",
      "metadata": {
        "scrolled": false,
        "id": "ae338976",
        "outputId": "281e53a1-b0d5-48e9-b464-97f61d35bfd5",
        "colab": {
          "base_uri": "https://localhost:8080/"
        }
      },
      "outputs": [
        {
          "output_type": "stream",
          "name": "stdout",
          "text": [
            "[[569  66]\n",
            " [ 58 627]]\n",
            "# of wrong classifiers：124\n",
            "Linear Classifier's Accuracy is  90.6060606060606\n"
          ]
        },
        {
          "output_type": "execute_result",
          "data": {
            "text/plain": [
              "(array([0.23717021]),\n",
              " array([[-1.1259338 ,  4.0678692 ,  0.26632712, -3.38568221,  0.55694416,\n",
              "          0.90058616, -0.90058616,  0.28274188, -0.17114521, -4.37568657]]))"
            ]
          },
          "metadata": {},
          "execution_count": 123
        }
      ],
      "source": [
        "#basic logistic regression model\n",
        "lr = LogisticRegression()\n",
        "lr.fit(X_train, y_train)\n",
        "\n",
        "# using our model to predict\n",
        "y_predlr = lr.predict(X_valid)\n",
        "\n",
        "# Making the Confusion Matrix\n",
        "cmlr = confusion_matrix(y_valid, y_predlr)\n",
        "print(cmlr)\n",
        "\n",
        "# Number of wrong classifier: number of predictions which differ from the validation data \n",
        "print('# of wrong classifiers：%d' % (y_predlr != y_valid).sum()) # out of 1320\n",
        "\n",
        "\n",
        "# Accuracy\n",
        "print(\"Linear Classifier's Accuracy is \", accuracy_score(y_valid,y_predlr)*100)\n",
        "\n",
        "# intercept and betas\n",
        "lr.intercept_, lr.coef_"
      ]
    },
    {
      "cell_type": "markdown",
      "source": [
        "There are 124 wrong classifiers out of 1320 and the accuracy score is 90.606%, indicating that the logistic regression model is a good model for prediction for this data."
      ],
      "metadata": {
        "id": "qEuwWCnAv_qa"
      },
      "id": "qEuwWCnAv_qa"
    },
    {
      "cell_type": "code",
      "source": [
        "# improving estimation with gridsearch\n",
        "\n",
        "param_grid = {\"fit_intercept\": [True, False] \n",
        "             }\n",
        "\n",
        "grid_search = GridSearchCV(lr, param_grid, cv=10,\n",
        "                          scoring=\"accuracy\", return_train_score=True)\n",
        "\n",
        "grid_search.fit(X_train, y_train)\n",
        "\n",
        "grid_search.best_params_"
      ],
      "metadata": {
        "colab": {
          "base_uri": "https://localhost:8080/"
        },
        "id": "EgdRQIA22H_8",
        "outputId": "8e57c450-da60-4f61-fb3a-718de5b8fa65"
      },
      "id": "EgdRQIA22H_8",
      "execution_count": null,
      "outputs": [
        {
          "output_type": "execute_result",
          "data": {
            "text/plain": [
              "{'fit_intercept': True}"
            ]
          },
          "metadata": {},
          "execution_count": 124
        }
      ]
    },
    {
      "cell_type": "markdown",
      "source": [
        "The result tells us that the Logistic model is better to include the intercept."
      ],
      "metadata": {
        "id": "ApqvEC8Z2f29"
      },
      "id": "ApqvEC8Z2f29"
    },
    {
      "cell_type": "markdown",
      "id": "c1aca322",
      "metadata": {
        "id": "c1aca322"
      },
      "source": [
        "## Decison Tree"
      ]
    },
    {
      "cell_type": "code",
      "execution_count": null,
      "id": "32dae369",
      "metadata": {
        "id": "32dae369",
        "outputId": "16695f0d-83d7-438b-924e-66f8e264b6c9",
        "colab": {
          "base_uri": "https://localhost:8080/"
        }
      },
      "outputs": [
        {
          "output_type": "stream",
          "name": "stdout",
          "text": [
            "[[581  54]\n",
            " [ 51 634]]\n",
            "# of wrong classifiers：105\n",
            "Decision Tree's Accuracy is  92.04545454545455\n"
          ]
        }
      ],
      "source": [
        "# Decision Tree\n",
        "\n",
        "# Note how the code structure is almost the same as logistic regression. This simplicity is why Python is so popular \n",
        "\n",
        "dt = DecisionTreeClassifier(max_depth=30,random_state=1)\n",
        "dt.fit(X_train, y_train)\n",
        "\n",
        "# using our model to predict for validation set\n",
        "y_preddt = dt.predict(X_valid)\n",
        "\n",
        "# Making the Confusion Matrix\n",
        "cmdt = confusion_matrix(y_valid, y_preddt)\n",
        "print(cmdt)\n",
        "\n",
        "# Number of wrong classifier: number of predictions which differ from the validation data \n",
        "print('# of wrong classifiers：%d' % (y_preddt != y_valid).sum())\n",
        "\n",
        "#Acccuracy\n",
        "print(\"Decision Tree's Accuracy is \", accuracy_score(y_valid,y_preddt)*100)"
      ]
    },
    {
      "cell_type": "markdown",
      "source": [
        "The number of wrong classifiers is 105 out of 1320 and the accuracy score is 92.045%, indicating a slightly better prediction out of the Decision Tree model compared to the Logistic Regression model. However, an issue with decision tree is that it is very sensitive to the validation data so may be an overfitted model."
      ],
      "metadata": {
        "id": "I_mfxiPrDV1L"
      },
      "id": "I_mfxiPrDV1L"
    },
    {
      "cell_type": "code",
      "execution_count": null,
      "id": "9e750d29",
      "metadata": {
        "id": "9e750d29",
        "outputId": "66f14687-98d7-4849-9510-93b67530aeac",
        "colab": {
          "base_uri": "https://localhost:8080/",
          "height": 303
        }
      },
      "outputs": [
        {
          "output_type": "display_data",
          "data": {
            "text/plain": [
              "<Figure size 1440x360 with 1 Axes>"
            ],
            "image/png": "[encoded data removed]"
          },
          "metadata": {
            "needs_background": "light"
          }
        }
      ],
      "source": [
        "# See the decision tree\n",
        "plt.figure(figsize=(20,5))\n",
        "plot_tree(dt, max_depth=2, fontsize=10, feature_names=X_train.columns) \n",
        "plt.show()"
      ]
    },
    {
      "cell_type": "markdown",
      "source": [
        "The decision tree shows the process of predicting whether a company is going to go bankruptcy step by step using the 10 selected features."
      ],
      "metadata": {
        "id": "2_-QhD2tJ6iJ"
      },
      "id": "2_-QhD2tJ6iJ"
    },
    {
      "cell_type": "markdown",
      "id": "b09b8d08",
      "metadata": {
        "id": "b09b8d08"
      },
      "source": [
        "## Random Forest"
      ]
    },
    {
      "cell_type": "code",
      "execution_count": null,
      "id": "22732c70",
      "metadata": {
        "id": "22732c70",
        "outputId": "d48915c2-0be2-48a1-dde9-4cce1d621143",
        "colab": {
          "base_uri": "https://localhost:8080/"
        }
      },
      "outputs": [
        {
          "output_type": "stream",
          "name": "stdout",
          "text": [
            "[[592  43]\n",
            " [ 16 669]]\n",
            "Accuracy is  95.53030303030303\n"
          ]
        }
      ],
      "source": [
        "# Random Forests\n",
        "\n",
        "rf = RandomForestClassifier(n_estimators = 50,random_state=42)\n",
        "\n",
        "rf.fit(X_train, y_train)\n",
        "\n",
        "y_predrf = rf.predict(X_valid)\n",
        "\n",
        "# Making the Confusion Matrix\n",
        "cmrf = confusion_matrix(y_valid, y_predrf)\n",
        "print(cmrf)\n",
        "\n",
        "# Accuracy\n",
        "print(\"Accuracy is \", accuracy_score(y_valid,y_predrf)*100)"
      ]
    },
    {
      "cell_type": "markdown",
      "source": [
        "We can see that the accuracy of a Random Forest model to prediction is even better. This may be becasue that Random Forests model can better identify features' importance through assessing its performance on subsets of data."
      ],
      "metadata": {
        "id": "4d8osS-sOWHT"
      },
      "id": "4d8osS-sOWHT"
    },
    {
      "cell_type": "code",
      "source": [
        "# fine-tune the Random Forest model using GridSearch\n",
        "\n",
        "param_grid = [\n",
        "    {'n_estimators': [10, 30, 50], 'max_features': ['auto', 4, 6, 8],'random_state':[42]},\n",
        "    {'bootstrap': [False], 'n_estimators': [10, 30, 50], 'max_features': ['auto', 4, 6, 8],'random_state':[42]}\n",
        "]\n",
        "\n",
        "grid_forest = GridSearchCV(rf, param_grid, cv=5,\n",
        "                          scoring='accuracy',\n",
        "                          return_train_score=True)\n",
        "\n",
        "grid_forest.fit(X_train, y_train)\n",
        "\n",
        "grid_forest.best_params_"
      ],
      "metadata": {
        "colab": {
          "base_uri": "https://localhost:8080/"
        },
        "id": "kFJL_-oJuQMs",
        "outputId": "3fd41ad9-e174-483b-8746-59ed4b3dd4ea"
      },
      "id": "kFJL_-oJuQMs",
      "execution_count": null,
      "outputs": [
        {
          "output_type": "execute_result",
          "data": {
            "text/plain": [
              "{'bootstrap': False,\n",
              " 'max_features': 'auto',\n",
              " 'n_estimators': 50,\n",
              " 'random_state': 42}"
            ]
          },
          "metadata": {},
          "execution_count": 128
        }
      ]
    },
    {
      "cell_type": "code",
      "source": [
        "# check all the GridSearch results\n",
        "\n",
        "cvres = grid_forest.cv_results_\n",
        "\n",
        "for gridsearch_accuracy_score, params in zip(cvres['mean_test_score'], cvres['params']):\n",
        "    print(gridsearch_accuracy_score, params)\n"
      ],
      "metadata": {
        "colab": {
          "base_uri": "https://localhost:8080/"
        },
        "id": "fPW-9REYwQnq",
        "outputId": "10f35fb4-adf5-44f5-d8a4-0718524bb3da"
      },
      "id": "fPW-9REYwQnq",
      "execution_count": null,
      "outputs": [
        {
          "output_type": "stream",
          "name": "stdout",
          "text": [
            "0.9435497950849088 {'max_features': 'auto', 'n_estimators': 10, 'random_state': 42}\n",
            "0.9491378583322568 {'max_features': 'auto', 'n_estimators': 30, 'random_state': 42}\n",
            "0.9486641940484907 {'max_features': 'auto', 'n_estimators': 50, 'random_state': 42}\n",
            "0.9444027855533067 {'max_features': 4, 'n_estimators': 10, 'random_state': 42}\n",
            "0.9486645529190533 {'max_features': 4, 'n_estimators': 30, 'random_state': 42}\n",
            "0.9489483298164018 {'max_features': 4, 'n_estimators': 50, 'random_state': 42}\n",
            "0.9442131224609908 {'max_features': 6, 'n_estimators': 10, 'random_state': 42}\n",
            "0.9474334923129926 {'max_features': 6, 'n_estimators': 30, 'random_state': 42}\n",
            "0.9477173140691615 {'max_features': 6, 'n_estimators': 50, 'random_state': 42}\n",
            "0.9443076848542269 {'max_features': 8, 'n_estimators': 10, 'random_state': 42}\n",
            "0.9468652656359904 {'max_features': 8, 'n_estimators': 30, 'random_state': 42}\n",
            "0.9474332680188908 {'max_features': 8, 'n_estimators': 50, 'random_state': 42}\n",
            "0.9476225722406442 {'bootstrap': False, 'max_features': 'auto', 'n_estimators': 10, 'random_state': 42}\n",
            "0.9497067130327433 {'bootstrap': False, 'max_features': 'auto', 'n_estimators': 30, 'random_state': 42}\n",
            "0.9505590754776568 {'bootstrap': False, 'max_features': 'auto', 'n_estimators': 50, 'random_state': 42}\n",
            "0.9447810799850711 {'bootstrap': False, 'max_features': 4, 'n_estimators': 10, 'random_state': 42}\n",
            "0.9485699008081765 {'bootstrap': False, 'max_features': 4, 'n_estimators': 30, 'random_state': 42}\n",
            "0.9493277008598537 {'bootstrap': False, 'max_features': 4, 'n_estimators': 50, 'random_state': 42}\n",
            "0.9444976170994647 {'bootstrap': False, 'max_features': 6, 'n_estimators': 10, 'random_state': 42}\n",
            "0.9465809055739776 {'bootstrap': False, 'max_features': 6, 'n_estimators': 30, 'random_state': 42}\n",
            "0.9463915564934039 {'bootstrap': False, 'max_features': 6, 'n_estimators': 50, 'random_state': 42}\n",
            "0.9363508964586653 {'bootstrap': False, 'max_features': 8, 'n_estimators': 10, 'random_state': 42}\n",
            "0.9391931064553637 {'bootstrap': False, 'max_features': 8, 'n_estimators': 30, 'random_state': 42}\n",
            "0.9391931064553637 {'bootstrap': False, 'max_features': 8, 'n_estimators': 50, 'random_state': 42}\n"
          ]
        }
      ]
    },
    {
      "cell_type": "markdown",
      "source": [
        "Checked that when parameters 'bootstrap'= False, 'max_features'= 'auto', 'n_estimators'= 50 and 'random_state'= 42, the model has the largest accuracy score(95.056%)"
      ],
      "metadata": {
        "id": "gxKNEGzKQAcy"
      },
      "id": "gxKNEGzKQAcy"
    },
    {
      "cell_type": "code",
      "source": [
        "# check what particularly works in the 'best model'\n",
        "\n",
        "feature_importances = grid_forest.best_estimator_.feature_importances_\n",
        "\n",
        "# attach names to each of the features\n",
        "attributes = X_train.columns\n",
        "sorted(zip(feature_importances, attributes), reverse=True)"
      ],
      "metadata": {
        "colab": {
          "base_uri": "https://localhost:8080/"
        },
        "id": "5uLR6ta1wrCX",
        "outputId": "2f81bc99-7700-40ac-cfc7-b744a669a284"
      },
      "id": "5uLR6ta1wrCX",
      "execution_count": null,
      "outputs": [
        {
          "output_type": "execute_result",
          "data": {
            "text/plain": [
              "[(0.17111685272115257, ' Persistent EPS in the Last Four Seasons'),\n",
              " (0.15902234512654478, ' Net Income to Total Assets'),\n",
              " (0.1272057268056115, ' Retained Earnings to Total Assets'),\n",
              " (0.11041869070063609, ' ROA(B) before interest and depreciation after tax'),\n",
              " (0.10276763722523657, ' Net worth/Assets'),\n",
              " (0.0903144698815091, ' Debt ratio %'),\n",
              " (0.08673031804199668, ' Net profit before tax/Paid-in capital'),\n",
              " (0.0683508180644228, ' Per Share Net profit before tax (Yuan ¥)'),\n",
              " (0.04437303791327464, ' ROA(A) before interest and % after tax'),\n",
              " (0.039700103519615254,\n",
              "  ' ROA(C) before interest and depreciation before interest')]"
            ]
          },
          "metadata": {},
          "execution_count": 129
        }
      ]
    },
    {
      "cell_type": "markdown",
      "source": [
        "With this extra bit of code we can see that the most important features that used for prediction in the best model."
      ],
      "metadata": {
        "id": "UtRKR0buZUTi"
      },
      "id": "UtRKR0buZUTi"
    },
    {
      "cell_type": "code",
      "source": [
        "# Now we use the test dataset to check for overfitting\n",
        "final_model = grid_forest.best_estimator_\n",
        "\n",
        "final_predictions = final_model.predict(X_test)\n",
        "\n",
        "#Acccuracy\n",
        "print(\"Accuracy is \", accuracy_score(y_test,final_predictions)*100)\n",
        "\n"
      ],
      "metadata": {
        "colab": {
          "base_uri": "https://localhost:8080/"
        },
        "id": "PgMi_arohDSR",
        "outputId": "8af393a1-8427-4526-f9a8-0c4534e20eda"
      },
      "id": "PgMi_arohDSR",
      "execution_count": null,
      "outputs": [
        {
          "output_type": "stream",
          "name": "stdout",
          "text": [
            "Accuracy is  95.3030303030303\n"
          ]
        }
      ]
    },
    {
      "cell_type": "markdown",
      "source": [
        "The high accuracy score indicates that there is no overfitting in the model as the model still predicts well for the test data."
      ],
      "metadata": {
        "id": "gBX83PbXcs4X"
      },
      "id": "gBX83PbXcs4X"
    },
    {
      "cell_type": "code",
      "source": [
        "from sklearn.metrics import f1_score\n",
        "f1_score(y_test, final_predictions, average='weighted')"
      ],
      "metadata": {
        "colab": {
          "base_uri": "https://localhost:8080/"
        },
        "id": "KoX4_m2ZZtdm",
        "outputId": "d6646f73-c897-42fe-ea9f-d6267e122be0"
      },
      "id": "KoX4_m2ZZtdm",
      "execution_count": null,
      "outputs": [
        {
          "output_type": "execute_result",
          "data": {
            "text/plain": [
              "0.9530706573210668"
            ]
          },
          "metadata": {},
          "execution_count": 133
        }
      ]
    },
    {
      "cell_type": "markdown",
      "source": [
        "F1 score is used to measure model performance by calculating the harmonic mean of precision and recall for the minority positive class. A higher F1 score is, the better model is."
      ],
      "metadata": {
        "id": "YfZRUOCZbA5f"
      },
      "id": "YfZRUOCZbA5f"
    },
    {
      "cell_type": "markdown",
      "source": [
        "## More Advanced Classifier Models"
      ],
      "metadata": {
        "id": "BpAYSCF_j2-N"
      },
      "id": "BpAYSCF_j2-N"
    },
    {
      "cell_type": "markdown",
      "source": [
        "### Support Vector Machine\n",
        "\n"
      ],
      "metadata": {
        "id": "TdpdpKgjjREm"
      },
      "id": "TdpdpKgjjREm"
    },
    {
      "cell_type": "code",
      "source": [
        "# SVM Regression\n",
        "\n",
        "svc = SVC(kernel = 'linear', C = 2.0, random_state=1)\n",
        "\n",
        "svc.fit(X_train, y_train)\n",
        "# using our model to predict\n",
        "y_predsvc = svc.predict(X_valid)\n",
        "\n",
        "# Making the Confusion Matrix\n",
        "cmsvc = confusion_matrix(y_valid, y_predsvc)\n",
        "print(cmsvc)\n",
        "\n",
        "# Number of wrong classfier\n",
        "print('# of wrong classfiers：%d' % (y_predsvc != y_valid).sum())\n",
        "\n",
        "# Accuracy\n",
        "print(\"Accuracy is \", accuracy_score(y_valid,y_predsvc)*100)"
      ],
      "metadata": {
        "colab": {
          "base_uri": "https://localhost:8080/"
        },
        "id": "m2iHviOYjPxo",
        "outputId": "4b5213d6-4939-47d2-de31-a5e9962c99b4"
      },
      "id": "m2iHviOYjPxo",
      "execution_count": null,
      "outputs": [
        {
          "output_type": "stream",
          "name": "stdout",
          "text": [
            "[[567  68]\n",
            " [ 50 635]]\n",
            "# of wrong classfiers：118\n",
            "Accuracy is  91.06060606060606\n"
          ]
        }
      ]
    },
    {
      "cell_type": "markdown",
      "id": "7dcca748",
      "metadata": {
        "id": "7dcca748"
      },
      "source": [
        "### Gradient Boosting"
      ]
    },
    {
      "cell_type": "code",
      "execution_count": null,
      "id": "32a1818f",
      "metadata": {
        "id": "32a1818f",
        "outputId": "32dbc870-413d-41e9-bedb-0feb4aa1d69b",
        "colab": {
          "base_uri": "https://localhost:8080/"
        }
      },
      "outputs": [
        {
          "output_type": "stream",
          "name": "stdout",
          "text": [
            "[[568  67]\n",
            " [ 35 650]]\n",
            "# of wrong classfiers：102\n",
            "Accuracy is  92.27272727272727\n"
          ]
        }
      ],
      "source": [
        "# Gradient Boosting\n",
        "gb = GradientBoostingClassifier(n_estimators=100, random_state=42)\n",
        "\n",
        "gb.fit(X_train, y_train)\n",
        "\n",
        "# using our model to predict\n",
        "y_predgb = gb.predict(X_valid)\n",
        "\n",
        "# Making the Confusion Matrix\n",
        "cmgb = confusion_matrix(y_valid, y_predgb)\n",
        "print(cmgb)\n",
        "\n",
        "# Number of wrong classfier\n",
        "print('# of wrong classfiers：%d' % (y_predgb != y_valid).sum())\n",
        "\n",
        "# Accuracy\n",
        "print(\"Accuracy is \", accuracy_score(y_valid,y_predgb)*100)\n"
      ]
    },
    {
      "cell_type": "markdown",
      "id": "20aff5dc",
      "metadata": {
        "id": "20aff5dc"
      },
      "source": [
        "### XG Boosting"
      ]
    },
    {
      "cell_type": "code",
      "execution_count": null,
      "id": "518a05d9",
      "metadata": {
        "id": "518a05d9",
        "outputId": "652bd387-42f1-4c69-cc07-3551b207a223",
        "colab": {
          "base_uri": "https://localhost:8080/"
        }
      },
      "outputs": [
        {
          "output_type": "stream",
          "name": "stdout",
          "text": [
            "[[562  73]\n",
            " [ 30 655]]\n",
            "# of wrong classfiers：103\n",
            "Accuracy is  92.1969696969697\n"
          ]
        }
      ],
      "source": [
        "# XG Boosting\n",
        "xg = XGBClassifier(n_estimators=100, random_state=42)\n",
        "\n",
        "xg.fit(X_train, y_train)\n",
        "\n",
        "# using our model to predict\n",
        "y_predxg = xg.predict(X_valid)\n",
        "# Making the Confusion Matrix\n",
        "cmxg = confusion_matrix(y_valid, y_predxg)\n",
        "print(cmxg)\n",
        "\n",
        "# Number of wrong classfier\n",
        "print('# of wrong classfiers：%d' % (y_predxg != y_valid).sum())\n",
        "\n",
        "# Accuracy\n",
        "print(\"Accuracy is \", accuracy_score(y_valid,y_predxg)*100)\n"
      ]
    },
    {
      "cell_type": "markdown",
      "id": "081c76fa",
      "metadata": {
        "id": "081c76fa"
      },
      "source": [
        "### Ensemble Modelling"
      ]
    },
    {
      "cell_type": "code",
      "execution_count": null,
      "id": "939f3dd7",
      "metadata": {
        "scrolled": false,
        "id": "939f3dd7",
        "outputId": "2e0f2a4e-cc01-4278-e6b0-4b28f91b9436",
        "colab": {
          "base_uri": "https://localhost:8080/",
          "height": 370
        }
      },
      "outputs": [
        {
          "output_type": "stream",
          "name": "stdout",
          "text": [
            ">DT 0.926 (0.009)\n",
            ">RF 0.952 (0.005)\n",
            ">SVC 0.903 (0.008)\n",
            ">GB 0.924 (0.008)\n",
            ">XGB 0.921 (0.007)\n",
            ">hard_voting 0.930 (0.007)\n"
          ]
        },
        {
          "output_type": "display_data",
          "data": {
            "text/plain": [
              "<Figure size 432x288 with 1 Axes>"
            ],
            "image/png": "[encoded data removed]"
          },
          "metadata": {
            "needs_background": "light"
          }
        }
      ],
      "source": [
        "def get_voting():\n",
        "    # define base models\n",
        "    models = list()\n",
        "    models.append(('DT',DecisionTreeClassifier(max_depth=30,random_state=1)))\n",
        "    models.append(('RF',RandomForestClassifier(bootstrap = False, max_features = 4, n_estimators = 50, random_state=42)))\n",
        "    models.append(('SVC',SVC(kernel = 'linear', C = 2.0, random_state=1)))\n",
        "    models.append(('GB',GradientBoostingClassifier(n_estimators=100, random_state=42)))\n",
        "    models.append(('XGB',XGBClassifier(n_estimators=100, random_state=42)))\n",
        "\n",
        "    enemble = VotingClassifier(estimators=models,voting='hard')  # use hard voting\n",
        "\n",
        "    return enemble\n",
        "\n",
        "\n",
        "def get_model():\n",
        "    # get all models\n",
        "    models = dict()\n",
        "    models['DT'] = DecisionTreeClassifier(max_depth=30,random_state=1)\n",
        "    models['RF'] = RandomForestClassifier(bootstrap = False, max_features = 4, n_estimators = 50, random_state=42)\n",
        "    models['SVC'] = SVC(kernel = 'linear', C = 2.0, random_state=1)\n",
        "    models['GB'] = GradientBoostingClassifier(n_estimators=100, random_state=42)\n",
        "    models['XGB'] =XGBClassifier(n_estimators=100, random_state=42)\n",
        "    models['hard_voting'] = get_voting()\n",
        "\n",
        "    return models\n",
        "\n",
        "\n",
        "def evaluate_model(model, X, y):\n",
        "    # evaluate models\n",
        "    cv = RepeatedStratifiedKFold(n_splits=10,n_repeats=3,random_state=1)\n",
        "    score = cross_val_score(model, X, y, scoring='accuracy', cv=cv, n_jobs=-1,error_score='raise')\n",
        "    return score\n",
        "\n",
        "models = get_model()\n",
        "results, names = list(), list()\n",
        "for name,model in models.items():\n",
        "    scores = evaluate_model(model, X_train, y_train)\n",
        "    results.append(scores)\n",
        "    names.append(name)\n",
        "    print('>%s %.3f (%.3f)' % (name, mean(scores), std(scores)))\n",
        "pyplot.boxplot(results, labels=names, showmeans=True)\n",
        "pyplot.show()"
      ]
    },
    {
      "cell_type": "markdown",
      "id": "daa681e7",
      "metadata": {
        "id": "daa681e7"
      },
      "source": [
        "Cross Validation Scores is used to determine whether the given models are optimal. We noticed that hard_voting model is above the average level of all models, only inferior to the Random Forest model. Finally, test our final voting model with the test data."
      ]
    },
    {
      "cell_type": "markdown",
      "source": [
        "###Hard Voting"
      ],
      "metadata": {
        "id": "ZVxfVbZYbmrz"
      },
      "id": "ZVxfVbZYbmrz"
    },
    {
      "cell_type": "markdown",
      "source": [
        "A voting classifier is a machine learning model that learns from an ensemble of several models and forecasts an output (class) based on the highest probability by all given classifiers' predictions.\n"
      ],
      "metadata": {
        "id": "05rFsJ7ibqZL"
      },
      "id": "05rFsJ7ibqZL"
    },
    {
      "cell_type": "code",
      "execution_count": null,
      "id": "5f807130",
      "metadata": {
        "id": "5f807130",
        "outputId": "19de3072-11f2-442d-9cd4-11968a1fde1e",
        "colab": {
          "base_uri": "https://localhost:8080/"
        }
      },
      "outputs": [
        {
          "output_type": "stream",
          "name": "stdout",
          "text": [
            "[[664  35]\n",
            " [  6 615]]\n",
            "# of wrong classfiers：41\n",
            "Accuracy is  96.8939393939394\n"
          ]
        }
      ],
      "source": [
        "# hard_voting model\n",
        "models=get_model()\n",
        "hv = models['hard_voting']\n",
        "hv.fit(X_test,y_test)\n",
        "\n",
        "# using hard_voting model to predict\n",
        "y_predhv = hv.predict(X_test)\n",
        "\n",
        "# Making the Confusion Matrix\n",
        "cmhv = confusion_matrix(y_test, y_predhv)\n",
        "print(cmhv)\n",
        "\n",
        "# Number of wrong classfier\n",
        "print('# of wrong classfiers：%d' % (y_predhv != y_test).sum())\n",
        "\n",
        "# Accuracy\n",
        "print(\"Accuracy is \", accuracy_score(y_test,y_predhv)*100)\n"
      ]
    },
    {
      "cell_type": "markdown",
      "source": [
        "The accuracy of predicting for the test data is 96.81%, which is the highest among all the models we fit, indicating that the hard_voting model is the best model for prediction."
      ],
      "metadata": {
        "id": "wc3rjrsUtScm"
      },
      "id": "wc3rjrsUtScm"
    },
    {
      "cell_type": "code",
      "source": [
        "f1_score(y_test, y_predhv, average='weighted')"
      ],
      "metadata": {
        "colab": {
          "base_uri": "https://localhost:8080/"
        },
        "id": "5EEibWR3cM9W",
        "outputId": "426b86bc-5603-44fa-cef4-58785a0dcc20"
      },
      "id": "5EEibWR3cM9W",
      "execution_count": null,
      "outputs": [
        {
          "output_type": "execute_result",
          "data": {
            "text/plain": [
              "0.9689647601155884"
            ]
          },
          "metadata": {},
          "execution_count": 138
        }
      ]
    },
    {
      "cell_type": "markdown",
      "source": [
        "# Part 3 Deep Learning"
      ],
      "metadata": {
        "id": "VajWaQPQafJF"
      },
      "id": "VajWaQPQafJF"
    },
    {
      "cell_type": "markdown",
      "source": [
        "### Pre-Processing"
      ],
      "metadata": {
        "id": "rQ1bBD_juK7U"
      },
      "id": "rQ1bBD_juK7U"
    },
    {
      "cell_type": "markdown",
      "source": [
        "Regarding the analysis of the Deep Learning architecture, the most important feature of the dataset that must be taken into great consideration is the imbalanced set of bankruptcies. As the event of a bankruptcy is pretty “rare” the dataset should incorporate some method of over/under-sampling or both, knowing that given the balanced focus on misclassification errors, most standard neural network algorithms are not well suited to datasets with a severely skewed class distribution.\n",
        "\n",
        "The structure of the DL architecture that was implemented is displayed along with commentary about the reasoning and choices that were made.\n"
      ],
      "metadata": {
        "id": "r-P3dfDv8N79"
      },
      "id": "r-P3dfDv8N79"
    },
    {
      "cell_type": "code",
      "source": [
        "%reset"
      ],
      "metadata": {
        "id": "ANtRZH3QakID",
        "colab": {
          "base_uri": "https://localhost:8080/"
        },
        "outputId": "e9d86ab7-7338-45b0-873a-dc9a63166f3b"
      },
      "id": "ANtRZH3QakID",
      "execution_count": null,
      "outputs": [
        {
          "name": "stdout",
          "output_type": "stream",
          "text": [
            "Once deleted, variables cannot be recovered. Proceed (y/[n])? y\n"
          ]
        }
      ]
    },
    {
      "cell_type": "code",
      "source": [
        "# standard quantitative packages\n",
        "import numpy as np\n",
        "import pandas as pd\n",
        "\n",
        "# machine learning packages\n",
        "from sklearn.model_selection import train_test_split\n",
        "from sklearn.preprocessing import StandardScaler\n",
        "\n",
        "# visualisation\n",
        "import matplotlib.pyplot as plt\n",
        "from matplotlib.pyplot import figure\n",
        "%matplotlib inline\n",
        "\n",
        "# tensorflow and keras for deep learning\n",
        "import tensorflow as tf\n",
        "from tensorflow import keras"
      ],
      "metadata": {
        "id": "bwnS_v59a5C6"
      },
      "id": "bwnS_v59a5C6",
      "execution_count": null,
      "outputs": []
    },
    {
      "cell_type": "code",
      "source": [
        "df = pd.read_csv('data.csv')\n",
        "df.head(2)"
      ],
      "metadata": {
        "id": "szWp4w_Za9Fa",
        "colab": {
          "base_uri": "https://localhost:8080/",
          "height": 292
        },
        "outputId": "f6db389e-14ee-4263-e587-3b9e3c34528a"
      },
      "id": "szWp4w_Za9Fa",
      "execution_count": null,
      "outputs": [
        {
          "output_type": "execute_result",
          "data": {
            "text/plain": [
              "   Bankrupt?   ROA(C) before interest and depreciation before interest  \\\n",
              "0          1                                           0.370594          \n",
              "1          1                                           0.464291          \n",
              "\n",
              "    ROA(A) before interest and % after tax  \\\n",
              "0                                 0.424389   \n",
              "1                                 0.538214   \n",
              "\n",
              "    ROA(B) before interest and depreciation after tax  \\\n",
              "0                                            0.40575    \n",
              "1                                            0.51673    \n",
              "\n",
              "    Operating Gross Margin   Realized Sales Gross Margin  \\\n",
              "0                 0.601457                      0.601457   \n",
              "1                 0.610235                      0.610235   \n",
              "\n",
              "    Operating Profit Rate   Pre-tax net Interest Rate  \\\n",
              "0                0.998969                    0.796887   \n",
              "1                0.998946                    0.797380   \n",
              "\n",
              "    After-tax net Interest Rate   Non-industry income and expenditure/revenue  \\\n",
              "0                      0.808809                                      0.302646   \n",
              "1                      0.809301                                      0.303556   \n",
              "\n",
              "   ...   Net Income to Total Assets   Total assets to GNP price  \\\n",
              "0  ...                     0.716845                    0.009219   \n",
              "1  ...                     0.795297                    0.008323   \n",
              "\n",
              "    No-credit Interval   Gross Profit to Sales  \\\n",
              "0             0.622879                0.601453   \n",
              "1             0.623652                0.610237   \n",
              "\n",
              "    Net Income to Stockholder's Equity   Liability to Equity  \\\n",
              "0                             0.827890              0.290202   \n",
              "1                             0.839969              0.283846   \n",
              "\n",
              "    Degree of Financial Leverage (DFL)  \\\n",
              "0                             0.026601   \n",
              "1                             0.264577   \n",
              "\n",
              "    Interest Coverage Ratio (Interest expense to EBIT)   Net Income Flag  \\\n",
              "0                                           0.564050                   1   \n",
              "1                                           0.570175                   1   \n",
              "\n",
              "    Equity to Liability  \n",
              "0              0.016469  \n",
              "1              0.020794  \n",
              "\n",
              "[2 rows x 96 columns]"
            ],
            "text/html": [
              "\n",
              "  <div id=\"df-e745223e-5997-4f3b-aa19-931067841e54\">\n",
              "    <div class=\"colab-df-container\">\n",
              "      <div>\n",
              "<style scoped>\n",
              "    .dataframe tbody tr th:only-of-type {\n",
              "        vertical-align: middle;\n",
              "    }\n",
              "\n",
              "    .dataframe tbody tr th {\n",
              "        vertical-align: top;\n",
              "    }\n",
              "\n",
              "    .dataframe thead th {\n",
              "        text-align: right;\n",
              "    }\n",
              "</style>\n",
              "<table border=\"1\" class=\"dataframe\">\n",
              "  <thead>\n",
              "    <tr style=\"text-align: right;\">\n",
              "      <th></th>\n",
              "      <th>Bankrupt?</th>\n",
              "      <th>ROA(C) before interest and depreciation before interest</th>\n",
              "      <th>ROA(A) before interest and % after tax</th>\n",
              "      <th>ROA(B) before interest and depreciation after tax</th>\n",
              "      <th>Operating Gross Margin</th>\n",
              "      <th>Realized Sales Gross Margin</th>\n",
              "      <th>Operating Profit Rate</th>\n",
              "      <th>Pre-tax net Interest Rate</th>\n",
              "      <th>After-tax net Interest Rate</th>\n",
              "      <th>Non-industry income and expenditure/revenue</th>\n",
              "      <th>...</th>\n",
              "      <th>Net Income to Total Assets</th>\n",
              "      <th>Total assets to GNP price</th>\n",
              "      <th>No-credit Interval</th>\n",
              "      <th>Gross Profit to Sales</th>\n",
              "      <th>Net Income to Stockholder's Equity</th>\n",
              "      <th>Liability to Equity</th>\n",
              "      <th>Degree of Financial Leverage (DFL)</th>\n",
              "      <th>Interest Coverage Ratio (Interest expense to EBIT)</th>\n",
              "      <th>Net Income Flag</th>\n",
              "      <th>Equity to Liability</th>\n",
              "    </tr>\n",
              "  </thead>\n",
              "  <tbody>\n",
              "    <tr>\n",
              "      <th>0</th>\n",
              "      <td>1</td>\n",
              "      <td>0.370594</td>\n",
              "      <td>0.424389</td>\n",
              "      <td>0.40575</td>\n",
              "      <td>0.601457</td>\n",
              "      <td>0.601457</td>\n",
              "      <td>0.998969</td>\n",
              "      <td>0.796887</td>\n",
              "      <td>0.808809</td>\n",
              "      <td>0.302646</td>\n",
              "      <td>...</td>\n",
              "      <td>0.716845</td>\n",
              "      <td>0.009219</td>\n",
              "      <td>0.622879</td>\n",
              "      <td>0.601453</td>\n",
              "      <td>0.827890</td>\n",
              "      <td>0.290202</td>\n",
              "      <td>0.026601</td>\n",
              "      <td>0.564050</td>\n",
              "      <td>1</td>\n",
              "      <td>0.016469</td>\n",
              "    </tr>\n",
              "    <tr>\n",
              "      <th>1</th>\n",
              "      <td>1</td>\n",
              "      <td>0.464291</td>\n",
              "      <td>0.538214</td>\n",
              "      <td>0.51673</td>\n",
              "      <td>0.610235</td>\n",
              "      <td>0.610235</td>\n",
              "      <td>0.998946</td>\n",
              "      <td>0.797380</td>\n",
              "      <td>0.809301</td>\n",
              "      <td>0.303556</td>\n",
              "      <td>...</td>\n",
              "      <td>0.795297</td>\n",
              "      <td>0.008323</td>\n",
              "      <td>0.623652</td>\n",
              "      <td>0.610237</td>\n",
              "      <td>0.839969</td>\n",
              "      <td>0.283846</td>\n",
              "      <td>0.264577</td>\n",
              "      <td>0.570175</td>\n",
              "      <td>1</td>\n",
              "      <td>0.020794</td>\n",
              "    </tr>\n",
              "  </tbody>\n",
              "</table>\n",
              "<p>2 rows × 96 columns</p>\n",
              "</div>\n",
              "      <button class=\"colab-df-convert\" onclick=\"convertToInteractive('df-e745223e-5997-4f3b-aa19-931067841e54')\"\n",
              "              title=\"Convert this dataframe to an interactive table.\"\n",
              "              style=\"display:none;\">\n",
              "        \n",
              "  <svg xmlns=\"http://www.w3.org/2000/svg\" height=\"24px\"viewBox=\"0 0 24 24\"\n",
              "       width=\"24px\">\n",
              "    <path d=\"M0 0h24v24H0V0z\" fill=\"none\"/>\n",
              "    <path d=\"M18.56 5.44l.94 2.06.94-2.06 2.06-.94-2.06-.94-.94-2.06-.94 2.06-2.06.94zm-11 1L8.5 8.5l.94-2.06 2.06-.94-2.06-.94L8.5 2.5l-.94 2.06-2.06.94zm10 10l.94 2.06.94-2.06 2.06-.94-2.06-.94-.94-2.06-.94 2.06-2.06.94z\"/><path d=\"M17.41 7.96l-1.37-1.37c-.4-.4-.92-.59-1.43-.59-.52 0-1.04.2-1.43.59L10.3 9.45l-7.72 7.72c-.78.78-.78 2.05 0 2.83L4 21.41c.39.39.9.59 1.41.59.51 0 1.02-.2 1.41-.59l7.78-7.78 2.81-2.81c.8-.78.8-2.07 0-2.86zM5.41 20L4 18.59l7.72-7.72 1.47 1.35L5.41 20z\"/>\n",
              "  </svg>\n",
              "      </button>\n",
              "      \n",
              "  <style>\n",
              "    .colab-df-container {\n",
              "      display:flex;\n",
              "      flex-wrap:wrap;\n",
              "      gap: 12px;\n",
              "    }\n",
              "\n",
              "    .colab-df-convert {\n",
              "      background-color: #E8F0FE;\n",
              "      border: none;\n",
              "      border-radius: 50%;\n",
              "      cursor: pointer;\n",
              "      display: none;\n",
              "      fill: #1967D2;\n",
              "      height: 32px;\n",
              "      padding: 0 0 0 0;\n",
              "      width: 32px;\n",
              "    }\n",
              "\n",
              "    .colab-df-convert:hover {\n",
              "      background-color: #E2EBFA;\n",
              "      box-shadow: 0px 1px 2px rgba(60, 64, 67, 0.3), 0px 1px 3px 1px rgba(60, 64, 67, 0.15);\n",
              "      fill: #174EA6;\n",
              "    }\n",
              "\n",
              "    [theme=dark] .colab-df-convert {\n",
              "      background-color: #3B4455;\n",
              "      fill: #D2E3FC;\n",
              "    }\n",
              "\n",
              "    [theme=dark] .colab-df-convert:hover {\n",
              "      background-color: #434B5C;\n",
              "      box-shadow: 0px 1px 3px 1px rgba(0, 0, 0, 0.15);\n",
              "      filter: drop-shadow(0px 1px 2px rgba(0, 0, 0, 0.3));\n",
              "      fill: #FFFFFF;\n",
              "    }\n",
              "  </style>\n",
              "\n",
              "      <script>\n",
              "        const buttonEl =\n",
              "          document.querySelector('#df-e745223e-5997-4f3b-aa19-931067841e54 button.colab-df-convert');\n",
              "        buttonEl.style.display =\n",
              "          google.colab.kernel.accessAllowed ? 'block' : 'none';\n",
              "\n",
              "        async function convertToInteractive(key) {\n",
              "          const element = document.querySelector('#df-e745223e-5997-4f3b-aa19-931067841e54');\n",
              "          const dataTable =\n",
              "            await google.colab.kernel.invokeFunction('convertToInteractive',\n",
              "                                                     [key], {});\n",
              "          if (!dataTable) return;\n",
              "\n",
              "          const docLinkHtml = 'Like what you see? Visit the ' +\n",
              "            '<a target=\"_blank\" href=https://colab.research.google.com/notebooks/data_table.ipynb>data table notebook</a>'\n",
              "            + ' to learn more about interactive tables.';\n",
              "          element.innerHTML = '';\n",
              "          dataTable['output_type'] = 'display_data';\n",
              "          await google.colab.output.renderOutput(dataTable, element);\n",
              "          const docLink = document.createElement('div');\n",
              "          docLink.innerHTML = docLinkHtml;\n",
              "          element.appendChild(docLink);\n",
              "        }\n",
              "      </script>\n",
              "    </div>\n",
              "  </div>\n",
              "  "
            ]
          },
          "metadata": {},
          "execution_count": 68
        }
      ]
    },
    {
      "cell_type": "code",
      "source": [
        "df.describe()"
      ],
      "metadata": {
        "id": "bgTHcrUSa_Gh",
        "colab": {
          "base_uri": "https://localhost:8080/",
          "height": 480
        },
        "outputId": "a4102c08-d66e-45b7-d5af-fdc08ea9b564"
      },
      "id": "bgTHcrUSa_Gh",
      "execution_count": null,
      "outputs": [
        {
          "output_type": "execute_result",
          "data": {
            "text/plain": [
              "         Bankrupt?   ROA(C) before interest and depreciation before interest  \\\n",
              "count  6819.000000                                        6819.000000          \n",
              "mean      0.032263                                           0.505180          \n",
              "std       0.176710                                           0.060686          \n",
              "min       0.000000                                           0.000000          \n",
              "25%       0.000000                                           0.476527          \n",
              "50%       0.000000                                           0.502706          \n",
              "75%       0.000000                                           0.535563          \n",
              "max       1.000000                                           1.000000          \n",
              "\n",
              "        ROA(A) before interest and % after tax  \\\n",
              "count                              6819.000000   \n",
              "mean                                  0.558625   \n",
              "std                                   0.065620   \n",
              "min                                   0.000000   \n",
              "25%                                   0.535543   \n",
              "50%                                   0.559802   \n",
              "75%                                   0.589157   \n",
              "max                                   1.000000   \n",
              "\n",
              "        ROA(B) before interest and depreciation after tax  \\\n",
              "count                                        6819.000000    \n",
              "mean                                            0.553589    \n",
              "std                                             0.061595    \n",
              "min                                             0.000000    \n",
              "25%                                             0.527277    \n",
              "50%                                             0.552278    \n",
              "75%                                             0.584105    \n",
              "max                                             1.000000    \n",
              "\n",
              "        Operating Gross Margin   Realized Sales Gross Margin  \\\n",
              "count              6819.000000                   6819.000000   \n",
              "mean                  0.607948                      0.607929   \n",
              "std                   0.016934                      0.016916   \n",
              "min                   0.000000                      0.000000   \n",
              "25%                   0.600445                      0.600434   \n",
              "50%                   0.605997                      0.605976   \n",
              "75%                   0.613914                      0.613842   \n",
              "max                   1.000000                      1.000000   \n",
              "\n",
              "        Operating Profit Rate   Pre-tax net Interest Rate  \\\n",
              "count             6819.000000                 6819.000000   \n",
              "mean                 0.998755                    0.797190   \n",
              "std                  0.013010                    0.012869   \n",
              "min                  0.000000                    0.000000   \n",
              "25%                  0.998969                    0.797386   \n",
              "50%                  0.999022                    0.797464   \n",
              "75%                  0.999095                    0.797579   \n",
              "max                  1.000000                    1.000000   \n",
              "\n",
              "        After-tax net Interest Rate  \\\n",
              "count                   6819.000000   \n",
              "mean                       0.809084   \n",
              "std                        0.013601   \n",
              "min                        0.000000   \n",
              "25%                        0.809312   \n",
              "50%                        0.809375   \n",
              "75%                        0.809469   \n",
              "max                        1.000000   \n",
              "\n",
              "        Non-industry income and expenditure/revenue  ...  \\\n",
              "count                                   6819.000000  ...   \n",
              "mean                                       0.303623  ...   \n",
              "std                                        0.011163  ...   \n",
              "min                                        0.000000  ...   \n",
              "25%                                        0.303466  ...   \n",
              "50%                                        0.303525  ...   \n",
              "75%                                        0.303585  ...   \n",
              "max                                        1.000000  ...   \n",
              "\n",
              "        Net Income to Total Assets   Total assets to GNP price  \\\n",
              "count                  6819.000000                6.819000e+03   \n",
              "mean                      0.807760                1.862942e+07   \n",
              "std                       0.040332                3.764501e+08   \n",
              "min                       0.000000                0.000000e+00   \n",
              "25%                       0.796750                9.036205e-04   \n",
              "50%                       0.810619                2.085213e-03   \n",
              "75%                       0.826455                5.269777e-03   \n",
              "max                       1.000000                9.820000e+09   \n",
              "\n",
              "        No-credit Interval   Gross Profit to Sales  \\\n",
              "count          6819.000000             6819.000000   \n",
              "mean              0.623915                0.607946   \n",
              "std               0.012290                0.016934   \n",
              "min               0.000000                0.000000   \n",
              "25%               0.623636                0.600443   \n",
              "50%               0.623879                0.605998   \n",
              "75%               0.624168                0.613913   \n",
              "max               1.000000                1.000000   \n",
              "\n",
              "        Net Income to Stockholder's Equity   Liability to Equity  \\\n",
              "count                          6819.000000           6819.000000   \n",
              "mean                              0.840402              0.280365   \n",
              "std                               0.014523              0.014463   \n",
              "min                               0.000000              0.000000   \n",
              "25%                               0.840115              0.276944   \n",
              "50%                               0.841179              0.278778   \n",
              "75%                               0.842357              0.281449   \n",
              "max                               1.000000              1.000000   \n",
              "\n",
              "        Degree of Financial Leverage (DFL)  \\\n",
              "count                          6819.000000   \n",
              "mean                              0.027541   \n",
              "std                               0.015668   \n",
              "min                               0.000000   \n",
              "25%                               0.026791   \n",
              "50%                               0.026808   \n",
              "75%                               0.026913   \n",
              "max                               1.000000   \n",
              "\n",
              "        Interest Coverage Ratio (Interest expense to EBIT)   Net Income Flag  \\\n",
              "count                                        6819.000000              6819.0   \n",
              "mean                                            0.565358                 1.0   \n",
              "std                                             0.013214                 0.0   \n",
              "min                                             0.000000                 1.0   \n",
              "25%                                             0.565158                 1.0   \n",
              "50%                                             0.565252                 1.0   \n",
              "75%                                             0.565725                 1.0   \n",
              "max                                             1.000000                 1.0   \n",
              "\n",
              "        Equity to Liability  \n",
              "count           6819.000000  \n",
              "mean               0.047578  \n",
              "std                0.050014  \n",
              "min                0.000000  \n",
              "25%                0.024477  \n",
              "50%                0.033798  \n",
              "75%                0.052838  \n",
              "max                1.000000  \n",
              "\n",
              "[8 rows x 96 columns]"
            ],
            "text/html": [
              "\n",
              "  <div id=\"df-8fae2622-cbd1-4ad9-a47c-f0f0a5fd6246\">\n",
              "    <div class=\"colab-df-container\">\n",
              "      <div>\n",
              "<style scoped>\n",
              "    .dataframe tbody tr th:only-of-type {\n",
              "        vertical-align: middle;\n",
              "    }\n",
              "\n",
              "    .dataframe tbody tr th {\n",
              "        vertical-align: top;\n",
              "    }\n",
              "\n",
              "    .dataframe thead th {\n",
              "        text-align: right;\n",
              "    }\n",
              "</style>\n",
              "<table border=\"1\" class=\"dataframe\">\n",
              "  <thead>\n",
              "    <tr style=\"text-align: right;\">\n",
              "      <th></th>\n",
              "      <th>Bankrupt?</th>\n",
              "      <th>ROA(C) before interest and depreciation before interest</th>\n",
              "      <th>ROA(A) before interest and % after tax</th>\n",
              "      <th>ROA(B) before interest and depreciation after tax</th>\n",
              "      <th>Operating Gross Margin</th>\n",
              "      <th>Realized Sales Gross Margin</th>\n",
              "      <th>Operating Profit Rate</th>\n",
              "      <th>Pre-tax net Interest Rate</th>\n",
              "      <th>After-tax net Interest Rate</th>\n",
              "      <th>Non-industry income and expenditure/revenue</th>\n",
              "      <th>...</th>\n",
              "      <th>Net Income to Total Assets</th>\n",
              "      <th>Total assets to GNP price</th>\n",
              "      <th>No-credit Interval</th>\n",
              "      <th>Gross Profit to Sales</th>\n",
              "      <th>Net Income to Stockholder's Equity</th>\n",
              "      <th>Liability to Equity</th>\n",
              "      <th>Degree of Financial Leverage (DFL)</th>\n",
              "      <th>Interest Coverage Ratio (Interest expense to EBIT)</th>\n",
              "      <th>Net Income Flag</th>\n",
              "      <th>Equity to Liability</th>\n",
              "    </tr>\n",
              "  </thead>\n",
              "  <tbody>\n",
              "    <tr>\n",
              "      <th>count</th>\n",
              "      <td>6819.000000</td>\n",
              "      <td>6819.000000</td>\n",
              "      <td>6819.000000</td>\n",
              "      <td>6819.000000</td>\n",
              "      <td>6819.000000</td>\n",
              "      <td>6819.000000</td>\n",
              "      <td>6819.000000</td>\n",
              "      <td>6819.000000</td>\n",
              "      <td>6819.000000</td>\n",
              "      <td>6819.000000</td>\n",
              "      <td>...</td>\n",
              "      <td>6819.000000</td>\n",
              "      <td>6.819000e+03</td>\n",
              "      <td>6819.000000</td>\n",
              "      <td>6819.000000</td>\n",
              "      <td>6819.000000</td>\n",
              "      <td>6819.000000</td>\n",
              "      <td>6819.000000</td>\n",
              "      <td>6819.000000</td>\n",
              "      <td>6819.0</td>\n",
              "      <td>6819.000000</td>\n",
              "    </tr>\n",
              "    <tr>\n",
              "      <th>mean</th>\n",
              "      <td>0.032263</td>\n",
              "      <td>0.505180</td>\n",
              "      <td>0.558625</td>\n",
              "      <td>0.553589</td>\n",
              "      <td>0.607948</td>\n",
              "      <td>0.607929</td>\n",
              "      <td>0.998755</td>\n",
              "      <td>0.797190</td>\n",
              "      <td>0.809084</td>\n",
              "      <td>0.303623</td>\n",
              "      <td>...</td>\n",
              "      <td>0.807760</td>\n",
              "      <td>1.862942e+07</td>\n",
              "      <td>0.623915</td>\n",
              "      <td>0.607946</td>\n",
              "      <td>0.840402</td>\n",
              "      <td>0.280365</td>\n",
              "      <td>0.027541</td>\n",
              "      <td>0.565358</td>\n",
              "      <td>1.0</td>\n",
              "      <td>0.047578</td>\n",
              "    </tr>\n",
              "    <tr>\n",
              "      <th>std</th>\n",
              "      <td>0.176710</td>\n",
              "      <td>0.060686</td>\n",
              "      <td>0.065620</td>\n",
              "      <td>0.061595</td>\n",
              "      <td>0.016934</td>\n",
              "      <td>0.016916</td>\n",
              "      <td>0.013010</td>\n",
              "      <td>0.012869</td>\n",
              "      <td>0.013601</td>\n",
              "      <td>0.011163</td>\n",
              "      <td>...</td>\n",
              "      <td>0.040332</td>\n",
              "      <td>3.764501e+08</td>\n",
              "      <td>0.012290</td>\n",
              "      <td>0.016934</td>\n",
              "      <td>0.014523</td>\n",
              "      <td>0.014463</td>\n",
              "      <td>0.015668</td>\n",
              "      <td>0.013214</td>\n",
              "      <td>0.0</td>\n",
              "      <td>0.050014</td>\n",
              "    </tr>\n",
              "    <tr>\n",
              "      <th>min</th>\n",
              "      <td>0.000000</td>\n",
              "      <td>0.000000</td>\n",
              "      <td>0.000000</td>\n",
              "      <td>0.000000</td>\n",
              "      <td>0.000000</td>\n",
              "      <td>0.000000</td>\n",
              "      <td>0.000000</td>\n",
              "      <td>0.000000</td>\n",
              "      <td>0.000000</td>\n",
              "      <td>0.000000</td>\n",
              "      <td>...</td>\n",
              "      <td>0.000000</td>\n",
              "      <td>0.000000e+00</td>\n",
              "      <td>0.000000</td>\n",
              "      <td>0.000000</td>\n",
              "      <td>0.000000</td>\n",
              "      <td>0.000000</td>\n",
              "      <td>0.000000</td>\n",
              "      <td>0.000000</td>\n",
              "      <td>1.0</td>\n",
              "      <td>0.000000</td>\n",
              "    </tr>\n",
              "    <tr>\n",
              "      <th>25%</th>\n",
              "      <td>0.000000</td>\n",
              "      <td>0.476527</td>\n",
              "      <td>0.535543</td>\n",
              "      <td>0.527277</td>\n",
              "      <td>0.600445</td>\n",
              "      <td>0.600434</td>\n",
              "      <td>0.998969</td>\n",
              "      <td>0.797386</td>\n",
              "      <td>0.809312</td>\n",
              "      <td>0.303466</td>\n",
              "      <td>...</td>\n",
              "      <td>0.796750</td>\n",
              "      <td>9.036205e-04</td>\n",
              "      <td>0.623636</td>\n",
              "      <td>0.600443</td>\n",
              "      <td>0.840115</td>\n",
              "      <td>0.276944</td>\n",
              "      <td>0.026791</td>\n",
              "      <td>0.565158</td>\n",
              "      <td>1.0</td>\n",
              "      <td>0.024477</td>\n",
              "    </tr>\n",
              "    <tr>\n",
              "      <th>50%</th>\n",
              "      <td>0.000000</td>\n",
              "      <td>0.502706</td>\n",
              "      <td>0.559802</td>\n",
              "      <td>0.552278</td>\n",
              "      <td>0.605997</td>\n",
              "      <td>0.605976</td>\n",
              "      <td>0.999022</td>\n",
              "      <td>0.797464</td>\n",
              "      <td>0.809375</td>\n",
              "      <td>0.303525</td>\n",
              "      <td>...</td>\n",
              "      <td>0.810619</td>\n",
              "      <td>2.085213e-03</td>\n",
              "      <td>0.623879</td>\n",
              "      <td>0.605998</td>\n",
              "      <td>0.841179</td>\n",
              "      <td>0.278778</td>\n",
              "      <td>0.026808</td>\n",
              "      <td>0.565252</td>\n",
              "      <td>1.0</td>\n",
              "      <td>0.033798</td>\n",
              "    </tr>\n",
              "    <tr>\n",
              "      <th>75%</th>\n",
              "      <td>0.000000</td>\n",
              "      <td>0.535563</td>\n",
              "      <td>0.589157</td>\n",
              "      <td>0.584105</td>\n",
              "      <td>0.613914</td>\n",
              "      <td>0.613842</td>\n",
              "      <td>0.999095</td>\n",
              "      <td>0.797579</td>\n",
              "      <td>0.809469</td>\n",
              "      <td>0.303585</td>\n",
              "      <td>...</td>\n",
              "      <td>0.826455</td>\n",
              "      <td>5.269777e-03</td>\n",
              "      <td>0.624168</td>\n",
              "      <td>0.613913</td>\n",
              "      <td>0.842357</td>\n",
              "      <td>0.281449</td>\n",
              "      <td>0.026913</td>\n",
              "      <td>0.565725</td>\n",
              "      <td>1.0</td>\n",
              "      <td>0.052838</td>\n",
              "    </tr>\n",
              "    <tr>\n",
              "      <th>max</th>\n",
              "      <td>1.000000</td>\n",
              "      <td>1.000000</td>\n",
              "      <td>1.000000</td>\n",
              "      <td>1.000000</td>\n",
              "      <td>1.000000</td>\n",
              "      <td>1.000000</td>\n",
              "      <td>1.000000</td>\n",
              "      <td>1.000000</td>\n",
              "      <td>1.000000</td>\n",
              "      <td>1.000000</td>\n",
              "      <td>...</td>\n",
              "      <td>1.000000</td>\n",
              "      <td>9.820000e+09</td>\n",
              "      <td>1.000000</td>\n",
              "      <td>1.000000</td>\n",
              "      <td>1.000000</td>\n",
              "      <td>1.000000</td>\n",
              "      <td>1.000000</td>\n",
              "      <td>1.000000</td>\n",
              "      <td>1.0</td>\n",
              "      <td>1.000000</td>\n",
              "    </tr>\n",
              "  </tbody>\n",
              "</table>\n",
              "<p>8 rows × 96 columns</p>\n",
              "</div>\n",
              "      <button class=\"colab-df-convert\" onclick=\"convertToInteractive('df-8fae2622-cbd1-4ad9-a47c-f0f0a5fd6246')\"\n",
              "              title=\"Convert this dataframe to an interactive table.\"\n",
              "              style=\"display:none;\">\n",
              "        \n",
              "  <svg xmlns=\"http://www.w3.org/2000/svg\" height=\"24px\"viewBox=\"0 0 24 24\"\n",
              "       width=\"24px\">\n",
              "    <path d=\"M0 0h24v24H0V0z\" fill=\"none\"/>\n",
              "    <path d=\"M18.56 5.44l.94 2.06.94-2.06 2.06-.94-2.06-.94-.94-2.06-.94 2.06-2.06.94zm-11 1L8.5 8.5l.94-2.06 2.06-.94-2.06-.94L8.5 2.5l-.94 2.06-2.06.94zm10 10l.94 2.06.94-2.06 2.06-.94-2.06-.94-.94-2.06-.94 2.06-2.06.94z\"/><path d=\"M17.41 7.96l-1.37-1.37c-.4-.4-.92-.59-1.43-.59-.52 0-1.04.2-1.43.59L10.3 9.45l-7.72 7.72c-.78.78-.78 2.05 0 2.83L4 21.41c.39.39.9.59 1.41.59.51 0 1.02-.2 1.41-.59l7.78-7.78 2.81-2.81c.8-.78.8-2.07 0-2.86zM5.41 20L4 18.59l7.72-7.72 1.47 1.35L5.41 20z\"/>\n",
              "  </svg>\n",
              "      </button>\n",
              "      \n",
              "  <style>\n",
              "    .colab-df-container {\n",
              "      display:flex;\n",
              "      flex-wrap:wrap;\n",
              "      gap: 12px;\n",
              "    }\n",
              "\n",
              "    .colab-df-convert {\n",
              "      background-color: #E8F0FE;\n",
              "      border: none;\n",
              "      border-radius: 50%;\n",
              "      cursor: pointer;\n",
              "      display: none;\n",
              "      fill: #1967D2;\n",
              "      height: 32px;\n",
              "      padding: 0 0 0 0;\n",
              "      width: 32px;\n",
              "    }\n",
              "\n",
              "    .colab-df-convert:hover {\n",
              "      background-color: #E2EBFA;\n",
              "      box-shadow: 0px 1px 2px rgba(60, 64, 67, 0.3), 0px 1px 3px 1px rgba(60, 64, 67, 0.15);\n",
              "      fill: #174EA6;\n",
              "    }\n",
              "\n",
              "    [theme=dark] .colab-df-convert {\n",
              "      background-color: #3B4455;\n",
              "      fill: #D2E3FC;\n",
              "    }\n",
              "\n",
              "    [theme=dark] .colab-df-convert:hover {\n",
              "      background-color: #434B5C;\n",
              "      box-shadow: 0px 1px 3px 1px rgba(0, 0, 0, 0.15);\n",
              "      filter: drop-shadow(0px 1px 2px rgba(0, 0, 0, 0.3));\n",
              "      fill: #FFFFFF;\n",
              "    }\n",
              "  </style>\n",
              "\n",
              "      <script>\n",
              "        const buttonEl =\n",
              "          document.querySelector('#df-8fae2622-cbd1-4ad9-a47c-f0f0a5fd6246 button.colab-df-convert');\n",
              "        buttonEl.style.display =\n",
              "          google.colab.kernel.accessAllowed ? 'block' : 'none';\n",
              "\n",
              "        async function convertToInteractive(key) {\n",
              "          const element = document.querySelector('#df-8fae2622-cbd1-4ad9-a47c-f0f0a5fd6246');\n",
              "          const dataTable =\n",
              "            await google.colab.kernel.invokeFunction('convertToInteractive',\n",
              "                                                     [key], {});\n",
              "          if (!dataTable) return;\n",
              "\n",
              "          const docLinkHtml = 'Like what you see? Visit the ' +\n",
              "            '<a target=\"_blank\" href=https://colab.research.google.com/notebooks/data_table.ipynb>data table notebook</a>'\n",
              "            + ' to learn more about interactive tables.';\n",
              "          element.innerHTML = '';\n",
              "          dataTable['output_type'] = 'display_data';\n",
              "          await google.colab.output.renderOutput(dataTable, element);\n",
              "          const docLink = document.createElement('div');\n",
              "          docLink.innerHTML = docLinkHtml;\n",
              "          element.appendChild(docLink);\n",
              "        }\n",
              "      </script>\n",
              "    </div>\n",
              "  </div>\n",
              "  "
            ]
          },
          "metadata": {},
          "execution_count": 69
        }
      ]
    },
    {
      "cell_type": "markdown",
      "source": [
        "From the descriptive statistics we notice that our dataset is regularized with each column obtaining values between min:0 and max:1 .\n",
        "The dataset is rich in terms of features spanning through 95 different metrics for determining the bankruptcy of a company.\n",
        "\n",
        "The next step is to split the data into the training and test sets. \n",
        "\n",
        "Note: We could also (optionaly) introduce the “random_state” input in the “train_test_split” command to have reproductivity of the results. (set seed for the “random” splits)\n"
      ],
      "metadata": {
        "id": "Es6yuhrk8UpY"
      },
      "id": "Es6yuhrk8UpY"
    },
    {
      "cell_type": "code",
      "source": [
        "y = df['Bankrupt?']\n",
        "X = df.drop(columns=['Bankrupt?'])\n",
        "X_train, X_test, y_train, y_test = train_test_split(X, y, test_size=0.2)\n",
        "X_test, X_valid, y_test, y_valid = train_test_split(X_test, y_test, test_size=0.5)"
      ],
      "metadata": {
        "id": "5xggTjFSbCgH"
      },
      "id": "5xggTjFSbCgH",
      "execution_count": null,
      "outputs": []
    },
    {
      "cell_type": "code",
      "source": [
        "import seaborn as sns\n",
        "import matplotlib.pyplot as plt\n",
        "from tensorflow import keras"
      ],
      "metadata": {
        "id": "ZHwa48GQbCeD"
      },
      "id": "ZHwa48GQbCeD",
      "execution_count": null,
      "outputs": []
    },
    {
      "cell_type": "markdown",
      "source": [
        "A popular library in the Scikit-learn module to select the “best” features of a given dataset is SelectKbest . The SelectKBest method selects the features according to the K highest score. By changing the 'score_func' parameter we can apply the method for both classification and regression data. Selecting the most important features is a critical process when we prepare a large dataset for training."
      ],
      "metadata": {
        "id": "FGQuFAmi8Zjs"
      },
      "id": "FGQuFAmi8Zjs"
    },
    {
      "cell_type": "code",
      "source": [
        "from sklearn.feature_selection import SelectKBest, f_classif\n",
        "from sklearn.model_selection import train_test_split"
      ],
      "metadata": {
        "id": "Yu87uVHvbCbt"
      },
      "id": "Yu87uVHvbCbt",
      "execution_count": null,
      "outputs": []
    },
    {
      "cell_type": "markdown",
      "source": [
        "Import additional packages/module\n",
        "The choice of 20 most important features was our target, as a consensus view, enough to predict the bankruptcies observed.\n"
      ],
      "metadata": {
        "id": "sG3IY0rz8r5B"
      },
      "id": "sG3IY0rz8r5B"
    },
    {
      "cell_type": "code",
      "source": [
        "feature_selection=SelectKBest(f_classif,k=20).fit(X_train,y_train) # k number of specified features\n",
        "selected_features=X_train.columns[feature_selection.get_support()]"
      ],
      "metadata": {
        "id": "hU8PyZuTbCZZ",
        "colab": {
          "base_uri": "https://localhost:8080/"
        },
        "outputId": "72084b15-3e07-44ff-c1ae-34e3cae945eb"
      },
      "id": "hU8PyZuTbCZZ",
      "execution_count": null,
      "outputs": [
        {
          "output_type": "stream",
          "name": "stderr",
          "text": [
            "/usr/local/lib/python3.7/dist-packages/sklearn/feature_selection/_univariate_selection.py:112: UserWarning: Features [93] are constant.\n",
            "  warnings.warn(\"Features %s are constant.\" % constant_features_idx, UserWarning)\n",
            "/usr/local/lib/python3.7/dist-packages/sklearn/feature_selection/_univariate_selection.py:113: RuntimeWarning: invalid value encountered in true_divide\n",
            "  f = msb / msw\n"
          ]
        }
      ]
    },
    {
      "cell_type": "code",
      "source": [
        "selected_features"
      ],
      "metadata": {
        "id": "64cXDrOLbCXL",
        "colab": {
          "base_uri": "https://localhost:8080/"
        },
        "outputId": "109a6732-4702-4235-cad5-ca05ada36e1e"
      },
      "id": "64cXDrOLbCXL",
      "execution_count": null,
      "outputs": [
        {
          "output_type": "execute_result",
          "data": {
            "text/plain": [
              "Index([' ROA(C) before interest and depreciation before interest',\n",
              "       ' ROA(A) before interest and % after tax',\n",
              "       ' ROA(B) before interest and depreciation after tax',\n",
              "       ' Net Value Per Share (B)', ' Net Value Per Share (A)',\n",
              "       ' Net Value Per Share (C)', ' Persistent EPS in the Last Four Seasons',\n",
              "       ' Operating Profit Per Share (Yuan ¥)',\n",
              "       ' Per Share Net profit before tax (Yuan ¥)', ' Debt ratio %',\n",
              "       ' Net worth/Assets', ' Borrowing dependency',\n",
              "       ' Operating profit/Paid-in capital',\n",
              "       ' Net profit before tax/Paid-in capital',\n",
              "       ' Working Capital to Total Assets', ' Current Liability to Assets',\n",
              "       ' Retained Earnings to Total Assets',\n",
              "       ' Current Liability to Current Assets', ' Net Income to Total Assets',\n",
              "       ' Net Income to Stockholder's Equity'],\n",
              "      dtype='object')"
            ]
          },
          "metadata": {},
          "execution_count": 75
        }
      ]
    },
    {
      "cell_type": "markdown",
      "source": [
        "The selected features have been also used in the analysis part (1).However, the result is slightly different as we use the standardized dataset in part 1) "
      ],
      "metadata": {
        "id": "BSmLEYSS8iTr"
      },
      "id": "BSmLEYSS8iTr"
    },
    {
      "cell_type": "markdown",
      "source": [
        "### Simple Deep Learning Network"
      ],
      "metadata": {
        "id": "u13Zx_nL8FlJ"
      },
      "id": "u13Zx_nL8FlJ"
    },
    {
      "cell_type": "markdown",
      "source": [
        "For our first approach, a simple DL network will be presented without taking any account of the imbalanced set to set the basis and see how a simple Sequential model will behave. \n",
        "\n",
        "The DL network model will be a Sequential model with 2 dense layers, both with activation functions ‘ReLu’ (Rectify Linear) and an output layer with the sigmoid activation function to ensure predictions are probabilities in the range [0,1].\n",
        "Stochastic gradiend decent will be used as the fitting optimizer and the loss function will be “binary crossentropy” as the best choice for the classification problem.\n"
      ],
      "metadata": {
        "id": "2QoVfku788Dv"
      },
      "id": "2QoVfku788Dv"
    },
    {
      "cell_type": "code",
      "source": [
        "model = keras.models.Sequential([\n",
        "    keras.layers.Input(shape=(20,)),\n",
        "    keras.layers.Dense(33, activation='relu'),\n",
        "    keras.layers.Dense(11, activation='relu'),\n",
        "    keras.layers.Dense(1, activation='sigmoid')\n",
        "])"
      ],
      "metadata": {
        "id": "Iw4yWKlKbCSW"
      },
      "id": "Iw4yWKlKbCSW",
      "execution_count": null,
      "outputs": []
    },
    {
      "cell_type": "code",
      "source": [
        "model.compile(loss='binary_crossentropy',\n",
        "             optimizer='sgd',\n",
        "             metrics=['accuracy'])"
      ],
      "metadata": {
        "id": "-YEpCUw2bCP4"
      },
      "id": "-YEpCUw2bCP4",
      "execution_count": null,
      "outputs": []
    },
    {
      "cell_type": "code",
      "source": [
        "X_train = X_train[selected_features]"
      ],
      "metadata": {
        "id": "lq6EL3h3bCLv"
      },
      "id": "lq6EL3h3bCLv",
      "execution_count": null,
      "outputs": []
    },
    {
      "cell_type": "code",
      "source": [
        "X_valid = X_valid[selected_features]"
      ],
      "metadata": {
        "id": "rRp7MlS2bCGQ"
      },
      "id": "rRp7MlS2bCGQ",
      "execution_count": null,
      "outputs": []
    },
    {
      "cell_type": "code",
      "source": [
        "X_test = X_test[selected_features]"
      ],
      "metadata": {
        "id": "UlbPBdPsbS6V"
      },
      "id": "UlbPBdPsbS6V",
      "execution_count": null,
      "outputs": []
    },
    {
      "cell_type": "code",
      "source": [
        "history = model.fit(X_train, y_train, epochs=30, validation_data=(X_valid, y_valid))"
      ],
      "metadata": {
        "id": "rUTwnk0QbS4J",
        "colab": {
          "base_uri": "https://localhost:8080/"
        },
        "outputId": "cc6f9958-2fb8-408e-c841-76bea4419029"
      },
      "id": "rUTwnk0QbS4J",
      "execution_count": null,
      "outputs": [
        {
          "output_type": "stream",
          "name": "stdout",
          "text": [
            "Epoch 1/30\n",
            "171/171 [==============================] - 1s 3ms/step - loss: 0.3849 - accuracy: 0.9148 - val_loss: 0.1797 - val_accuracy: 0.9692\n",
            "Epoch 2/30\n",
            "171/171 [==============================] - 0s 2ms/step - loss: 0.1534 - accuracy: 0.9672 - val_loss: 0.1356 - val_accuracy: 0.9692\n",
            "Epoch 3/30\n",
            "171/171 [==============================] - 0s 2ms/step - loss: 0.1394 - accuracy: 0.9672 - val_loss: 0.1323 - val_accuracy: 0.9692\n",
            "Epoch 4/30\n",
            "171/171 [==============================] - 0s 2ms/step - loss: 0.1383 - accuracy: 0.9672 - val_loss: 0.1319 - val_accuracy: 0.9692\n",
            "Epoch 5/30\n",
            "171/171 [==============================] - 0s 2ms/step - loss: 0.1381 - accuracy: 0.9672 - val_loss: 0.1318 - val_accuracy: 0.9692\n",
            "Epoch 6/30\n",
            "171/171 [==============================] - 0s 2ms/step - loss: 0.1380 - accuracy: 0.9672 - val_loss: 0.1317 - val_accuracy: 0.9692\n",
            "Epoch 7/30\n",
            "171/171 [==============================] - 0s 2ms/step - loss: 0.1378 - accuracy: 0.9672 - val_loss: 0.1316 - val_accuracy: 0.9692\n",
            "Epoch 8/30\n",
            "171/171 [==============================] - 0s 2ms/step - loss: 0.1378 - accuracy: 0.9672 - val_loss: 0.1315 - val_accuracy: 0.9692\n",
            "Epoch 9/30\n",
            "171/171 [==============================] - 0s 2ms/step - loss: 0.1376 - accuracy: 0.9672 - val_loss: 0.1314 - val_accuracy: 0.9692\n",
            "Epoch 10/30\n",
            "171/171 [==============================] - 0s 2ms/step - loss: 0.1375 - accuracy: 0.9672 - val_loss: 0.1313 - val_accuracy: 0.9692\n",
            "Epoch 11/30\n",
            "171/171 [==============================] - 0s 2ms/step - loss: 0.1374 - accuracy: 0.9672 - val_loss: 0.1312 - val_accuracy: 0.9692\n",
            "Epoch 12/30\n",
            "171/171 [==============================] - 0s 2ms/step - loss: 0.1372 - accuracy: 0.9672 - val_loss: 0.1311 - val_accuracy: 0.9692\n",
            "Epoch 13/30\n",
            "171/171 [==============================] - 0s 2ms/step - loss: 0.1371 - accuracy: 0.9672 - val_loss: 0.1310 - val_accuracy: 0.9692\n",
            "Epoch 14/30\n",
            "171/171 [==============================] - 0s 2ms/step - loss: 0.1370 - accuracy: 0.9672 - val_loss: 0.1309 - val_accuracy: 0.9692\n",
            "Epoch 15/30\n",
            "171/171 [==============================] - 0s 2ms/step - loss: 0.1368 - accuracy: 0.9672 - val_loss: 0.1308 - val_accuracy: 0.9692\n",
            "Epoch 16/30\n",
            "171/171 [==============================] - 0s 2ms/step - loss: 0.1367 - accuracy: 0.9672 - val_loss: 0.1307 - val_accuracy: 0.9692\n",
            "Epoch 17/30\n",
            "171/171 [==============================] - 0s 2ms/step - loss: 0.1366 - accuracy: 0.9672 - val_loss: 0.1306 - val_accuracy: 0.9692\n",
            "Epoch 18/30\n",
            "171/171 [==============================] - 0s 2ms/step - loss: 0.1364 - accuracy: 0.9672 - val_loss: 0.1304 - val_accuracy: 0.9692\n",
            "Epoch 19/30\n",
            "171/171 [==============================] - 0s 2ms/step - loss: 0.1363 - accuracy: 0.9672 - val_loss: 0.1304 - val_accuracy: 0.9692\n",
            "Epoch 20/30\n",
            "171/171 [==============================] - 0s 2ms/step - loss: 0.1362 - accuracy: 0.9672 - val_loss: 0.1302 - val_accuracy: 0.9692\n",
            "Epoch 21/30\n",
            "171/171 [==============================] - 0s 2ms/step - loss: 0.1360 - accuracy: 0.9672 - val_loss: 0.1301 - val_accuracy: 0.9692\n",
            "Epoch 22/30\n",
            "171/171 [==============================] - 0s 2ms/step - loss: 0.1359 - accuracy: 0.9672 - val_loss: 0.1300 - val_accuracy: 0.9692\n",
            "Epoch 23/30\n",
            "171/171 [==============================] - 0s 2ms/step - loss: 0.1357 - accuracy: 0.9672 - val_loss: 0.1299 - val_accuracy: 0.9692\n",
            "Epoch 24/30\n",
            "171/171 [==============================] - 0s 2ms/step - loss: 0.1356 - accuracy: 0.9672 - val_loss: 0.1298 - val_accuracy: 0.9692\n",
            "Epoch 25/30\n",
            "171/171 [==============================] - 0s 2ms/step - loss: 0.1354 - accuracy: 0.9672 - val_loss: 0.1296 - val_accuracy: 0.9692\n",
            "Epoch 26/30\n",
            "171/171 [==============================] - 0s 2ms/step - loss: 0.1353 - accuracy: 0.9672 - val_loss: 0.1296 - val_accuracy: 0.9692\n",
            "Epoch 27/30\n",
            "171/171 [==============================] - 0s 2ms/step - loss: 0.1351 - accuracy: 0.9672 - val_loss: 0.1294 - val_accuracy: 0.9692\n",
            "Epoch 28/30\n",
            "171/171 [==============================] - 0s 2ms/step - loss: 0.1350 - accuracy: 0.9672 - val_loss: 0.1293 - val_accuracy: 0.9692\n",
            "Epoch 29/30\n",
            "171/171 [==============================] - 0s 2ms/step - loss: 0.1348 - accuracy: 0.9672 - val_loss: 0.1292 - val_accuracy: 0.9692\n",
            "Epoch 30/30\n",
            "171/171 [==============================] - 0s 2ms/step - loss: 0.1347 - accuracy: 0.9672 - val_loss: 0.1291 - val_accuracy: 0.9692\n"
          ]
        }
      ]
    },
    {
      "cell_type": "code",
      "source": [
        "score = model.evaluate(X_test ,y_test, batch_size = 128)"
      ],
      "metadata": {
        "id": "pVsFQpnKbS1u",
        "colab": {
          "base_uri": "https://localhost:8080/"
        },
        "outputId": "de620fd9-fad3-40e6-aa2d-8c803688c298"
      },
      "id": "pVsFQpnKbS1u",
      "execution_count": null,
      "outputs": [
        {
          "output_type": "stream",
          "name": "stdout",
          "text": [
            "6/6 [==============================] - 0s 3ms/step - loss: 0.1239 - accuracy: 0.9707\n"
          ]
        }
      ]
    },
    {
      "cell_type": "markdown",
      "source": [
        "The validation accuracy achieved is around 97.07%. \n",
        "\n",
        "The accuracy of the network is evaluated on the test dataset at a value of 96.92%.\n"
      ],
      "metadata": {
        "id": "GbmZo3la8_YH"
      },
      "id": "GbmZo3la8_YH"
    },
    {
      "cell_type": "markdown",
      "source": [
        "### Weighted/Cost sensitive Deep Learning Network"
      ],
      "metadata": {
        "id": "IluNC3XZurVT"
      },
      "id": "IluNC3XZurVT"
    },
    {
      "cell_type": "markdown",
      "source": [
        "The backpropagation method that neural networks use in their training process, poses a limitation of this method, as examples from each class are treated with the same weights, which for imbalanced datasets means that the model is adapted a lot more for one class than another.\n",
        "The backpropagation algorithm can be modified based on misclassification errors in proportion to the importance of the class, referred to as weighted neural networks or cost-sensitive neural networks. This has the effect of allowing the model to account with greater impact on cases from the minority class than the majority class in datasets which are severely skewed.\n",
        "\n",
        "The implemented method for our DL architecture was based on the example found here:\n",
        "(https://machinelearningmastery.com/cost-sensitive-neural-network-for-imbalanced-classification/)\n"
      ],
      "metadata": {
        "id": "MFo_UXus9Ut1"
      },
      "id": "MFo_UXus9Ut1"
    },
    {
      "cell_type": "markdown",
      "source": [
        "Assign weights for each class on a scale from 1 to 100. \n",
        "\n",
        "The class distribution of the test dataset is a 1:100 ratio for the minority class to the majority class. The reduction of the error from the majority class is dramatically scaled down to very small numbers that may have limited or only a very minor effect on model weights.\n"
      ],
      "metadata": {
        "id": "-PGBjRzn9hQ_"
      },
      "id": "-PGBjRzn9hQ_"
    },
    {
      "cell_type": "code",
      "source": [
        "class_weight = {0: 1.,\n",
        "                1: 100.}"
      ],
      "metadata": {
        "id": "MldRlALz9UJI"
      },
      "id": "MldRlALz9UJI",
      "execution_count": null,
      "outputs": []
    },
    {
      "cell_type": "markdown",
      "source": [
        "As before, the architecture of the network will be the same."
      ],
      "metadata": {
        "id": "Z3Y2Ygff9jHc"
      },
      "id": "Z3Y2Ygff9jHc"
    },
    {
      "cell_type": "code",
      "source": [
        "model = keras.models.Sequential([\n",
        "    keras.layers.Input(shape=(20,)),\n",
        "    keras.layers.Dense(33, activation='relu'),\n",
        "    keras.layers.Dense(11, activation='relu'),\n",
        "    keras.layers.Dense(1, activation='sigmoid')\n",
        "])"
      ],
      "metadata": {
        "id": "4iVnTsF7vpY3"
      },
      "execution_count": null,
      "outputs": [],
      "id": "4iVnTsF7vpY3"
    },
    {
      "cell_type": "code",
      "source": [
        "model.compile(loss='binary_crossentropy',\n",
        "             optimizer='sgd',\n",
        "             metrics=['accuracy'])"
      ],
      "metadata": {
        "id": "MxFc13ZmvpY4"
      },
      "execution_count": null,
      "outputs": [],
      "id": "MxFc13ZmvpY4"
    },
    {
      "cell_type": "markdown",
      "source": [
        "The train and validation sets will be reduced to the appropriate sizes based on the most important features selected by the “SelectKbest” method presented before. The number of epochs chosen is 30. "
      ],
      "metadata": {
        "id": "39DuCno99r_S"
      },
      "id": "39DuCno99r_S"
    },
    {
      "cell_type": "code",
      "source": [
        "X_train = X_train[selected_features]"
      ],
      "metadata": {
        "id": "qTkZmQ-6vpY4"
      },
      "execution_count": null,
      "outputs": [],
      "id": "qTkZmQ-6vpY4"
    },
    {
      "cell_type": "code",
      "source": [
        "X_valid = X_valid[selected_features]"
      ],
      "metadata": {
        "id": "eDXdYMqHvpY4"
      },
      "execution_count": null,
      "outputs": [],
      "id": "eDXdYMqHvpY4"
    },
    {
      "cell_type": "code",
      "source": [
        "X_test = X_test[selected_features]"
      ],
      "metadata": {
        "id": "kLSoebvdvpY4"
      },
      "execution_count": null,
      "outputs": [],
      "id": "kLSoebvdvpY4"
    },
    {
      "cell_type": "markdown",
      "source": [
        "This time in the fitting command we will introduce the class weights as discussed above."
      ],
      "metadata": {
        "id": "4Cp8ZZyu9xTw"
      },
      "id": "4Cp8ZZyu9xTw"
    },
    {
      "cell_type": "code",
      "source": [
        "history = model.fit(X_train, y_train, epochs=30, class_weight=class_weight, validation_data=(X_valid, y_valid))"
      ],
      "metadata": {
        "id": "kzArZqCCvpY4",
        "colab": {
          "base_uri": "https://localhost:8080/"
        },
        "outputId": "9d99708d-4bea-4c08-986d-99905e48e2b7"
      },
      "execution_count": null,
      "outputs": [
        {
          "output_type": "stream",
          "name": "stdout",
          "text": [
            "Epoch 1/30\n",
            "171/171 [==============================] - 1s 3ms/step - loss: 2.3792 - accuracy: 0.0328 - val_loss: 1.3304 - val_accuracy: 0.0308\n",
            "Epoch 2/30\n",
            "171/171 [==============================] - 0s 2ms/step - loss: 2.2806 - accuracy: 0.0328 - val_loss: 1.4622 - val_accuracy: 0.0308\n",
            "Epoch 3/30\n",
            "171/171 [==============================] - 0s 2ms/step - loss: 2.2535 - accuracy: 0.0328 - val_loss: 1.5371 - val_accuracy: 0.0308\n",
            "Epoch 4/30\n",
            "171/171 [==============================] - 0s 2ms/step - loss: 2.1841 - accuracy: 0.0328 - val_loss: 1.3902 - val_accuracy: 0.0308\n",
            "Epoch 5/30\n",
            "171/171 [==============================] - 0s 2ms/step - loss: 2.0801 - accuracy: 0.0328 - val_loss: 1.0931 - val_accuracy: 0.0308\n",
            "Epoch 6/30\n",
            "171/171 [==============================] - 0s 2ms/step - loss: 1.9537 - accuracy: 0.0328 - val_loss: 1.0665 - val_accuracy: 0.0308\n",
            "Epoch 7/30\n",
            "171/171 [==============================] - 0s 2ms/step - loss: 1.7743 - accuracy: 0.1652 - val_loss: 0.9466 - val_accuracy: 0.3035\n",
            "Epoch 8/30\n",
            "171/171 [==============================] - 0s 2ms/step - loss: 1.7233 - accuracy: 0.3505 - val_loss: 1.0884 - val_accuracy: 0.2742\n",
            "Epoch 9/30\n",
            "171/171 [==============================] - 0s 2ms/step - loss: 1.5780 - accuracy: 0.4504 - val_loss: 0.4769 - val_accuracy: 0.8358\n",
            "Epoch 10/30\n",
            "171/171 [==============================] - 0s 2ms/step - loss: 1.6230 - accuracy: 0.4849 - val_loss: 0.3925 - val_accuracy: 0.8871\n",
            "Epoch 11/30\n",
            "171/171 [==============================] - 0s 2ms/step - loss: 1.6482 - accuracy: 0.4829 - val_loss: 0.6214 - val_accuracy: 0.6935\n",
            "Epoch 12/30\n",
            "171/171 [==============================] - 0s 3ms/step - loss: 1.4686 - accuracy: 0.5573 - val_loss: 1.3124 - val_accuracy: 0.3152\n",
            "Epoch 13/30\n",
            "171/171 [==============================] - 1s 3ms/step - loss: 1.4489 - accuracy: 0.5529 - val_loss: 0.4168 - val_accuracy: 0.8372\n",
            "Epoch 14/30\n",
            "171/171 [==============================] - 1s 7ms/step - loss: 1.4782 - accuracy: 0.5611 - val_loss: 0.6869 - val_accuracy: 0.6569\n",
            "Epoch 15/30\n",
            "171/171 [==============================] - 1s 6ms/step - loss: 1.5001 - accuracy: 0.5732 - val_loss: 0.9313 - val_accuracy: 0.5235\n",
            "Epoch 16/30\n",
            "171/171 [==============================] - 1s 6ms/step - loss: 1.4530 - accuracy: 0.5727 - val_loss: 0.4901 - val_accuracy: 0.8035\n",
            "Epoch 17/30\n",
            "171/171 [==============================] - 0s 2ms/step - loss: 1.4474 - accuracy: 0.5844 - val_loss: 0.6159 - val_accuracy: 0.6950\n",
            "Epoch 18/30\n",
            "171/171 [==============================] - 0s 2ms/step - loss: 1.4925 - accuracy: 0.5764 - val_loss: 2.8264 - val_accuracy: 0.0499\n",
            "Epoch 19/30\n",
            "171/171 [==============================] - 0s 2ms/step - loss: 1.4376 - accuracy: 0.5600 - val_loss: 1.1163 - val_accuracy: 0.3886\n",
            "Epoch 20/30\n",
            "171/171 [==============================] - 0s 2ms/step - loss: 1.3510 - accuracy: 0.5998 - val_loss: 3.2774 - val_accuracy: 0.0587\n",
            "Epoch 21/30\n",
            "171/171 [==============================] - 0s 2ms/step - loss: 1.4020 - accuracy: 0.5826 - val_loss: 3.5032 - val_accuracy: 0.0499\n",
            "Epoch 22/30\n",
            "171/171 [==============================] - 0s 2ms/step - loss: 1.4091 - accuracy: 0.5872 - val_loss: 0.6299 - val_accuracy: 0.6979\n",
            "Epoch 23/30\n",
            "171/171 [==============================] - 0s 2ms/step - loss: 1.4414 - accuracy: 0.5995 - val_loss: 2.3859 - val_accuracy: 0.0894\n",
            "Epoch 24/30\n",
            "171/171 [==============================] - 0s 2ms/step - loss: 1.3598 - accuracy: 0.5877 - val_loss: 1.1468 - val_accuracy: 0.4223\n",
            "Epoch 25/30\n",
            "171/171 [==============================] - 0s 2ms/step - loss: 1.3768 - accuracy: 0.5982 - val_loss: 0.7982 - val_accuracy: 0.5968\n",
            "Epoch 26/30\n",
            "171/171 [==============================] - 0s 2ms/step - loss: 1.3531 - accuracy: 0.6007 - val_loss: 2.7436 - val_accuracy: 0.0880\n",
            "Epoch 27/30\n",
            "171/171 [==============================] - 0s 2ms/step - loss: 1.3708 - accuracy: 0.6077 - val_loss: 2.4102 - val_accuracy: 0.1393\n",
            "Epoch 28/30\n",
            "171/171 [==============================] - 0s 2ms/step - loss: 1.3290 - accuracy: 0.6090 - val_loss: 0.4616 - val_accuracy: 0.8138\n",
            "Epoch 29/30\n",
            "171/171 [==============================] - 0s 2ms/step - loss: 1.3413 - accuracy: 0.6286 - val_loss: 0.6902 - val_accuracy: 0.6760\n",
            "Epoch 30/30\n",
            "171/171 [==============================] - 0s 2ms/step - loss: 1.4498 - accuracy: 0.5764 - val_loss: 0.5920 - val_accuracy: 0.7155\n"
          ]
        }
      ],
      "id": "kzArZqCCvpY4"
    },
    {
      "cell_type": "code",
      "source": [
        "score = model.evaluate(X_test ,y_test, batch_size = 128)"
      ],
      "metadata": {
        "id": "k_ThlG1ovpY4",
        "colab": {
          "base_uri": "https://localhost:8080/"
        },
        "outputId": "47a05bab-c458-4a7b-92de-f191431e9793"
      },
      "execution_count": null,
      "outputs": [
        {
          "output_type": "stream",
          "name": "stdout",
          "text": [
            "6/6 [==============================] - 0s 2ms/step - loss: 0.5682 - accuracy: 0.7214\n"
          ]
        }
      ],
      "id": "k_ThlG1ovpY4"
    },
    {
      "cell_type": "markdown",
      "source": [
        "The validation accuracy achieved is around 71.55%. \n",
        "\n",
        "The accuracy of the network is evaluated on the test dataset at a value of 65.2%.\n"
      ],
      "metadata": {
        "id": "bJCwSMAc98lA"
      },
      "id": "bJCwSMAc98lA"
    },
    {
      "cell_type": "markdown",
      "source": [
        "The accuracy of this cost sensitive neural network is given by the ROC-AUC (Receiver Operating Characteristic Curve - Area Under Curve) score which is the measure of the ability of a classifier to distinguish between classes and is used as a summary of the ROC curve."
      ],
      "metadata": {
        "id": "TtOf0V4w-B__"
      },
      "id": "TtOf0V4w-B__"
    },
    {
      "cell_type": "code",
      "source": [
        "yhat = model.predict(X_test)"
      ],
      "metadata": {
        "id": "x-Z103hcvghL"
      },
      "id": "x-Z103hcvghL",
      "execution_count": null,
      "outputs": []
    },
    {
      "cell_type": "code",
      "source": [
        "from sklearn.metrics import roc_auc_score\n",
        "score = roc_auc_score(y_test, yhat)"
      ],
      "metadata": {
        "id": "zcJLRgqcvgXq"
      },
      "id": "zcJLRgqcvgXq",
      "execution_count": null,
      "outputs": []
    },
    {
      "cell_type": "code",
      "source": [
        "print('ROC AUC: %.3f' % score)"
      ],
      "metadata": {
        "id": "xcMcv7Gnv5XT",
        "colab": {
          "base_uri": "https://localhost:8080/"
        },
        "outputId": "cded5e24-b754-442b-b648-15156415129d"
      },
      "id": "xcMcv7Gnv5XT",
      "execution_count": null,
      "outputs": [
        {
          "output_type": "stream",
          "name": "stdout",
          "text": [
            "ROC AUC: 0.927\n"
          ]
        }
      ]
    },
    {
      "cell_type": "markdown",
      "source": [
        "### Hyper-Parametrization"
      ],
      "metadata": {
        "id": "zGLT59DBuuLo"
      },
      "id": "zGLT59DBuuLo"
    },
    {
      "cell_type": "markdown",
      "source": [
        "As a final part we will also present a useful Keras library that would provide another approach to our classification problem. The Keras Tuner is a library that helps pick the optimal set of hyperparameters for TensorFlow. The process of selecting the right set of hyperparameters for the machine learning architecture is called “hyper parameter tuning”. \n",
        "The model build is a sequential model with 2 hidden layers with similar activation functions.\n"
      ],
      "metadata": {
        "id": "SpQ_kVLk-G4i"
      },
      "id": "SpQ_kVLk-G4i"
    },
    {
      "cell_type": "code",
      "source": [
        "import keras_tuner as kt"
      ],
      "metadata": {
        "id": "KPOzmnvtbSze"
      },
      "id": "KPOzmnvtbSze",
      "execution_count": null,
      "outputs": []
    },
    {
      "cell_type": "code",
      "source": [
        "# install keras_tuner\n",
        "#import sys\n",
        "#!{sys.executable} -m pip install keras_tuner"
      ],
      "metadata": {
        "id": "5o3OsoP2YG5P"
      },
      "id": "5o3OsoP2YG5P",
      "execution_count": null,
      "outputs": []
    },
    {
      "cell_type": "code",
      "source": [
        "def build_model(hp):\n",
        "    model = keras.Sequential()\n",
        "    model.add(keras.layers.Dense(units=hp.Int('units',\n",
        "                             min_value=25,\n",
        "                             max_value=125,\n",
        "                             step=25),\n",
        "                 activation='relu'))\n",
        "    model.add(keras.layers.Dense(\n",
        "        hp.Choice('units', [4, 8, 12, 16]),\n",
        "        activation='relu'))\n",
        "    model.add(keras.layers.Dense(1, activation='sigmoid'))\n",
        "    model.compile(loss='binary_crossentropy',\n",
        "             optimizer='sgd',\n",
        "             metrics=['accuracy'])\n",
        "    return model"
      ],
      "metadata": {
        "id": "w3VayuGpbSxJ"
      },
      "id": "w3VayuGpbSxJ",
      "execution_count": null,
      "outputs": []
    },
    {
      "cell_type": "markdown",
      "source": [
        "The RandomSearch tuner will be used to manage the hyperparameter search process, including model creation, training, and evaluation."
      ],
      "metadata": {
        "id": "7Pf-mV9n-J1d"
      },
      "id": "7Pf-mV9n-J1d"
    },
    {
      "cell_type": "markdown",
      "source": [
        "Note: The directory path should be changed into a new folder directory before runtime."
      ],
      "metadata": {
        "id": "F__5Pt88-Kv3"
      },
      "id": "F__5Pt88-Kv3"
    },
    {
      "cell_type": "code",
      "source": [
        "tuner = kt.RandomSearch(\n",
        "    build_model,\n",
        "    objective='val_accuracy',\n",
        "    directory='/Users/spyrostsatsis/Desktop/untitled_project',\n",
        ")"
      ],
      "metadata": {
        "id": "rgaALMi_bSuz"
      },
      "id": "rgaALMi_bSuz",
      "execution_count": null,
      "outputs": []
    },
    {
      "cell_type": "markdown",
      "source": [
        "Using the following commands, we will extract again the “best” features for our dataset and train the model through the scope of the hyper parameterization."
      ],
      "metadata": {
        "id": "af0jKb6M-Rcw"
      },
      "id": "af0jKb6M-Rcw"
    },
    {
      "cell_type": "code",
      "source": [
        "tuner.search(X_train, y_train, epochs=5, validation_data=(X_valid, y_valid))\n",
        "best_hp=tuner.get_best_hyperparameters(num_trials=1)[0]"
      ],
      "metadata": {
        "id": "Mv3_CvFFbSsU",
        "colab": {
          "base_uri": "https://localhost:8080/"
        },
        "outputId": "e46183e2-022b-4420-80fd-22db1b691f5e"
      },
      "id": "Mv3_CvFFbSsU",
      "execution_count": null,
      "outputs": [
        {
          "output_type": "stream",
          "name": "stdout",
          "text": [
            "Trial 4 Complete [00h 00m 05s]\n",
            "val_accuracy: 0.9692082405090332\n",
            "\n",
            "Best val_accuracy So Far: 0.9692082405090332\n",
            "Total elapsed time: 00h 00m 23s\n",
            "INFO:tensorflow:Oracle triggered exit\n"
          ]
        }
      ]
    },
    {
      "cell_type": "code",
      "source": [
        "best_hp.get('units')"
      ],
      "metadata": {
        "id": "3UN5v8AhbSp2",
        "colab": {
          "base_uri": "https://localhost:8080/"
        },
        "outputId": "f618bb99-e1b4-4d10-e7dd-b172e805c645"
      },
      "id": "3UN5v8AhbSp2",
      "execution_count": null,
      "outputs": [
        {
          "output_type": "execute_result",
          "data": {
            "text/plain": [
              "75"
            ]
          },
          "metadata": {},
          "execution_count": 111
        }
      ]
    },
    {
      "cell_type": "code",
      "source": [
        "nnModel = tuner.hypermodel.build(best_hp)"
      ],
      "metadata": {
        "id": "joq70Jv3bgtv"
      },
      "id": "joq70Jv3bgtv",
      "execution_count": null,
      "outputs": []
    },
    {
      "cell_type": "markdown",
      "source": [
        "By introducing the test set to evaluate our model we will also perform an accuracy score to assess the results."
      ],
      "metadata": {
        "id": "3RTjsuFL-VGd"
      },
      "id": "3RTjsuFL-VGd"
    },
    {
      "cell_type": "code",
      "source": [
        "y_pred = nnModel.predict(X_test)"
      ],
      "metadata": {
        "id": "T6YdTmGCbgrh"
      },
      "id": "T6YdTmGCbgrh",
      "execution_count": null,
      "outputs": []
    },
    {
      "cell_type": "code",
      "source": [
        "type(y_test)"
      ],
      "metadata": {
        "id": "IyBpXT2zbgpR",
        "colab": {
          "base_uri": "https://localhost:8080/"
        },
        "outputId": "6e35ff1e-0a1e-49c0-8978-ae80b20ae826"
      },
      "id": "IyBpXT2zbgpR",
      "execution_count": null,
      "outputs": [
        {
          "output_type": "execute_result",
          "data": {
            "text/plain": [
              "pandas.core.series.Series"
            ]
          },
          "metadata": {},
          "execution_count": 114
        }
      ]
    },
    {
      "cell_type": "code",
      "source": [
        "y_test_arr = y_test.to_numpy()"
      ],
      "metadata": {
        "id": "Dp08q0dcbgnH"
      },
      "id": "Dp08q0dcbgnH",
      "execution_count": null,
      "outputs": []
    },
    {
      "cell_type": "code",
      "source": [
        "y_pred = y_pred.astype(int)"
      ],
      "metadata": {
        "id": "0ksE38tabn4w"
      },
      "id": "0ksE38tabn4w",
      "execution_count": null,
      "outputs": []
    },
    {
      "cell_type": "code",
      "source": [
        "from sklearn.metrics import accuracy_score"
      ],
      "metadata": {
        "id": "bA8I3FYzbnz6"
      },
      "id": "bA8I3FYzbnz6",
      "execution_count": null,
      "outputs": []
    },
    {
      "cell_type": "code",
      "source": [
        "accuracy_score(y_test_arr, y_pred)"
      ],
      "metadata": {
        "id": "_vXdBLH9vSgV",
        "colab": {
          "base_uri": "https://localhost:8080/"
        },
        "outputId": "eaa71dd6-ae16-4ac7-dce7-8fe67737bb20"
      },
      "id": "_vXdBLH9vSgV",
      "execution_count": null,
      "outputs": [
        {
          "output_type": "execute_result",
          "data": {
            "text/plain": [
              "0.9706744868035191"
            ]
          },
          "metadata": {},
          "execution_count": 118
        }
      ]
    },
    {
      "cell_type": "markdown",
      "source": [
        "The achieved accuracy score is about 97.4%."
      ],
      "metadata": {
        "id": "h5RAUjdO-ctM"
      },
      "id": "h5RAUjdO-ctM"
    },
    {
      "cell_type": "code",
      "source": [
        "from sklearn.metrics import f1_score\n",
        "f1_score(y_test_arr, y_pred, average='weighted')"
      ],
      "metadata": {
        "id": "EvpCMle2jUnC",
        "colab": {
          "base_uri": "https://localhost:8080/"
        },
        "outputId": "871c23dc-3e27-4bf4-c3bb-e9afcfd2b4b9"
      },
      "id": "EvpCMle2jUnC",
      "execution_count": null,
      "outputs": [
        {
          "output_type": "execute_result",
          "data": {
            "text/plain": [
              "0.9562299259879905"
            ]
          },
          "metadata": {},
          "execution_count": 119
        }
      ]
    },
    {
      "cell_type": "markdown",
      "source": [
        "# Summary"
      ],
      "metadata": {
        "id": "Mbuc2GsHYV_e"
      },
      "id": "Mbuc2GsHYV_e"
    },
    {
      "cell_type": "markdown",
      "source": [
        "In this coursework, we have used correlation coefficient and SelectedKbest machine learning model to find most significant features to used in company bankruptcy prediction. \n",
        "\n",
        "Secondly, We have mananged to use different classifiers to find a good model in company bankruptcy prediction. We have found that Random Forest model provides F1 score 0.9531 and Hard voting model provides F1 score 0.9690. This suggest that Hard Voting model is better at predicting company bankruptcy. \n",
        "\n",
        "Finally, we have combined hyper-parametrization and learning model to predict the company bankruptcy, which provides F1 score 0.9562. \n",
        "\n",
        "Therefore, we can say that Hard voting model is a good model for company bankruptcy predictions. However, we believe that if increase the number of hidden layers in the deep learning will give us a higher result. "
      ],
      "metadata": {
        "id": "3zHp-k79YZZI"
      },
      "id": "3zHp-k79YZZI"
    }
  ],
  "metadata": {
    "kernelspec": {
      "display_name": "Python 3 (ipykernel)",
      "language": "python",
      "name": "python3"
    },
    "language_info": {
      "codemirror_mode": {
        "name": "ipython",
        "version": 3
      },
      "file_extension": ".py",
      "mimetype": "text/x-python",
      "name": "python",
      "nbconvert_exporter": "python",
      "pygments_lexer": "ipython3",
      "version": "3.10.5"
    },
    "colab": {
      "name": "SMM284_group4_finalized.ipynb",
      "provenance": [],
      "collapsed_sections": [],
      "toc_visible": true
    }
  },
  "nbformat": 4,
  "nbformat_minor": 5
}